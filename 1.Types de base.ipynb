{
 "cells": [
  {
   "cell_type": "markdown",
   "metadata": {},
   "source": [
    "# Notre premier programme\n",
    "\n",
    "Nous allons écrire ici notre premier programme écrit en C++ et nous allons détailler dans la suite chacun des éléments présents."
   ]
  },
  {
   "cell_type": "code",
   "execution_count": 1,
   "metadata": {},
   "outputs": [
    {
     "name": "stdout",
     "output_type": "stream",
     "text": [
      "Overwriting main.cpp\n"
     ]
    }
   ],
   "source": [
    "%%file main.cpp\n",
    "#include <iostream>\n",
    "#include <cmath>\n",
    "\n",
    "int main()\n",
    "{\n",
    "    double x1 = 1, y1 = 0;\n",
    "    double x2 = 0, y2 = 1;\n",
    "    \n",
    "    // calcul de la distance entre deux points\n",
    "    std::cout << \"distance -> \" << std::sqrt((x2-x1)*(x2-x1) + (y2-y1)*(y2-y1)) << \"\\n\";\n",
    "    return 0;\n",
    "}"
   ]
  },
  {
   "cell_type": "markdown",
   "metadata": {},
   "source": [
    "Ce premier exemple d'utilisation du C++ est simple et on comprend assez bien ce qui se passe. Nous avons les coordonnées de deux points, nous calculons leur distance puis nous affichons le résultat. Cet exemple comprend la plupart des éléments qui constituent un programme écrit en C++.\n",
    "\n",
    "Dans la suite, nous allons détailler chacune des lignes afin de comprendre leurs utilités.\n",
    "\n",
    "Commençons par la première ligne"
   ]
  },
  {
   "cell_type": "code",
   "execution_count": 2,
   "metadata": {
    "collapsed": true
   },
   "outputs": [],
   "source": [
    "#include <iostream>"
   ]
  },
  {
   "cell_type": "markdown",
   "metadata": {},
   "source": [
    "Lorsque vous écrivez un code en C++, vous avez besoin d'un certain nombre de fonctionalités. De base, le langage vous permet de définir des types de variable, d'initialiser ces variables, de faire des opérations dessus. Si vous voulez plus de fonctions, il est alors nécessaire d'inclure des fichiers d'entête. Comme vous pouvez le constater dans cet exemple, les fonctionalités d'écriture et de lecture ne sont pas disponibles de base dans le langage. Nous devons donc inclure `iostream` dans le but de pouvoir afficher le résultat en utilisant la fonction `std::cout`. De même, pour réaliser la racine carrée (`std::sqrt`), nous avons besoin du fichier d'entête `cmath`.\n",
    "\n",
    "L'opérateur `#` permet de définir des directives utilisées lors de l'étape du préprocesseur. Nous reviendrons par la suite sur son utilité et les autres fonctions que `include`. Nous verrons également tout au long de ce cours l'utilisation d'autres fichiers d'entête."
   ]
  },
  {
   "cell_type": "markdown",
   "metadata": {},
   "source": [
    "Lorsque l'on exécute notre programme, celui-ci cherche la fonction principale appelée `main` et commence par là. Le corps de la fonction est repéré par les accolades (on appelle ça un scope). Le corps de notre fonction `main` commence donc à l'accolade ouvrante et se termine à l'accolade fermante juste apres le `return 0;`. Elle renvoie un entier permettant de savoir si le programme s'est bien terminée. Ici, la valeur `0` signifie que le programme s'est fini sans encombre."
   ]
  },
  {
   "cell_type": "markdown",
   "metadata": {},
   "source": [
    "Viennent ensuite les lignes"
   ]
  },
  {
   "cell_type": "code",
   "execution_count": 3,
   "metadata": {},
   "outputs": [
    {
     "name": "stderr",
     "output_type": "stream",
     "text": [
      "input_line_8:2:17: error: redefinition of 'y1' as different kind of symbol\n",
      " double x1 = 1, y1 = 0;\n",
      "                ^\n",
      "/usr/include/x86_64-linux-gnu/bits/mathcalls.h:251:13: note: previous definition is here\n",
      "__MATHCALL (y1,, (_Mdouble_));\n",
      "            ^\n"
     ]
    }
   ],
   "source": [
    "double x1 = 1, y1 = 0;\n",
    "double x2 = 0, y2 = 1;"
   ]
  },
  {
   "cell_type": "markdown",
   "metadata": {},
   "source": [
    "Le langage C++ est un langage dit fortement typé, ce qui signifie que vous êtes obligé de donner un type à vos variables pour pouvoir les utiliser. Vous pouvez ensuite les intialiser grâce à l'opérateur `=` pour leur donner une première valeur. Si vous ne les initialisez pas, elles sont en général initialisées à `0`.\n",
    "\n",
    "Ici, nous créons quatre variables `x1`, `y1`, `x2` et `y2` en les initialisant respectivement par `1`, `0`, `0` et `1`. Ces valeurs peuvent évoluer au cours de l'exécution de notre programme.\n",
    "\n",
    "Puis vient l'affichage avec `std::cout`. Le `std::` devant correspond à un espace de nom (`namespace`) signifiant que nous allons utiliser l'espace de nom de la librairie standard (de même que pour `sqrt`). Nous verrons à la fin de ce cours comment gérer les namespaces et en créer.\n",
    "\n",
    "L'écriture se fait par l'intermédiaire du signe `<<`. Vous pouvez mettre du texte entre coupé de code. Ici, nous commençons par afficher la chaîne de caractère `distance ->` puis nous rajoutons le symbole `<<` afin de concaténer cette chaîne à l'expression calculant la distance. Nous finissons cette ligne par `\\n` signifiant au programme que nous souhaitons passer à la ligne à la fin de l'écriture de cette phrase. Vous pouvez également utiliser `std::endl` pour passer à la ligne."
   ]
  },
  {
   "cell_type": "markdown",
   "metadata": {},
   "source": [
    "Si nous résumons, un code écrit en C++ est constitué des parties suivantes\n",
    "\n",
    "```\n",
    "[ directives au preprocesseur ]\n",
    "[ déclarations de variable externes ]\n",
    "[ fonctions secondaires ]\n",
    "\n",
    "int main() {\n",
    "    déclarations de variables et\n",
    "    d'instructions\n",
    "}\n",
    "```"
   ]
  },
  {
   "cell_type": "markdown",
   "metadata": {},
   "source": [
    "## La compilation\n",
    "\n",
    "Une fois que vous avez écrit votre programme vous devez le compiler afin de le retranscrire en langage machine vous permettant ensuite de le compiler.\n",
    "\n",
    "Il existe différents compilateurs: GNU C++, clang, ... Nous utiliserons dans la suite GNU C++.\n",
    "\n",
    "Nous allons donc voir dans la suite comment compiler et exécuter le code présenté précédemment que nous aurons mis dans un fichier `main.cpp`. Pour créer notre exécutable, nous utiliserons la commande `g++`."
   ]
  },
  {
   "cell_type": "code",
   "execution_count": 4,
   "metadata": {
    "collapsed": true
   },
   "outputs": [],
   "source": [
    "! g++ main.cpp"
   ]
  },
  {
   "cell_type": "markdown",
   "metadata": {},
   "source": [
    "Si on ne spécifie rien, le compilateur crée par défaut un exécutable `a.out`. Pour l'exécuter, il suffit de faire"
   ]
  },
  {
   "cell_type": "code",
   "execution_count": 5,
   "metadata": {},
   "outputs": [
    {
     "name": "stdout",
     "output_type": "stream",
     "text": [
      "distance -> 1.41421\n"
     ]
    }
   ],
   "source": [
    "! ./a.out"
   ]
  },
  {
   "cell_type": "markdown",
   "metadata": {},
   "source": [
    "Vous pouvez également spécifier le nom de l'exécutable à l'aide de l'option `-o` (pour output)."
   ]
  },
  {
   "cell_type": "code",
   "execution_count": 6,
   "metadata": {
    "collapsed": true
   },
   "outputs": [],
   "source": [
    "! g++ main.cpp -o main"
   ]
  },
  {
   "cell_type": "code",
   "execution_count": 7,
   "metadata": {},
   "outputs": [
    {
     "name": "stdout",
     "output_type": "stream",
     "text": [
      "distance -> 1.41421\n"
     ]
    }
   ],
   "source": [
    "! ./main"
   ]
  },
  {
   "cell_type": "markdown",
   "metadata": {},
   "source": [
    "Ajouter un dessin"
   ]
  },
  {
   "cell_type": "markdown",
   "metadata": {},
   "source": [
    "Afin d'aller un peu plus loin dans le langage et que vous soyez en mesure d'écrire vos premiers bouts de code, il est nécessaire de présenter un certain nombre d'éléments de base:\n",
    "\n",
    "- les variables\n",
    "- les opérateurs\n",
    "- les conditions et les boucles\n",
    "- les conteneurs\n",
    "- les entrées/sorties"
   ]
  },
  {
   "cell_type": "markdown",
   "metadata": {},
   "source": [
    "# Les variables\n",
    "\n",
    "Comme dit en introduction, le langage C++ est un langage fortement typé: c'est-à-dire que vous devez donner un type aux variables que vous voulez utiliser. Ce type est définitif et ne peut changer au cours du programme. Le langage fournit un ensemble de types de base permettant de débuter.\n",
    "\n",
    "- les entiers\n",
    "- les réels\n",
    "- les booléens\n",
    "- les chaînes de caractères\n",
    "- les complexes\n",
    "    \n",
    "Dans la suite, nous allons regarder la déclaration en C++ de chacun de ces types. La déclaration d'une variable suit toujours le même shéma\n",
    "\n",
    "```\n",
    "type nom_variable;\n",
    "type nom_variable = valeur;\n",
    "type nom_variable1 = valeur, nom_variable2, ...;\n",
    "```\n",
    "\n",
    "Si vous ne spécifiez pas de valeur d'initialisation, la variable sera initialisée à une valeur par défaut si elle existe."
   ]
  },
  {
   "cell_type": "code",
   "execution_count": 8,
   "metadata": {},
   "outputs": [],
   "source": [
    "int i = 3;\n",
    "double pi = 3.1415;\n",
    "bool t = true;"
   ]
  },
  {
   "cell_type": "markdown",
   "metadata": {
    "collapsed": true
   },
   "source": [
    "## Les entiers\n",
    "\n",
    "Il existe différents formats d'entiers. Rappelons que nous allons utiliser le processeur de notre machine pour faire du calcul scientifique et que les données sont codées au format binaire (suite de 0 et de 1) avec un certain nombre de bits. Le nombre de bits étant limité, la valeur que peuvent prendre ces entiers est donc également limitée. \n",
    "\n",
    "On distingue deux types:\n",
    "\n",
    "- les entiers signés: entiers qui peuvent être positifs ou négatifs\n",
    "- les entiers non signés: entiers qui sont nécessairement positifs\n",
    "\n",
    "Pour les entiers signés, nous disposons des types suivants\n",
    "\n",
    "- short (codé sur 2 octets soit 16 bits)\n",
    "- int (codé sur 4 octets soit 32 bits)\n",
    "- long (codé sur 8 octets soit 64 bits)\n",
    "- long long (codé sur 8 octets soit 64 bits)\n",
    "\n",
    "Pour les entiers non signés, nous disposons des types suivants\n",
    "\n",
    "- unsigned short (codé sur 2 octets soit 16 bits)\n",
    "- unsigned int (codé sur 4 octets soit 32 bits)\n",
    "- unsigned long (codé sur 8 octets soit 64 bits)\n",
    "- unsigned long long (codé sur 8 octets soit 64 bits)\n",
    "- std::size_t (codé sur 8 octets soit 64 bits)\n",
    "\n",
    "Tout ces types ont une taille limitée en mémoire qui se compte en octets (1 octet = 8 bits). Voici le tableau indiquant les valeurs que peuvent prendre chacun des types.\n",
    "\n",
    "| types                | taille en octets | borne inférieure  | borne supérieure  |  \n",
    "|:--------------------|:----------------:|:-----------------:|:-----------------:|\n",
    "| `short`              | 2                |  $-2^{8}$         |  $2^{8} - 1$      |\n",
    "| `unsigned short`     | 2                |  $0$              |  $2^{16}$         |\n",
    "| `int`                | 4                |  $-2^{16}$        |  $2^{16} - 1$     |\n",
    "| `unsigned int`       | 4                |  $0$              |  $2^{32}$         |\n",
    "| `long`               | 8                |  $-2^{32}$        |  $2^{32} - 1$     |\n",
    "| `unsigned long`      | 8                |  $0$              |  $2^{64}$         |\n",
    "| `long long`          | 8                |  $-2^{32}$        |  $2^{32} - 1$     |\n",
    "| `unsigned long long` | 8                |  $0$              |  $2^{64}$         |\n",
    "| `std::size_t`        | 8                |  $0$              |  $2^{64}$         |\n",
    "\n",
    "La taille de `long` et de `unsigned long` dépend du système et peut valoir 4 octets. Vous pouvez facilement vérifier ces chiffres en utilisant `limits`."
   ]
  },
  {
   "cell_type": "code",
   "execution_count": 9,
   "metadata": {},
   "outputs": [
    {
     "name": "stdout",
     "output_type": "stream",
     "text": [
      "short : -32768 32767\n",
      "int : -2147483648 2147483647\n",
      "long : -9223372036854775808 9223372036854775807\n",
      "long long : -9223372036854775808 9223372036854775807\n"
     ]
    }
   ],
   "source": [
    "#include <limits>\n",
    "\n",
    "std::cout << \"short : \" << std::numeric_limits<short>::min() << \" \" << std::numeric_limits<short>::max() << \"\\n\";\n",
    "std::cout << \"int : \" << std::numeric_limits<int>::min() << \" \" << std::numeric_limits<int>::max() << \"\\n\";\n",
    "std::cout << \"long : \" << std::numeric_limits<long>::min() << \" \" << std::numeric_limits<long>::max() << \"\\n\";\n",
    "std::cout << \"long long : \" << std::numeric_limits<long long>::min() << \" \" << std::numeric_limits<long long>::max() << \"\\n\";"
   ]
  },
  {
   "cell_type": "code",
   "execution_count": 10,
   "metadata": {},
   "outputs": [
    {
     "name": "stdout",
     "output_type": "stream",
     "text": [
      "unsigned short : 0 65535\n",
      "std::size_t : 0 18446744073709551615\n"
     ]
    }
   ],
   "source": [
    "std::cout << \"unsigned short : \" << std::numeric_limits<unsigned short>::min() << \" \" << std::numeric_limits<unsigned short>::max() << \"\\n\";\n",
    "std::cout << \"std::size_t : \" << std::numeric_limits<std::size_t>::min() << \" \" << std::numeric_limits<std::size_t>::max() << \"\\n\";"
   ]
  },
  {
   "cell_type": "markdown",
   "metadata": {},
   "source": [
    "### Codage des entiers non signés\n",
    "\n",
    "Pour retrouver la représentation binaire d'un entier non signé, il suffit de diviser successivement l'entier par 2 et de regarder le reste. On prend ensuite le résultat dans le sens inverse afin d'avoir la repésentation binaire. Prenons l'exemple de la représentation binaire de `42`.\n",
    "\n",
    "| divisions de `42` par `2` | reste de la division |\n",
    "|:-------------------------:|:--------------------:|\n",
    "| 21 | 0 |\n",
    "| 10 | 1 |\n",
    "|  5 | 0 |\n",
    "|  2 | 1 |\n",
    "|  1 | 0 |\n",
    "|  0 | 1 |\n",
    "\n",
    "La représentation binaire de `42` est donc `101010` (on prend la colonne de droite par le bas et on remonte).\n",
    "\n",
    "Vérifions"
   ]
  },
  {
   "cell_type": "code",
   "execution_count": 11,
   "metadata": {},
   "outputs": [
    {
     "name": "stdout",
     "output_type": "stream",
     "text": [
      "42\n"
     ]
    }
   ],
   "source": [
    "std::cout << 0b101010 << \"\\n\";"
   ]
  },
  {
   "cell_type": "markdown",
   "metadata": {},
   "source": [
    "### Codage des entiers signés\n",
    "\n",
    "Pour représenter au format binaire un entier signé, nous utilisons la [méthode du complément à 2](https://fr.wikipedia.org/wiki/Compl%C3%A9ment_%C3%A0_deux). Le bit le plus à gauche (appelé bit de poids fort) permet de dire si l'entier est positif ou négatif. \n",
    "\n",
    "- `0` : entier positif\n",
    "- `1` : entier négatif\n",
    "\n",
    "Nous avons donc un bit en moins pour représenter l'entier. Si par exemple nous prenons un `short` qui correspond à une représentation sur `16` bits, il nous restera `15` bits pour représenter l'entier.\n",
    "\n",
    "La méthode du complément à 2 est constituée de trois étapes.\n",
    "\n",
    "1. On représente l'entier positif au format binaire.\n",
    "2. On effectue le complément à `1` (le bit `0` devient `1` et le bit `1` devient `0`).\n",
    "3. On ajoute `1`.\n",
    "\n",
    "Regardons la représentation de `-42` sur `8` bits. Il nous reste donc `7` bits pour coder `42` ce qui nous donne `0101010`. Nous appliquons le complément à 1 ce qui nous donne `1010101`. Enfin nous ajoutons `0000001` ce qui nous donne `1010110`. Il nous reste à ajouter le signe sur le bit de poids fort. \n",
    "\n",
    "La représnetation binaire de `-42` sur `8` bits est donc `11010110`."
   ]
  },
  {
   "cell_type": "markdown",
   "metadata": {},
   "source": [
    "### Que se passe t-il si nous dépassons la représentation possible ?"
   ]
  },
  {
   "cell_type": "code",
   "execution_count": 12,
   "metadata": {},
   "outputs": [
    {
     "name": "stdout",
     "output_type": "stream",
     "text": [
      "32767 0111111111111111\n",
      "-32766 1000000000000010\n",
      "1\n"
     ]
    }
   ],
   "source": [
    "#include <bitset>\n",
    "{\n",
    "    short i = 32767;\n",
    "    std::cout << i << \" \" << std::bitset<sizeof(short)*8>(i) << \"\\n\";\n",
    "    i += 3;\n",
    "    std::cout << i << \" \" << std::bitset<sizeof(short)*8>(i) << \"\\n\";  \n",
    "    std::cout << 0b001 << \"\\n\";\n",
    "}"
   ]
  },
  {
   "cell_type": "markdown",
   "metadata": {},
   "source": [
    "## Les réels\n",
    "\n",
    "Le langage fournit trois types de réels\n",
    "\n",
    "- `float` \n",
    "- `double`\n",
    "- `long double`\n",
    "\n",
    "La représentation binaire d'un réel est beaucoup plus complexe q'un entier. Elle suit la norme IEEE et est définit de la manière suivante\n",
    "\n",
    "$$\n",
    "x = (-1)^s \\times m \\times 2^e.\n",
    "$$\n",
    "\n",
    "où\n",
    "\n",
    "- $s$ représente le bit relatif au signe\n",
    "- $m$ représentent les bits relatifs à la mantisse\n",
    "- $e$ représentent les bits relatifs à l'exposant"
   ]
  },
  {
   "cell_type": "markdown",
   "metadata": {},
   "source": [
    "## Les booléens\n",
    "\n",
    "Les booléens peuvent avoir deux valeurs: `true` ou `false`. Par définition `true` a la valeur `1` et `false` la valeur `0`. Ils servent essentiellement pour vérifier qu'une condition est satisfaite et nous les reverrons lorsque nous parlerons des structures de contrôle `if/else`.\n",
    "\n",
    "Voici une façon de créer des booléens."
   ]
  },
  {
   "cell_type": "code",
   "execution_count": 13,
   "metadata": {
    "collapsed": true
   },
   "outputs": [],
   "source": [
    "bool a = true;\n",
    "int entier = 5;\n",
    "bool b = entier < 3;"
   ]
  },
  {
   "cell_type": "code",
   "execution_count": 14,
   "metadata": {},
   "outputs": [
    {
     "name": "stdout",
     "output_type": "stream",
     "text": [
      "a: 1\n",
      "b: 0\n"
     ]
    }
   ],
   "source": [
    "std::cout << \"a: \" << a << \"\\n\";\n",
    "std::cout << \"b: \" << b << \"\\n\";"
   ]
  },
  {
   "cell_type": "markdown",
   "metadata": {},
   "source": [
    "`std::cout` comporte un certain nombre d'options et parmi celle-ci `std::boolalpha` qui permet d'afficher un peu mieux les valeurs des booléens en écrivant `true` ou `false`."
   ]
  },
  {
   "cell_type": "code",
   "execution_count": 15,
   "metadata": {},
   "outputs": [
    {
     "name": "stdout",
     "output_type": "stream",
     "text": [
      "a: true\n",
      "b: false\n"
     ]
    }
   ],
   "source": [
    "std::cout << std::boolalpha << \"a: \" << a << \"\\n\";\n",
    "std::cout << \"b: \" << b << \"\\n\";"
   ]
  },
  {
   "cell_type": "markdown",
   "metadata": {},
   "source": [
    "On remarquera qu'une fois qu'on a appelé `std::boolalpha`, il n'est plus nécessaire de le rappeler."
   ]
  },
  {
   "cell_type": "code",
   "execution_count": 16,
   "metadata": {},
   "outputs": [
    {
     "name": "stdout",
     "output_type": "stream",
     "text": [
      "true\n"
     ]
    }
   ],
   "source": [
    "std::cout << true << \"\\n\";"
   ]
  },
  {
   "cell_type": "markdown",
   "metadata": {},
   "source": [
    "## Les chaînes de caractères\n",
    "\n",
    "Une chaîne de caractères en C++ est définie par le type `std::string`."
   ]
  },
  {
   "cell_type": "code",
   "execution_count": 17,
   "metadata": {
    "collapsed": true
   },
   "outputs": [],
   "source": [
    "std::string coucou = \"coucou\";"
   ]
  },
  {
   "cell_type": "code",
   "execution_count": 18,
   "metadata": {},
   "outputs": [
    {
     "name": "stdout",
     "output_type": "stream",
     "text": [
      "la chaine est: coucou\n"
     ]
    }
   ],
   "source": [
    "std::cout << \"la chaine est: \" << coucou << \"\\n\";"
   ]
  },
  {
   "cell_type": "markdown",
   "metadata": {},
   "source": [
    "Il existe de nombreuses métodes permettant différentes opérations sur les chaînes de caractères. Ils peuvent être vu comme des conteneurs de caractères. Nous verrons les conteneurs dans le cours suivant."
   ]
  },
  {
   "cell_type": "markdown",
   "metadata": {},
   "source": [
    "## Les complexes\n",
    " \n",
    "Le langage C++ offre la possibilité de créer des nombres complexes. Le type est `std::complex`. Le nombre imaginaire $i$ est représenté par `1i`.\n",
    "\n",
    "Pour pouvoir les utiliser, il est nécessaire d'inclure `complex`."
   ]
  },
  {
   "cell_type": "code",
   "execution_count": 19,
   "metadata": {},
   "outputs": [],
   "source": [
    "#include <complex>\n",
    "\n",
    "std::complex<double> z = 1i;"
   ]
  },
  {
   "cell_type": "code",
   "execution_count": 20,
   "metadata": {},
   "outputs": [
    {
     "name": "stdout",
     "output_type": "stream",
     "text": [
      "z : (0,1)\n"
     ]
    }
   ],
   "source": [
    "std::cout << \"z : \" << z << \"\\n\";"
   ]
  },
  {
   "cell_type": "markdown",
   "metadata": {},
   "source": [
    "Il est alors possible, comme pour les entiers ou les réels, de faire des opérations dessus."
   ]
  },
  {
   "cell_type": "code",
   "execution_count": 21,
   "metadata": {},
   "outputs": [
    {
     "name": "stdout",
     "output_type": "stream",
     "text": [
      "z + 1 : (1,1)\n",
      "z^2   : (-1,0)\n"
     ]
    }
   ],
   "source": [
    "std::cout << \"z + 1 : \" << z + 1. << \"\\n\";\n",
    "std::cout << \"z^2   : \" << z*z << \"\\n\";"
   ]
  },
  {
   "cell_type": "markdown",
   "metadata": {},
   "source": [
    "## Les littéraux\n",
    "\n",
    "Les littéraux comme $2$ ou $3.14$ sont typés. Le premier est un `int` et le deuxième est par défaut un `double`. Les nombres entiers sont traités comme des `int`, `long` ou `unsigned long` en fonction du nombre de chiffres. Tous les nombres avec un point ou un exposant (`3e12` = $3.10^{12}$) sont considérés comme des `double`.\n",
    "\n",
    "Les littéraux d'autres types peuvent s'écrire en ajoutant un suffixe.\n",
    "\n",
    "|Littéral | Type        |\n",
    "|:---------|:-------------|\n",
    "|`2`      | int         |\n",
    "|`2u`     |unsigned int |\n",
    "|`2l`     |long         |\n",
    "|`2ul`    |unsigned long|\n",
    "|`2.`     |double       |\n",
    "|`2.f`    |float        |\n",
    "|`2.l`    |long double  |\n",
    "\n",
    "Dans la plupart des cas, il n'est pas nécessaire de définir les types des littéraux explicitement puisqu'il y a des conversions implicites.\n",
    "\n",
    "Néanmoins, nous pouvons identifier trois cas où cela peut être utile.\n",
    "\n",
    "### Cas 1: la validité\n",
    "\n",
    "Lors de la présentation des nombres complexes, nous avons dû définir le type de la partie réelle et imaginaire en mettant `std::complex<double>`. Malheureusement, les opérations sur les complexes fonctionnent que sur le type donné et les arguments ne peuvent être converti. \n",
    "\n",
    "Une conséquence est que si vous créez un nombre complexe avec `std::complex<float>`, vous ne pouvez pas lui appliquer d'opérations faisant intervenir d'autres types que `float`."
   ]
  },
  {
   "cell_type": "code",
   "execution_count": 22,
   "metadata": {
    "collapsed": true
   },
   "outputs": [],
   "source": [
    "std::complex<float> z1(1.3, 1.4), z2;"
   ]
  },
  {
   "cell_type": "code",
   "execution_count": 23,
   "metadata": {},
   "outputs": [
    {
     "name": "stderr",
     "output_type": "stream",
     "text": [
      "input_line_27:2:9: error: invalid operands to binary expression ('int' and 'std::complex<float>')\n",
      " z2 = 2 * z1;\n",
      "      ~ ^ ~~\n",
      "/home/loic/miniconda3/envs/cling/gcc/include/c++/complex:404:5: note: candidate template ignored: deduced conflicting types for parameter '_Tp' ('int' vs. 'float')\n",
      "    operator*(const _Tp& __x, const complex<_Tp>& __y)\n",
      "    ^\n",
      "/home/loic/miniconda3/envs/cling/gcc/include/c++/complex:386:5: note: candidate template ignored: could not match 'complex<type-parameter-0-0>' against 'int'\n",
      "    operator*(const complex<_Tp>& __x, const complex<_Tp>& __y)\n",
      "    ^\n",
      "/home/loic/miniconda3/envs/cling/gcc/include/c++/complex:395:5: note: candidate template ignored: could not match 'complex<type-parameter-0-0>' against 'int'\n",
      "    operator*(const complex<_Tp>& __x, const _Tp& __y)\n",
      "    ^\n"
     ]
    }
   ],
   "source": [
    "z2 = 2 * z1;"
   ]
  },
  {
   "cell_type": "code",
   "execution_count": 24,
   "metadata": {},
   "outputs": [
    {
     "name": "stderr",
     "output_type": "stream",
     "text": [
      "input_line_28:2:10: error: invalid operands to binary expression ('double' and 'std::complex<float>')\n",
      " z2 = 2. * z1;\n",
      "      ~~ ^ ~~\n",
      "/home/loic/miniconda3/envs/cling/gcc/include/c++/complex:404:5: note: candidate template ignored: deduced conflicting types for parameter '_Tp' ('double' vs. 'float')\n",
      "    operator*(const _Tp& __x, const complex<_Tp>& __y)\n",
      "    ^\n",
      "/home/loic/miniconda3/envs/cling/gcc/include/c++/complex:386:5: note: candidate template ignored: could not match 'complex<type-parameter-0-0>' against 'double'\n",
      "    operator*(const complex<_Tp>& __x, const complex<_Tp>& __y)\n",
      "    ^\n",
      "/home/loic/miniconda3/envs/cling/gcc/include/c++/complex:395:5: note: candidate template ignored: could not match 'complex<type-parameter-0-0>' against 'double'\n",
      "    operator*(const complex<_Tp>& __x, const _Tp& __y)\n",
      "    ^\n"
     ]
    }
   ],
   "source": [
    "z2 = 2. * z1;"
   ]
  },
  {
   "cell_type": "code",
   "execution_count": 25,
   "metadata": {},
   "outputs": [],
   "source": [
    "z2 = 2.f * z1;"
   ]
  },
  {
   "cell_type": "markdown",
   "metadata": {},
   "source": [
    "### Cas 2: l'ambiguité\n",
    "\n",
    "Quand une fonction est surchargée pour différents types de paramètres d'entrée, un argument comme `0` est ambigüe et peut correspondre à différents types (`int`, `double`, ...) alors que `0u` ne l'est pas.\n",
    "\n",
    "### Cas 3: la précision\n",
    "\n",
    "Le problème de précision apparaît lorsque l'on souhaite utiliser des `long double`. Etant donné que par défaut un littéral comportant un point ou un exposant est un `double`, nous pouvons perdre de l'information si nous l'affectons à un `long double`."
   ]
  },
  {
   "cell_type": "code",
   "execution_count": 26,
   "metadata": {
    "collapsed": true
   },
   "outputs": [],
   "source": [
    "long double t1 = 0.33333333333333333333;\n",
    "long double t2 = 0.33333333333333333333l;"
   ]
  },
  {
   "cell_type": "code",
   "execution_count": 27,
   "metadata": {},
   "outputs": [
    {
     "name": "stdout",
     "output_type": "stream",
     "text": [
      "t1: 0.33333333333333331482961625624739\n",
      "t2: 0.33333333333333333334236835143738\n"
     ]
    }
   ],
   "source": [
    "std::cout << \"t1: \" << std::setprecision(32) << t1 << \"\\n\";\n",
    "std::cout << \"t2: \" << t2 << \"\\n\";"
   ]
  },
  {
   "cell_type": "markdown",
   "metadata": {},
   "source": [
    "## Les constantes\n",
    "\n",
    "Les constantes sont définies à l'aide du mot clé `const` et permettent de s'assurer que les valeurs ne seront pas modifiées au cours du programme. L'intérêt est double\n",
    "\n",
    "- s'assurer que l'utilisateur ne modifie pas une variable qui est dépendante du problème;\n",
    "- optimiser le code car le compilateur fait un certain nombre d'optimisations lorsqu'il sait que les variables sont constantes.\n",
    "\n",
    "Leur utilisation est simple puisqu'il suffit d'ajouter le mot clé `const`."
   ]
  },
  {
   "cell_type": "code",
   "execution_count": 28,
   "metadata": {
    "collapsed": true
   },
   "outputs": [],
   "source": [
    "const int ci1 = 1;\n",
    "double const cd1 = 2;"
   ]
  },
  {
   "cell_type": "markdown",
   "metadata": {},
   "source": [
    "Comme vous pouvez le constater, il n'y a pas d'autre particulier pour placer le mot `const`. Néanmoins, dans la suite de ce cours, on s'habituera à le mettre au début.\n",
    "\n",
    "**Remarque**\n",
    "\n",
    "A partir du moment où on déclare une variable comme `const`, on est obligé de l'initialiser sinon ça n'a pas de sens."
   ]
  },
  {
   "cell_type": "code",
   "execution_count": 29,
   "metadata": {},
   "outputs": [
    {
     "name": "stderr",
     "output_type": "stream",
     "text": [
      "input_line_33:2:12: error: default initialization of an object of const type 'const int'\n",
      " const int ci2;\n",
      "           ^\n",
      "               = 0\n"
     ]
    }
   ],
   "source": [
    "const int ci2;"
   ]
  },
  {
   "cell_type": "markdown",
   "metadata": {},
   "source": [
    "# L'initialisation\n",
    "\n",
    "Nous avons vu dans les exemples précédents comment initialiser des variables à l'aide de l'opérateur `=`. Il existe une autre façon de faire en utilisant `{}`. Le comportement n'est pas le même. En effet, le `=` fait une conversion si nécessaire alors que `{}` ne l'autorise pas.\n",
    "\n",
    "Par exemple"
   ]
  },
  {
   "cell_type": "code",
   "execution_count": 1,
   "metadata": {},
   "outputs": [
    {
     "name": "stderr",
     "output_type": "stream",
     "text": [
      "input_line_7:2:11: warning: implicit conversion from 'double' to 'int' changes value from 3.14 to 3 [-Wliteral-conversion]\n",
      " int i1 = 3.14;\n",
      "     ~~   ^~~~\n",
      "input_line_7:3:10: warning: implicit conversion from 'double' to 'int' changes value from 3.14 to 3 [-Wliteral-conversion]\n",
      "int i2 = 3.14;\n",
      "    ~~   ^~~~\n"
     ]
    }
   ],
   "source": [
    "int i1 = 3.14;"
   ]
  },
  {
   "cell_type": "code",
   "execution_count": 31,
   "metadata": {},
   "outputs": [
    {
     "name": "stdout",
     "output_type": "stream",
     "text": [
      "i1: 3\n"
     ]
    }
   ],
   "source": [
    "std::cout << \"i1: \" << i1 << \"\\n\";"
   ]
  },
  {
   "cell_type": "code",
   "execution_count": 32,
   "metadata": {},
   "outputs": [
    {
     "name": "stderr",
     "output_type": "stream",
     "text": [
      "input_line_36:2:9: error: type 'double' cannot be narrowed to 'int' in initializer list [-Wc++11-narrowing]\n",
      " int i2{3.14};\n",
      "        ^~~~\n",
      "input_line_36:2:9: note: insert an explicit cast to silence this issue\n",
      " int i2{3.14};\n",
      "        ^~~~\n",
      "        static_cast<int>( )\n",
      "input_line_36:2:9: warning: implicit conversion from 'double' to 'int' changes value from 3.14 to 3 [-Wliteral-conversion]\n",
      " int i2{3.14};\n",
      "       ~^~~~\n"
     ]
    }
   ],
   "source": [
    "int i2{3.14};"
   ]
  },
  {
   "cell_type": "markdown",
   "metadata": {},
   "source": [
    "# Le scope\n",
    "\n",
    "La durée de vie des variables non statiques est limitée par le scope matérialisé par une accolade ouvrante pour son début et une accolade fermante pour sa fin. Il est possible de créer des variables globales qui peuvent vivre en dehors des scopes mais cette façon de faire est dangereuse et non recommandée. Nous en parlerons donc pas dans la suite de ce cours.\n",
    "\n",
    "Nous travaillerons donc qu'avec des variables dites locales.\n",
    "\n",
    "Prenons l'exemple de la fonction `main` écrite au tout début de ce cours."
   ]
  },
  {
   "cell_type": "code",
   "execution_count": 2,
   "metadata": {
    "collapsed": true
   },
   "outputs": [],
   "source": [
    "int main()\n",
    "{\n",
    "    double x1 = 1, y1 = 0;\n",
    "    double x2 = 0, y2 = 1;\n",
    "    \n",
    "    // calcul de la distance entre deux points\n",
    "    std::cout << \"distance -> \" << std::sqrt((x2-x1)*(x2-x1) + (y2-y1)*(y2-y1)) << \"\\n\";\n",
    "    return 0;\n",
    "}"
   ]
  },
  {
   "cell_type": "markdown",
   "metadata": {},
   "source": [
    "Nous avons ici un scope qui définit le début et la fin de la fonction `main`. Dans ce scope, il existe quatre variables locales `x1, y1, x2, y2`.\n",
    "\n",
    "Il faut bien comprendre que ces variables n'existent que dans ce scope. Il n'est pas forcément nécessaire de créer une fonction ou d'utiliser une strucutre de contrôle pour pouvoir l'uiliser. On peut le placer où l'on veut. Par exemple"
   ]
  },
  {
   "cell_type": "code",
   "execution_count": 8,
   "metadata": {},
   "outputs": [
    {
     "name": "stdout",
     "output_type": "stream",
     "text": [
      "pi: 3.141592653589793\n"
     ]
    }
   ],
   "source": [
    "{ \n",
    "    const double pi_scope = 4*std::atan(1);\n",
    "    std::cout << std::setprecision(16) << \"pi: \" << pi_scope << \"\\n\";\n",
    "}"
   ]
  },
  {
   "cell_type": "code",
   "execution_count": 9,
   "metadata": {},
   "outputs": [
    {
     "name": "stderr",
     "output_type": "stream",
     "text": [
      "input_line_15:2:25: error: use of undeclared identifier 'pi_scope'\n",
      " std::cout << \"pi: \" << pi_scope << \"\\n\";\n",
      "                        ^\n"
     ]
    }
   ],
   "source": [
    "std::cout << \"pi: \" << pi_scope << \"\\n\";"
   ]
  },
  {
   "cell_type": "markdown",
   "metadata": {},
   "source": [
    "Si vous définissez le même nom de variable dans plusieurs scopes, une seule est visible (celle qui est à l'intérieur du scope courant)."
   ]
  },
  {
   "cell_type": "code",
   "execution_count": 11,
   "metadata": {},
   "outputs": [
    {
     "name": "stdout",
     "output_type": "stream",
     "text": [
      "a1: 3\n",
      "a2: 5\n",
      "a3: 6\n",
      "a4: 7\n",
      "a5: 3\n"
     ]
    }
   ],
   "source": [
    "{\n",
    "    int a = 3;\n",
    "    {\n",
    "        std::cout << \"a1: \" << a << \"\\n\";\n",
    "        int a = 5;\n",
    "        {\n",
    "            std::cout << \"a2: \" << a << \"\\n\";\n",
    "            a = 6;\n",
    "            std::cout << \"a3: \" << a << \"\\n\";\n",
    "        }\n",
    "        a = 7;\n",
    "        std::cout << \"a4: \" << a << \"\\n\";\n",
    "    }\n",
    "    std::cout << \"a5: \" << a << \"\\n\";\n",
    "}"
   ]
  },
  {
   "cell_type": "markdown",
   "metadata": {},
   "source": [
    "# Les opérateurs\n",
    "\n",
    "En C++, il existe un grand nombre d'opérateurs. Certains ne sont pas spécifiques au langage et peuvent être se retrouver dans d'autres langages de programmation.\n",
    "\n",
    "- opérateurs de calcul:\n",
    "    - arithmétiques: `+`, `*`, `%`, ...\n",
    "    - booléens\n",
    "        - comparaisons: `<`, `==`, ...\n",
    "        - logique: `&&` et `||`\n",
    "    - sur les bits: `~`, `<<` et `>>`, `&`, `^` et `|`\n",
    "- opérateurs d'affectation: `=`, `+=`, ...\n",
    "- appel de fonctions, `?:` et `,`\n",
    "- gestion mémoire: `new` et `delete`\n",
    "- accès: `.`, `->`, `[ ]`, `*`, ...\n",
    "- gestion des types: `dynamic_cast`, `typeid`, `sizeof`, `alignof`, ...\n",
    "- gestion des erreurs: `throw`\n",
    "\n",
    "**Les opérateurs arithmétiques**\n",
    "\n",
    "La liste suivante est remplie par ordre de priorié des opérateurs.\n",
    "\n",
    "\n",
    "| Opération      | Expression |\n",
    "|:----------------|:---------|\n",
    "| post incrément | `x++`   |\n",
    "| post décrément | `x--`   |\n",
    "| pré incrément  | `++x`   |\n",
    "| pré décrément  | `--x`   |\n",
    "| plus unique    |  `+x`   |\n",
    "| moins unique   |  `-x`   |\n",
    "| multiplication |  `x * y`|\n",
    "| division       |  `x / y`|\n",
    "| modulo         |  `x % y`|\n",
    "| addition       |  `x + y`|\n",
    "| soustraction   |  `x - y`|\n",
    "\n",
    "Ce qui veut dire que "
   ]
  },
  {
   "cell_type": "code",
   "execution_count": 14,
   "metadata": {},
   "outputs": [
    {
     "name": "stdout",
     "output_type": "stream",
     "text": [
      "(int) 11\n"
     ]
    }
   ],
   "source": [
    "4 * 2 + 3"
   ]
  },
  {
   "cell_type": "markdown",
   "metadata": {},
   "source": [
    "n'est pas la même chose que "
   ]
  },
  {
   "cell_type": "code",
   "execution_count": 15,
   "metadata": {},
   "outputs": [
    {
     "name": "stdout",
     "output_type": "stream",
     "text": [
      "(int) 20\n"
     ]
    }
   ],
   "source": [
    "4 * ( 2 + 3 )"
   ]
  },
  {
   "cell_type": "markdown",
   "metadata": {},
   "source": [
    "Concernant les opérateurs d'incrément et de décrément, il faut bien comprendre ce que veut dire post et pré. Dans la version post, le calcul est fait avec la variable que l'on veut incrémenter ou décrémenter puis on applique l'opérateur. Dans la version pré, on applique l'opérateur avant d'effectuer les autres opérations."
   ]
  },
  {
   "cell_type": "code",
   "execution_count": 10,
   "metadata": {},
   "outputs": [],
   "source": [
    "int ii1 = 0, ii2 = 0;"
   ]
  },
  {
   "cell_type": "code",
   "execution_count": 11,
   "metadata": {},
   "outputs": [
    {
     "name": "stdout",
     "output_type": "stream",
     "text": [
      "(int) 4\n"
     ]
    }
   ],
   "source": [
    "ii2 = ii1++ + 4"
   ]
  },
  {
   "cell_type": "code",
   "execution_count": 12,
   "metadata": {},
   "outputs": [
    {
     "name": "stdout",
     "output_type": "stream",
     "text": [
      "(int) 1\n"
     ]
    }
   ],
   "source": [
    "ii1"
   ]
  },
  {
   "cell_type": "code",
   "execution_count": 14,
   "metadata": {},
   "outputs": [
    {
     "name": "stdout",
     "output_type": "stream",
     "text": [
      "(int) 5\n"
     ]
    }
   ],
   "source": [
    "ii1 = 0;\n",
    "ii2 = ++ii1 + 4"
   ]
  },
  {
   "cell_type": "code",
   "execution_count": 15,
   "metadata": {},
   "outputs": [
    {
     "name": "stdout",
     "output_type": "stream",
     "text": [
      "(int) 1\n"
     ]
    }
   ],
   "source": [
    "ii1"
   ]
  },
  {
   "cell_type": "markdown",
   "metadata": {},
   "source": [
    "**Les opérateurs booléens**\n",
    "\n",
    "| Opération | Expression |\n",
    "|:-|:-|\n",
    "| négation | `!b` |\n",
    "| plus grand que | `>` |\n",
    "| plus grand ou égal à | `>=` |\n",
    "| plus petit que | `<` |\n",
    "| plus petit ou égal à | `>=` |\n",
    "| égal à | `==` |\n",
    "| différent | `!=` |\n",
    "| et logique | `&&` |\n",
    "| ou logique | $||$ |\n",
    "\n",
    "Il n'est pas possible d'enchaîner les opérations booléennes sans les entrecouper d'opérateurs logiques. "
   ]
  },
  {
   "cell_type": "code",
   "execution_count": 1,
   "metadata": {},
   "outputs": [
    {
     "name": "stderr",
     "output_type": "stream",
     "text": [
      "input_line_7:3:23: warning: comparison of constant 1 with expression of type 'bool' is always true [-Wtautological-constant-out-of-range-compare]\n",
      "bool b1 = 0 <= x <= y <= 1\n",
      "          ~~~~~~~~~~~ ^  ~\n"
     ]
    },
    {
     "name": "stdout",
     "output_type": "stream",
     "text": [
      "(bool) true\n"
     ]
    }
   ],
   "source": [
    "int x = 1, y = 2;\n",
    "bool b1 = 0 <= x <= y <= 1"
   ]
  },
  {
   "cell_type": "code",
   "execution_count": 2,
   "metadata": {},
   "outputs": [
    {
     "name": "stdout",
     "output_type": "stream",
     "text": [
      "(bool) false\n"
     ]
    }
   ],
   "source": [
    "bool b2 = 0 <= x && x <= y && y <= 1"
   ]
  },
  {
   "cell_type": "markdown",
   "metadata": {},
   "source": [
    "**Les Opérateurs sur les bits**\n",
    "\n",
    "| Opération | Expression |\n",
    "|:-|:-|\n",
    "| complément à un | `~x` |\n",
    "| déplacement à gauche | `x << y` |\n",
    "| déplacement à droite | `x >> y` |\n",
    "| et | `x >> y` |\n",
    "| ou exclusif  | `x^y` |\n",
    "| ou inclusif  | `x` $|$ `y` |\n",
    "\n",
    "Les opérateurs sur les bits peuvent être très utiles lorque l'on manipule des entiers et sont malheureusement assez peu utilisés.\n",
    "\n",
    "Nous allons ici donner deux exemples sur leur utilité.\n",
    "\n",
    "*Calculer une puissance de 2*\n",
    "\n",
    "Si on regarde la représentation binaire d'un entier, le chiffre 1 est représenté de la manière suivante."
   ]
  },
  {
   "cell_type": "code",
   "execution_count": 3,
   "metadata": {},
   "outputs": [
    {
     "name": "stdout",
     "output_type": "stream",
     "text": [
      "(int) 1\n"
     ]
    }
   ],
   "source": [
    "0b000001"
   ]
  },
  {
   "cell_type": "markdown",
   "metadata": {},
   "source": [
    "Supposons maintenant que nous décalons ce 1 vers la gauche, alors nous aurons calculé $2^{d+1}$ où $d$ est le décalage."
   ]
  },
  {
   "cell_type": "code",
   "execution_count": 4,
   "metadata": {},
   "outputs": [
    {
     "name": "stdout",
     "output_type": "stream",
     "text": [
      "(int) 2\n"
     ]
    }
   ],
   "source": [
    "1 << 1"
   ]
  },
  {
   "cell_type": "code",
   "execution_count": 16,
   "metadata": {},
   "outputs": [
    {
     "name": "stdout",
     "output_type": "stream",
     "text": [
      "(int) 32\n"
     ]
    }
   ],
   "source": [
    "1 << 5"
   ]
  },
  {
   "cell_type": "markdown",
   "metadata": {},
   "source": [
    "*Savoir si un entier est pair ou impair*\n",
    "\n",
    "Pour avoir un entier impair, il est nécessaire que le bit le plus à droite soit égal à 1. Il faut donc trouver une opération sur les bits qui nous donne cette information instantanément. \n",
    "\n",
    "Regardons comment fonctionne l'opérateur `&`.\n",
    "\n",
    "| `&` | 0 | 1 |\n",
    "|:-:|:-:|:-:|\n",
    "| 0 |0 | 0 |\n",
    "|1 | 0| 1| \n",
    "\n",
    "Par conséquent, si nous prenons un entier et que nous lui appliquons l'opérateur `&` avec le chiffre 1, nous aurons soit la réponse 0 si c'est pair, soit 1 si c'est impair."
   ]
  },
  {
   "cell_type": "code",
   "execution_count": 6,
   "metadata": {},
   "outputs": [
    {
     "name": "stdout",
     "output_type": "stream",
     "text": [
      "(int) 0\n"
     ]
    }
   ],
   "source": [
    "2 & 1"
   ]
  },
  {
   "cell_type": "code",
   "execution_count": 7,
   "metadata": {},
   "outputs": [
    {
     "name": "stdout",
     "output_type": "stream",
     "text": [
      "(int) 1\n"
     ]
    }
   ],
   "source": [
    "5 & 1"
   ]
  },
  {
   "cell_type": "markdown",
   "metadata": {},
   "source": [
    "**Les opérateurs d'affectation**\n",
    "\n",
    "|Opération | Expression |\n",
    "|:-|:-|\n",
    "| affectation simple | `=` |\n",
    "| multiplication et affectation | `*=` |\n",
    "| division et affectation | `/=` |\n",
    "| modulo et affectation | `%=` |\n",
    "| addition et affectation | `+=` |\n",
    "| soustraction et affectation | `-=` |\n",
    "| ... | ... |\n"
   ]
  },
  {
   "cell_type": "markdown",
   "metadata": {},
   "source": [
    "**L'opérateur ternaire**\n",
    "\n",
    "L'opérateur ternaire s'écrit `?:`. Il permet à partir d'un opérateur booléen de choisir une expression si c'est vrai et une autre expression si c'est faux."
   ]
  },
  {
   "cell_type": "code",
   "execution_count": 17,
   "metadata": {
    "collapsed": true
   },
   "outputs": [],
   "source": [
    "int a1 = 1, a2 = 2;"
   ]
  },
  {
   "cell_type": "code",
   "execution_count": 19,
   "metadata": {},
   "outputs": [
    {
     "name": "stdout",
     "output_type": "stream",
     "text": [
      "(const char *) \"impair\"\n"
     ]
    }
   ],
   "source": [
    "(a1 & 1)? \"impair\": \"pair\""
   ]
  },
  {
   "cell_type": "code",
   "execution_count": 20,
   "metadata": {},
   "outputs": [
    {
     "name": "stdout",
     "output_type": "stream",
     "text": [
      "(const char *) \"pair\"\n"
     ]
    }
   ],
   "source": [
    "(a2 & 1)? \"impair\": \"pair\""
   ]
  },
  {
   "cell_type": "markdown",
   "metadata": {},
   "source": [
    "Nous ne discuterons pas pour le moment des autres opérateurs. Mais nous les introduirons en temps voulu."
   ]
  },
  {
   "cell_type": "code",
   "execution_count": null,
   "metadata": {
    "collapsed": true
   },
   "outputs": [],
   "source": []
  }
 ],
 "metadata": {
  "kernelspec": {
   "display_name": "xeus C++11",
   "language": "",
   "name": "xeus-cling-cpp11"
  },
  "language_info": {
   "codemirror_mode": "text/x-c++src",
   "file_extension": ".cpp",
   "mimetype": "text/x-c++src",
   "name": "c++",
   "version": ""
  },
  "toc": {
   "colors": {
    "hover_highlight": "#DAA520",
    "navigate_num": "#000000",
    "navigate_text": "#333333",
    "running_highlight": "#FF0000",
    "selected_highlight": "#FFD700",
    "sidebar_border": "#EEEEEE",
    "wrapper_background": "#FFFFFF"
   },
   "moveMenuLeft": true,
   "nav_menu": {
    "height": "93px",
    "width": "252px"
   },
   "navigate_menu": true,
   "number_sections": true,
   "sideBar": true,
   "threshold": 4,
   "toc_cell": false,
   "toc_section_display": "block",
   "toc_window_display": false,
   "widenNotebook": false
  }
 },
 "nbformat": 4,
 "nbformat_minor": 2
}
