{
 "cells": [
  {
   "cell_type": "markdown",
   "metadata": {},
   "source": [
    "# Pointeur, référence et `auto`\n",
    "-----\n",
    "<center style=\"font-size:20px;\">\n",
    "Loic Gouarin\n",
    "</center>\n",
    "&nbsp;\n",
    "<center>\n",
    "*Licence 3*\n",
    "</center>\n",
    "<center>\n",
    "*Année 2017-2018*\n",
    "</center>\n",
    "\n",
    "-----\n",
    "\n",
    "Dans le suite de ce cours, nous allons régulièrement utiliser des références à nos variables ainsi que le mot clé `auto`. Nous allons donc passer quelques instants à expliquer leur signification et leur fonctionnement.\n",
    "\n",
    "## Pointeurs\n",
    "\n",
    "Un pointeur est une variable qui contient une adresse mémoire et est identifié grâce à l'opérateur `*`. Cette adresse peut être l'adresse d'une autre variable (que nous obtenons en faisant `&x`) ou une mémoire allouée dynamiquement (nous n'en parlerons pas dans ce cours).\n",
    "\n",
    "Un pointeur qui ne pointe sur rien est initialisé à la valeur `nullptr`."
   ]
  },
  {
   "cell_type": "code",
   "execution_count": 1,
   "metadata": {
    "collapsed": true
   },
   "outputs": [],
   "source": [
    "int *pi = nullptr;\n",
    "int i = 2;"
   ]
  },
  {
   "cell_type": "code",
   "execution_count": 2,
   "metadata": {},
   "outputs": [
    {
     "name": "stdout",
     "output_type": "stream",
     "text": [
      "(int *) 0x7fa3b8e76048\n"
     ]
    }
   ],
   "source": [
    "&i"
   ]
  },
  {
   "cell_type": "code",
   "execution_count": 3,
   "metadata": {},
   "outputs": [
    {
     "name": "stdout",
     "output_type": "stream",
     "text": [
      "(int *) nullptr\n"
     ]
    }
   ],
   "source": [
    "pi"
   ]
  },
  {
   "cell_type": "code",
   "execution_count": 4,
   "metadata": {},
   "outputs": [
    {
     "name": "stdout",
     "output_type": "stream",
     "text": [
      "(int *) 0x7fa3b8e76048\n"
     ]
    }
   ],
   "source": [
    "pi = &i"
   ]
  },
  {
   "cell_type": "code",
   "execution_count": 5,
   "metadata": {},
   "outputs": [
    {
     "name": "stdout",
     "output_type": "stream",
     "text": [
      "(int) 2\n"
     ]
    }
   ],
   "source": [
    "*pi"
   ]
  },
  {
   "cell_type": "code",
   "execution_count": 6,
   "metadata": {},
   "outputs": [
    {
     "name": "stdout",
     "output_type": "stream",
     "text": [
      "(int) 5\n"
     ]
    }
   ],
   "source": [
    "*pi = 5"
   ]
  },
  {
   "cell_type": "code",
   "execution_count": 7,
   "metadata": {},
   "outputs": [
    {
     "name": "stdout",
     "output_type": "stream",
     "text": [
      "(int) 5\n"
     ]
    }
   ],
   "source": [
    "i"
   ]
  },
  {
   "cell_type": "markdown",
   "metadata": {},
   "source": [
    "Lorsque l'on veut appeler une methode d'une instance d'une classe de type pointeur, on utilise l'opérateur `->`.\n",
    "\n",
    "Supposons que vous ayez une instance d'une classe qui est de type pointeur et que vous vouliez appeler sa méthode appelée `ma_methode` alors vous feriez"
   ]
  },
  {
   "cell_type": "code",
   "execution_count": null,
   "metadata": {
    "collapsed": true
   },
   "outputs": [],
   "source": [
    "ma_class *instance = ...\n",
    "instance->ma_methode(...); // équivalent à (*instance).ma_methode mais plus lisible"
   ]
  },
  {
   "cell_type": "markdown",
   "metadata": {},
   "source": [
    "## Références\n",
    "\n",
    "Jusqu'à maintenant, nous avons vu comment déclarer une variable de type scalaire qui pouvait être constante ou non."
   ]
  },
  {
   "cell_type": "code",
   "execution_count": 1,
   "metadata": {
    "collapsed": true
   },
   "outputs": [],
   "source": [
    "int i;\n",
    "const int j = 2;"
   ]
  },
  {
   "cell_type": "markdown",
   "metadata": {},
   "source": [
    "Nous avons ici créer une variable `i` de type `int` que nous n'avons pas initialisé et une variable `j` qui est constante et donc qui doit être initialisée et qui ne peut changer au cours du programme.\n",
    "\n",
    "Une référence matérialisée par le symbole `&` permet de dire que la variable se réfère au même espace mémoire qu'une autre variable. Vous l'aurait donc compris, il n'est pas possible de créer une variable comme référence si nous ne l'initialisons pas à la variable que l'on veut référencer.\n",
    "\n",
    "On peut voir la référence comme un alias qui permet, à partir d'un autre nom, d'accéder à la même variable.\n",
    "\n",
    "Voici un exemple"
   ]
  },
  {
   "cell_type": "code",
   "execution_count": 2,
   "metadata": {
    "collapsed": true
   },
   "outputs": [],
   "source": [
    "int& ri = i;"
   ]
  },
  {
   "cell_type": "code",
   "execution_count": 4,
   "metadata": {},
   "outputs": [
    {
     "name": "stdout",
     "output_type": "stream",
     "text": [
      "(int) 0\n"
     ]
    }
   ],
   "source": [
    "ri"
   ]
  },
  {
   "cell_type": "markdown",
   "metadata": {},
   "source": [
    "Etant donné que `ri` est une référence sur la variable `i`, si nous modifions `i` (respectivement `ri`), nous modifions alors `ri` (respectivement `i`)."
   ]
  },
  {
   "cell_type": "code",
   "execution_count": 7,
   "metadata": {},
   "outputs": [
    {
     "name": "stdout",
     "output_type": "stream",
     "text": [
      "ri: 4\n"
     ]
    }
   ],
   "source": [
    "i = 4; \n",
    "std::cout << \"ri: \" << ri << \"\\n\";"
   ]
  },
  {
   "cell_type": "code",
   "execution_count": 14,
   "metadata": {},
   "outputs": [
    {
     "name": "stdout",
     "output_type": "stream",
     "text": [
      "i: 5\n"
     ]
    }
   ],
   "source": [
    "ri = 5; \n",
    "std::cout << \"i: \" << i << \"\\n\";"
   ]
  },
  {
   "cell_type": "markdown",
   "metadata": {},
   "source": [
    "Vous pouvez créer une référence constante sur une variable."
   ]
  },
  {
   "cell_type": "code",
   "execution_count": 9,
   "metadata": {
    "collapsed": true
   },
   "outputs": [],
   "source": [
    "const int& cri = i;"
   ]
  },
  {
   "cell_type": "code",
   "execution_count": 11,
   "metadata": {},
   "outputs": [
    {
     "name": "stdout",
     "output_type": "stream",
     "text": [
      "cri: 5\n"
     ]
    }
   ],
   "source": [
    "std::cout << \"cri: \" << cri << \"\\n\";"
   ]
  },
  {
   "cell_type": "code",
   "execution_count": 12,
   "metadata": {},
   "outputs": [
    {
     "name": "stdout",
     "output_type": "stream",
     "text": [
      "cri: 13\n"
     ]
    }
   ],
   "source": [
    "i = 13;\n",
    "std::cout << \"cri: \" << cri << \"\\n\";"
   ]
  },
  {
   "cell_type": "markdown",
   "metadata": {},
   "source": [
    "En revanche, étant donné que la référence est constante, vous n'avez en aucun cas le droit de modifier `cri`."
   ]
  },
  {
   "cell_type": "code",
   "execution_count": 13,
   "metadata": {},
   "outputs": [
    {
     "name": "stderr",
     "output_type": "stream",
     "text": [
      "input_line_25:2:6: error: cannot assign to variable 'cri' with const-qualified type 'const int &'\n",
      " cri = 3;\n",
      " ~~~ ^\n",
      "input_line_21:2:13: note: variable 'cri' declared const here\n",
      " const int& cri = i;\n",
      " ~~~~~~~~~~~^~~~~~~\n"
     ]
    }
   ],
   "source": [
    "cri = 3;"
   ]
  },
  {
   "cell_type": "markdown",
   "metadata": {},
   "source": [
    "Les références sont très utilisées pour les paramètres des fonctions ou pour se référer à une partie d'un objet comme nous le verrons dans la suite."
   ]
  },
  {
   "cell_type": "markdown",
   "metadata": {},
   "source": [
    "## `auto`\n",
    "\n",
    "Depuis C++11, il est possible de laisser le soin au compilateur d'identifier le type d'une expression et d'intialiser une variable avec ce type à l'aide d'`auto`. Ceci ne veut pas dire que ça fait du langage C++ un langage non typé au même titre que Python. Une fois que le type est défini, celui-ci ne peut pas changer dans le scope comme vu précédemment."
   ]
  },
  {
   "cell_type": "code",
   "execution_count": 1,
   "metadata": {
    "collapsed": true
   },
   "outputs": [],
   "source": [
    "auto ai = 1;\n",
    "auto ad = 1.;\n",
    "auto ail = {1, 2, 3, 4};"
   ]
  },
  {
   "cell_type": "markdown",
   "metadata": {},
   "source": [
    "`typeid` vous permet de regarder le type d'une variable en C++."
   ]
  },
  {
   "cell_type": "code",
   "execution_count": 5,
   "metadata": {},
   "outputs": [
    {
     "name": "stdout",
     "output_type": "stream",
     "text": [
      "type de ai: i\n",
      "type de ad: d\n",
      "type de ail: St16initializer_listIiE\n"
     ]
    }
   ],
   "source": [
    "std::cout << \"type de ai: \" << typeid(ai).name() << \"\\n\";\n",
    "std::cout << \"type de ad: \" << typeid(ad).name() << \"\\n\";\n",
    "std::cout << \"type de ail: \" << typeid(ail).name() << \"\\n\";"
   ]
  },
  {
   "cell_type": "markdown",
   "metadata": {},
   "source": [
    "La chaîne de caractères n'est pas toujours très lisible et vous avez un outil en ligne de commande qui vous permet de faire ce qu'on appelle du \"demangling\"."
   ]
  },
  {
   "cell_type": "code",
   "execution_count": 22,
   "metadata": {},
   "outputs": [
    {
     "name": "stdout",
     "output_type": "stream",
     "text": [
      "int\n"
     ]
    }
   ],
   "source": [
    "! c++filt -t i"
   ]
  },
  {
   "cell_type": "code",
   "execution_count": 3,
   "metadata": {},
   "outputs": [
    {
     "name": "stdout",
     "output_type": "stream",
     "text": [
      "double\n"
     ]
    }
   ],
   "source": [
    "! c++filt -t d"
   ]
  },
  {
   "cell_type": "code",
   "execution_count": 4,
   "metadata": {},
   "outputs": [
    {
     "name": "stdout",
     "output_type": "stream",
     "text": [
      "std::initializer_list<int>\n"
     ]
    }
   ],
   "source": [
    "! c++filt -t St16initializer_listIiE"
   ]
  },
  {
   "cell_type": "markdown",
   "metadata": {},
   "source": [
    "`auto` est utile pour au moins deux raisons :\n",
    "\n",
    "- il permet d'avoir des codes beaucoup plus concis\n",
    "\n",
    "Imaginez que vous avez une expression de type `std::map<std::string, std::vector<std::array<double, 10>>>`, avez-vous vraiment envie de mettre\n",
    "\n",
    "```c++\n",
    "std::map<std::string, std::vector<std::array<double, 10>>> v = expr;\n",
    "```\n",
    "\n",
    "Alors que \n",
    "\n",
    "```c++\n",
    "auto v = expr;\n",
    "```\n",
    "\n",
    "fait la même chose !!\n",
    "\n",
    "- il vous oblige à initialiser la variable car sinon il ne peut identifier le type. En effet,\n",
    "\n",
    "```c++\n",
    "auto v;\n",
    "```\n",
    "\n",
    "n'a pas de sens.\n",
    "\n",
    "Il faut faire attention, `auto` vous donne le type mais en aucun cas il sait si ce type doit être constant et/ou une référence. Il faut donc les ajouter comme tout autre type."
   ]
  },
  {
   "cell_type": "code",
   "execution_count": 1,
   "metadata": {
    "collapsed": true
   },
   "outputs": [],
   "source": [
    "auto t = 2.;\n",
    "const auto const_t = t;\n",
    "auto& ref_t = t;\n",
    "const auto& const_ref_t = t;"
   ]
  },
  {
   "cell_type": "markdown",
   "metadata": {},
   "source": [
    "Il est encouragé d'utiliser le plus possible `auto` (voir [AAA style](https://herbsutter.com/2013/08/12/gotw-94-solution-aaa-style-almost-always-auto/) (Almost Always Auto)). Mais vous devez bien comprendre ce que vous faites.\n",
    "\n",
    "Prenons l'exemple suivant"
   ]
  },
  {
   "cell_type": "code",
   "execution_count": 1,
   "metadata": {
    "collapsed": true
   },
   "outputs": [],
   "source": [
    "auto x = 0.;\n",
    "auto n = 10;\n",
    "\n",
    "for(std::size_t i = 0; i < n; ++i)\n",
    "{\n",
    "    const auto ih = i/(n + 1);\n",
    "    x = 10 + ih;\n",
    "}"
   ]
  },
  {
   "cell_type": "markdown",
   "metadata": {},
   "source": [
    "A votre avis, que vaut `x` ? Comment faire en sorte que ça fasse ce que l'on souhaite ?"
   ]
  },
  {
   "cell_type": "code",
   "execution_count": 1,
   "metadata": {
    "collapsed": true,
    "slideshow": {
     "slide_type": "skip"
    }
   },
   "outputs": [
    {
     "data": {
      "text/html": [
       "<link href='http://fonts.googleapis.com/css?family=Fenix' rel='stylesheet' type='text/css'>\n",
       "<link href='http://fonts.googleapis.com/css?family=Alegreya+Sans:100,300,400,500,700,800,900,100italic,300italic,400italic,500italic,700italic,800italic,900italic' rel='stylesheet' type='text/css'>\n",
       "<link href='http://fonts.googleapis.com/css?family=Source+Code+Pro:300,400' rel='stylesheet' type='text/css'>\n",
       "<link href=\"https://fonts.googleapis.com/css?family=Oswald|Raleway\" rel=\"stylesheet\" type='text/css'> \n",
       "<style>\n",
       "\n",
       "div.input_area {\n",
       "    border-radius: 10px !important;\n",
       "    background-color: #e1e1e6 !important;\n",
       "}\n",
       ".rendered_html pre, .rendered_html code {\n",
       "    color: #47597A /*#286e92*/ !important;\n",
       "}\n",
       "\n",
       "    h1, h2, h3, h4, h5 {\n",
       "        font-family: 'Oswald', sans-serif; !important;\n",
       "        /*font-style: oblique !important;*/\n",
       "    }\n",
       "    div.text_cell_render{\n",
       "        font-family: 'Raleway', sans-serif; !important;\n",
       "        line-height: 135% !important;\n",
       "        font-size: 120% !important;\n",
       "        width:100%;/*600px;*/\n",
       "        /*margin-left:auto;*/\n",
       "        /*margin-right:auto;*/\n",
       "    }\n",
       "    .CodeMirror{\n",
       "            font-family: \"Source Code Pro\" !important;\n",
       "            font-size: 120% !important;\n",
       "    }\n",
       "    .text_cell_render p{\n",
       "        text-align: justify !important;\n",
       "    }\n",
       "    .text_cell_render h1 {\n",
       "        font-weight: 200 !important;\n",
       "        line-height: 100% !important;\n",
       "        color:#47597A !important;\n",
       "        margin-bottom: 10.em !important;\n",
       "        margin-top: 50.em !important;\n",
       "        padding-bottom: 50.em !important;\n",
       "        padding-top: 50.em !important;\n",
       "        display: block !important;\n",
       "        font-size: 300% !important;\n",
       "        text-align: center !important;\n",
       "        border-bottom: 1px solid #47597A !important;\n",
       "        border-top: 1px solid #47597A !important;\n",
       "    }\n",
       "    .text_cell_render h2 {\n",
       "        font-weight: 200 !important;\n",
       "        line-height: 100% !important;\n",
       "        color:#47597A !important;\n",
       "        margin-bottom: 0.5em !important;\n",
       "        margin-top: 0.5em !important;\n",
       "        display: block !important;\n",
       "        font-size: 200% !important;\n",
       "        border-bottom: 1px solid #47597A !important;\n",
       "    }\n",
       "    .text_cell_render h3 {\n",
       "        font-weight: 200 !important;\n",
       "        line-height: 100% !important;\n",
       "        color:#47597A !important;\n",
       "        margin-bottom: 0.5em !important;\n",
       "        margin-top: 0.5em !important;\n",
       "        display: block !important;\n",
       "        font-size: 170% !important;\n",
       "    }\n",
       "    .text_cell_render h4 {\n",
       "        font-style: italic !important;\n",
       "        font-weight: normal !important;\n",
       "        line-height: 100% !important;\n",
       "        color:#47597A !important;\n",
       "        display: block !important;\n",
       "        font-size: 130% !important;\n",
       "    }\n",
       "    .text_cell_render h5 {\n",
       "        font-weight: 200 !important;\n",
       "        line-height: 100% !important;\n",
       "        color:#47597A !important;\n",
       "        margin-bottom: 0.5em !important;\n",
       "        margin-top: 0.5em !important;\n",
       "        display: block !important;\n",
       "        font-size: 120% !important;\n",
       "    }\n",
       "    .text_cell_render ul {\n",
       "\tlist-style-type: disc !important;\n",
       "\tcolor:#47597A !important;\n",
       "    }\n",
       "    .warning{\n",
       "        color: rgb( 240, 20, 20 ) !important;\n",
       "        }\n",
       "\n",
       "    .toc-item-num {\n",
       "        display: none;\n",
       "    }\n",
       "\n",
       "    .reveal section img{\n",
       "        margin: 0px auto;\n",
       "    }\n",
       "\n",
       "    div.output_area img{\n",
       "        display: block;\n",
       "        margin: 0px auto;\n",
       "    }\n",
       "  \n",
       "</style>\n",
       "\n",
       "<script>\n",
       "MathJax.Hub.Config({\n",
       "TeX: {extensions: [\"AMSmath.js\"]\n",
       "                           },\n",
       "                tex2jax: {\n",
       "                    inlineMath: [ ['$','$'], [\"\\\\(\",\"\\\\)\"] ],\n",
       "                    displayMath: [ ['$$','$$'], [\"\\\\[\",\"\\\\]\"] ]\n",
       "                },\n",
       "                displayAlign: 'center', // Change this to 'center' to center equations.\n",
       "                \"HTML-CSS\": {\n",
       "                    styles: {'.MathJax_Display': {\"margin\": 4}}\n",
       "                }\n",
       "        });\n",
       "</script>\n"
      ],
      "text/plain": [
       "<IPython.core.display.HTML object>"
      ]
     },
     "execution_count": 39,
     "metadata": {},
     "output_type": "execute_result"
    }
   ],
   "source": [
    "// style cell: don't remove !!"
   ]
  },
  {
   "cell_type": "code",
   "execution_count": null,
   "metadata": {
    "collapsed": true
   },
   "outputs": [],
   "source": []
  }
 ],
 "metadata": {
  "kernelspec": {
   "display_name": "xeus C++14",
   "language": "",
   "name": "xeus-cling-cpp14"
  },
  "language_info": {
   "codemirror_mode": "text/x-c++src",
   "file_extension": ".cpp",
   "mimetype": "text/x-c++src",
   "name": "c++",
   "version": ""
  }
 },
 "nbformat": 4,
 "nbformat_minor": 2
}
