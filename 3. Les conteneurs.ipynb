{
 "cells": [
  {
   "cell_type": "markdown",
   "metadata": {},
   "source": [
    "Vous avez pu voir lors du premier cours les bases du langage et comment initialiser et travailler avec des scalaires. Lorsque l'on souhaite faire du calcul scientifique, nous sommes très rarement confrontés à des problèmes ne faisant intervenir que des scalaires. Nous cherchons plutôt à résoudre des problèmes faisant intervenir des vecteurs, des matrices, ...\n",
    "\n",
    "Il est donc nécessaire d'avoir d'autres types permettant de stocker ce genre d'objets mathématiques. Vous pourriez bien évidemment les créer vous même avec le langage mais la librairie standard offre déjà un bon nombre de types qui peuvent être utilisés de suite: `std::array`, `std::vector`, `std::pair`, `std::tuple`, ... L'intérêt de les utiliser est que vous n'avez pas à vous soucier de la gestion de la mémoire. \n",
    "\n",
    "Nous allons voir dans la suite comment les utiliser.\n",
    "\n",
    "# Le conteneur `std::pair`\n",
    "\n",
    "Comme son nom l'indique, ce conteneur permet de stocker une paire de valeurs. Les deux types des valeurs stockées sont définies lors de la construction. \n",
    "\n",
    "Pour l'utiliser, il faut inclure `utility`."
   ]
  },
  {
   "cell_type": "code",
   "execution_count": 62,
   "metadata": {},
   "outputs": [],
   "source": [
    "#include <utility>\n",
    "\n",
    "std::pair<std::string, double> constante{\"pi\", 3.1415};"
   ]
  },
  {
   "cell_type": "markdown",
   "metadata": {},
   "source": [
    "On accède aux éléments de la manière suivante"
   ]
  },
  {
   "cell_type": "code",
   "execution_count": 63,
   "metadata": {},
   "outputs": [
    {
     "name": "stdout",
     "output_type": "stream",
     "text": [
      "pi vaut environ 3.1415.\n"
     ]
    }
   ],
   "source": [
    "std::cout << constante.first << \" vaut environ \" << constante.second << \".\\n\"; "
   ]
  },
  {
   "cell_type": "markdown",
   "metadata": {},
   "source": [
    "# Le conteneur `std::tuple`\n",
    "\n",
    "Ce conteneur est l'équivalent de `std::pair`. Au lieu de stocker des valeurs de deux types, il peut stocker des valeurs de $N$ types.\n",
    "\n",
    "Pour l'utiliser, il faut inclure `tuple`."
   ]
  },
  {
   "cell_type": "code",
   "execution_count": 2,
   "metadata": {
    "collapsed": true
   },
   "outputs": [],
   "source": [
    "#include <tuple>\n",
    "\n",
    "std::tuple<std::string, double, int> tuple{\"pi\", 3.1415, 3};"
   ]
  },
  {
   "cell_type": "markdown",
   "metadata": {},
   "source": [
    "Pour accéder aux éléments, il faut utiliser `std::get`."
   ]
  },
  {
   "cell_type": "code",
   "execution_count": 7,
   "metadata": {},
   "outputs": [
    {
     "name": "stdout",
     "output_type": "stream",
     "text": [
      "pi\n"
     ]
    }
   ],
   "source": [
    "std::cout << std::get<0>(tuple) << \"\\n\";"
   ]
  },
  {
   "cell_type": "markdown",
   "metadata": {},
   "source": [
    "Depuis C++14, il est également possible d'accéder aux éléments du tuple par leur type si il n'y a pas d'ambiguité (si tous les types sont différents). Ceci permet de ne pas se soucier de l'autre dans lequel on a rangé les éléments."
   ]
  },
  {
   "cell_type": "code",
   "execution_count": 8,
   "metadata": {},
   "outputs": [
    {
     "name": "stdout",
     "output_type": "stream",
     "text": [
      "pi\n"
     ]
    }
   ],
   "source": [
    "std::cout << std::get<std::string>(tuple) << \"\\n\";"
   ]
  },
  {
   "cell_type": "markdown",
   "metadata": {},
   "source": [
    "Pour créer un tuple, il peut être plus simple d'utiliser la fonction `std::make_tuple`. "
   ]
  },
  {
   "cell_type": "code",
   "execution_count": 1,
   "metadata": {
    "collapsed": true
   },
   "outputs": [],
   "source": [
    "auto tuple2 = std::make_tuple(\"pi\", 3.1415, 3);"
   ]
  },
  {
   "cell_type": "markdown",
   "metadata": {},
   "source": [
    "Les types se trouvant dans le tuple sont bien évidemment déduits des types des paramètres de `std::make_tuple`. \n",
    "\n",
    "Vous pouvez également mettre directement les éléments du tuple dans des variables en utilisant la fonction `std::tie`."
   ]
  },
  {
   "cell_type": "code",
   "execution_count": 3,
   "metadata": {
    "collapsed": true
   },
   "outputs": [],
   "source": [
    "std::string name;\n",
    "double d;\n",
    "int i;\n",
    "std::tie(name, d, i) = tuple2;"
   ]
  },
  {
   "cell_type": "code",
   "execution_count": 5,
   "metadata": {},
   "outputs": [
    {
     "name": "stdout",
     "output_type": "stream",
     "text": [
      "pi 3.1415 3\n"
     ]
    }
   ],
   "source": [
    "std::cout << name << \" \" << d << \" \" << i << \"\\n\";"
   ]
  },
  {
   "cell_type": "markdown",
   "metadata": {},
   "source": [
    "Enfin, pour connaître le nombre d'éléments composant le tuple"
   ]
  },
  {
   "cell_type": "code",
   "execution_count": 6,
   "metadata": {},
   "outputs": [
    {
     "name": "stdout",
     "output_type": "stream",
     "text": [
      "(const unsigned long) 3\n"
     ]
    }
   ],
   "source": [
    "std::tuple_size<decltype(tuple2)>::value"
   ]
  },
  {
   "cell_type": "markdown",
   "metadata": {},
   "source": [
    "# Le conteneur `std::initializer_list`\n",
    "\n",
    "Un objet de type `std::initializer_list` founit un accès à un tableau d'objet de type `T`. Il faut inclure `<initializer_list>` pour pouvoir l'utiliser. Néanmoins, si vous l'uitlisez pour intialiser d'autres types de conteneur comme nous le verrons dans la suite, il n'est pas nécessaire de l'inclure car il est déjà inclu et donc disponible.\n",
    "\n",
    "Par exemple, nous construisons ici une liste d'entiers"
   ]
  },
  {
   "cell_type": "code",
   "execution_count": 1,
   "metadata": {},
   "outputs": [],
   "source": [
    "#include <initializer_list>\n",
    "\n",
    "std::initializer_list<int> list_i = {1, -2, 3, -6};"
   ]
  },
  {
   "cell_type": "markdown",
   "metadata": {},
   "source": [
    "Vous pouvez bien évidemment utiliser `auto` qui vous donne de suite le bon type par défaut."
   ]
  },
  {
   "cell_type": "code",
   "execution_count": 2,
   "metadata": {},
   "outputs": [],
   "source": [
    "auto alist_i = {1, -2, 3, -6};"
   ]
  },
  {
   "cell_type": "markdown",
   "metadata": {},
   "source": [
    "Comme tout conteneur en C++, la classe `std::initializer_list` a un certain nombre de méthodes permettant de travailler avec. Ainsi, on peut connaître sa taille avec la méthode `size`."
   ]
  },
  {
   "cell_type": "code",
   "execution_count": 4,
   "metadata": {},
   "outputs": [
    {
     "name": "stdout",
     "output_type": "stream",
     "text": [
      "(unsigned long) 4\n"
     ]
    }
   ],
   "source": [
    "list_i.size()"
   ]
  },
  {
   "cell_type": "markdown",
   "metadata": {},
   "source": [
    "Ce qu'on peut faire avec `std::initializer_list` s'arrête à peu près là. Il est donc plutôt utile pour initialiser les autres conteneurs."
   ]
  },
  {
   "cell_type": "markdown",
   "metadata": {},
   "source": [
    "# Les conteneurs séquentiels\n",
    "\n",
    "## `std::vector`\n",
    "\n",
    "La première chose à faire pour utiliser `std::vector` est de l'inclure via"
   ]
  },
  {
   "cell_type": "code",
   "execution_count": 1,
   "metadata": {
    "collapsed": true
   },
   "outputs": [],
   "source": [
    "#include <vector>"
   ]
  },
  {
   "cell_type": "markdown",
   "metadata": {},
   "source": [
    "`std::vector` est une classe C++ et donc contient un certain nombre de constructeurs permettant d'instancier un objet."
   ]
  },
  {
   "cell_type": "code",
   "execution_count": 2,
   "metadata": {},
   "outputs": [],
   "source": [
    "?std::vector"
   ]
  },
  {
   "cell_type": "markdown",
   "metadata": {},
   "source": [
    "`std::vector` est un conteneur dynamique, ce qui signifie que nous ne connaissons pas a priori le nombre d'éléments à la compilation.\n",
    "\n",
    "La première question à se poser est pourquoi utiliser ce conteneur plutôt qu'utiliser un tableau à la C comme"
   ]
  },
  {
   "cell_type": "code",
   "execution_count": 28,
   "metadata": {},
   "outputs": [],
   "source": [
    "double a[] = {1, 2, 3};"
   ]
  },
  {
   "cell_type": "markdown",
   "metadata": {},
   "source": [
    "Pour plusieurs raisons\n",
    "\n",
    "- vous n'avez pas à vous préoccuper de l'allocation, de la désallocation ou de la réallocation mémoire.\n",
    "- vous pouvez modifier la taille à tout moment.\n",
    "- il est très simple d'affecter un `std::vector` à un autre ou de les concaténer.\n",
    "- il est très simple de comparer deux `std::vector`.\n",
    "\n",
    "De plus, la classe `std::vector` offre des implémentations avec beaucoup d'optimisations que la plupart des développeurs ne sont pas capables de faire avec des tableaux à la C. L'accès aléatoire, l'insertion ou la suppression du dernier élément sont des opérations en $O(1)$. L'insertion ou la suppression n'importe où est en $O(n)$.\n",
    "\n",
    "Vous pouvez également facilement appeler des API C qui font intervenir des tableaux à la C avec un `std::vector`. Et de la même manière que les tableaux à la C, les éléments sont contigus en mémoire ce qui est primordial pour bien exploiter les caches."
   ]
  },
  {
   "cell_type": "markdown",
   "metadata": {},
   "source": [
    "### Le constructeur"
   ]
  },
  {
   "cell_type": "markdown",
   "metadata": {},
   "source": [
    "Construisons un `std::vector` de `double` vide."
   ]
  },
  {
   "cell_type": "code",
   "execution_count": 3,
   "metadata": {
    "collapsed": true
   },
   "outputs": [],
   "source": [
    "std::vector<double> v;"
   ]
  },
  {
   "cell_type": "markdown",
   "metadata": {},
   "source": [
    "Comme pour `std::initializer_list`, nous pouvons accéder à sa taille."
   ]
  },
  {
   "cell_type": "code",
   "execution_count": 4,
   "metadata": {},
   "outputs": [
    {
     "name": "stdout",
     "output_type": "stream",
     "text": [
      "(unsigned long) 0\n"
     ]
    }
   ],
   "source": [
    "v.size()"
   ]
  },
  {
   "cell_type": "markdown",
   "metadata": {},
   "source": [
    "Là encore la classe `std::vector` a un certain nombre de méthodes permettant de le manipuler. Pour ajouter un élément à la fin, il suffit d'utiliser la méthode `push_back`."
   ]
  },
  {
   "cell_type": "code",
   "execution_count": 5,
   "metadata": {
    "collapsed": true
   },
   "outputs": [],
   "source": [
    "v.push_back(1.33);"
   ]
  },
  {
   "cell_type": "markdown",
   "metadata": {},
   "source": [
    "Pour accéder à un élément à partir de son index, il faut utiliser l'opérateur `[]`. \n",
    "\n",
    "Attention: en C++ l'index du premier élément d'un conteneur est 0."
   ]
  },
  {
   "cell_type": "code",
   "execution_count": 6,
   "metadata": {},
   "outputs": [
    {
     "name": "stdout",
     "output_type": "stream",
     "text": [
      "(double) 1.330000\n"
     ]
    }
   ],
   "source": [
    "v[0]"
   ]
  },
  {
   "cell_type": "code",
   "execution_count": 7,
   "metadata": {},
   "outputs": [
    {
     "name": "stdout",
     "output_type": "stream",
     "text": [
      "(unsigned long) 1\n"
     ]
    }
   ],
   "source": [
    "v.size()"
   ]
  },
  {
   "cell_type": "markdown",
   "metadata": {},
   "source": [
    "Il existe d'autres méthode pour construire un `std::vector`. \n",
    "\n",
    "- Construction à partir de sa taille en initialisant tous les éléments à une valeur par défaut"
   ]
  },
  {
   "cell_type": "code",
   "execution_count": 8,
   "metadata": {
    "collapsed": true
   },
   "outputs": [],
   "source": [
    "std::vector<double> x(10, 3.14);"
   ]
  },
  {
   "cell_type": "code",
   "execution_count": 9,
   "metadata": {},
   "outputs": [
    {
     "name": "stdout",
     "output_type": "stream",
     "text": [
      "(double) 3.140000\n"
     ]
    }
   ],
   "source": [
    "x[0]"
   ]
  },
  {
   "cell_type": "code",
   "execution_count": 10,
   "metadata": {},
   "outputs": [
    {
     "name": "stdout",
     "output_type": "stream",
     "text": [
      "(unsigned long) 10\n"
     ]
    }
   ],
   "source": [
    "x.size()"
   ]
  },
  {
   "cell_type": "markdown",
   "metadata": {},
   "source": [
    "Si vous ne donnez pas de valeur d'initialisation, le `std::vector` est initialisé avec la valeur 0."
   ]
  },
  {
   "cell_type": "code",
   "execution_count": 11,
   "metadata": {
    "collapsed": true
   },
   "outputs": [],
   "source": [
    "std::vector<double> y(10);"
   ]
  },
  {
   "cell_type": "code",
   "execution_count": 12,
   "metadata": {},
   "outputs": [
    {
     "name": "stdout",
     "output_type": "stream",
     "text": [
      "(double) 0.000000\n"
     ]
    }
   ],
   "source": [
    "y[1]"
   ]
  },
  {
   "cell_type": "markdown",
   "metadata": {},
   "source": [
    "- Construction à partir de `std::initializer_list`"
   ]
  },
  {
   "cell_type": "code",
   "execution_count": 13,
   "metadata": {
    "collapsed": true
   },
   "outputs": [],
   "source": [
    "std::vector<double> z{1, 2, 3, 4, 5};"
   ]
  },
  {
   "cell_type": "code",
   "execution_count": 14,
   "metadata": {},
   "outputs": [
    {
     "name": "stdout",
     "output_type": "stream",
     "text": [
      "(double) 3.000000\n"
     ]
    }
   ],
   "source": [
    "z[2]"
   ]
  },
  {
   "cell_type": "markdown",
   "metadata": {},
   "source": [
    "### Parcours des éléments"
   ]
  },
  {
   "cell_type": "markdown",
   "metadata": {},
   "source": [
    "Pour parcourir les éléments, vous avez différentes options.\n",
    "\n",
    "- A partir de sa taille"
   ]
  },
  {
   "cell_type": "code",
   "execution_count": 15,
   "metadata": {},
   "outputs": [
    {
     "name": "stdout",
     "output_type": "stream",
     "text": [
      "1, 2, 3, 4, 5, "
     ]
    }
   ],
   "source": [
    "for(std::size_t i=0; i<z.size(); ++i)\n",
    "    std::cout << z[i] << \", \";"
   ]
  },
  {
   "cell_type": "markdown",
   "metadata": {},
   "source": [
    "- Avec un itérateur\n",
    "\n",
    "Comme la plupart des conteneurs vous avez accès à des itérateurs `begin` et `end` qui sont des pointeurs vers le début et la fin du conteneur. Pour accéder à la valeur pointée, il suffit d'utiliser l'opérateur `*`."
   ]
  },
  {
   "cell_type": "code",
   "execution_count": 16,
   "metadata": {},
   "outputs": [
    {
     "name": "stdout",
     "output_type": "stream",
     "text": [
      "1, 2, 3, 4, 5, "
     ]
    }
   ],
   "source": [
    "for(std::vector<double>::iterator v=z.begin(); v<z.end(); ++v)\n",
    "    std::cout << *v << \", \";"
   ]
  },
  {
   "cell_type": "markdown",
   "metadata": {},
   "source": [
    "ou"
   ]
  },
  {
   "cell_type": "code",
   "execution_count": 17,
   "metadata": {},
   "outputs": [
    {
     "name": "stdout",
     "output_type": "stream",
     "text": [
      "1, 2, 3, 4, 5, "
     ]
    }
   ],
   "source": [
    "for(auto v=z.begin(); v<z.end(); ++v)\n",
    "    std::cout << *v << \", \";"
   ]
  },
  {
   "cell_type": "markdown",
   "metadata": {},
   "source": [
    "- Ou encore plus simplement"
   ]
  },
  {
   "cell_type": "code",
   "execution_count": 18,
   "metadata": {},
   "outputs": [
    {
     "name": "stdout",
     "output_type": "stream",
     "text": [
      "1, 2, 3, 4, 5, "
     ]
    }
   ],
   "source": [
    "for (auto v: z)\n",
    "    std::cout << v << \", \";"
   ]
  },
  {
   "cell_type": "markdown",
   "metadata": {},
   "source": [
    "Pour modifier les éléements, vous pouvez le faire via une boucle."
   ]
  },
  {
   "cell_type": "code",
   "execution_count": 19,
   "metadata": {},
   "outputs": [
    {
     "name": "stdout",
     "output_type": "stream",
     "text": [
      "2, 4, 6, 8, 10, "
     ]
    }
   ],
   "source": [
    "for(std::size_t i=0; i<z.size(); ++i)\n",
    "    z[i] *= 2;\n",
    "\n",
    "for(std::size_t i=0; i<z.size(); ++i)\n",
    "    std::cout << z[i] << \", \";"
   ]
  },
  {
   "cell_type": "markdown",
   "metadata": {},
   "source": [
    "Mais attention lorsque vous utilisez la version `for (auto v: z)`."
   ]
  },
  {
   "cell_type": "code",
   "execution_count": 14,
   "metadata": {},
   "outputs": [
    {
     "name": "stdout",
     "output_type": "stream",
     "text": [
      "__gnu_cxx::__normal_iterator<double const*, std::vector<double, std::allocator<double> > >\n"
     ]
    }
   ],
   "source": [
    "! c++filt -t N9__gnu_cxx17__normal_iteratorIPKdSt6vectorIdSaIdEEEE"
   ]
  },
  {
   "cell_type": "code",
   "execution_count": 20,
   "metadata": {},
   "outputs": [
    {
     "name": "stdout",
     "output_type": "stream",
     "text": [
      "2, 4, 6, 8, 10, "
     ]
    }
   ],
   "source": [
    "for (auto v: z)\n",
    "    v *= 2;\n",
    "\n",
    "for(std::size_t i=0; i<z.size(); ++i)\n",
    "    std::cout << z[i] << \", \";"
   ]
  },
  {
   "cell_type": "markdown",
   "metadata": {},
   "source": [
    "`z` n'a pas été modifié ici car on copie chaque élément de `z` dans `v` et on travaille ensuite avec `v`. Donc à l'intérieur de la boucle, on change bien la valeur de `v` mais on ne la réaffecte jamais aux éléments de `z`.\n",
    "\n",
    "Pour que ça fonctionne, il faut donc passer par référence."
   ]
  },
  {
   "cell_type": "code",
   "execution_count": 21,
   "metadata": {},
   "outputs": [
    {
     "name": "stdout",
     "output_type": "stream",
     "text": [
      "4, 8, 12, 16, 20, "
     ]
    }
   ],
   "source": [
    "for (auto& v: z)\n",
    "    v *= 2;\n",
    "\n",
    "for(std::size_t i=0; i<z.size(); ++i)\n",
    "    std::cout << z[i] << \", \";"
   ]
  },
  {
   "cell_type": "markdown",
   "metadata": {},
   "source": [
    "On peut insérer des éléments n'importe où dans le `vector` à l'aide de la méthode `insert`.\n",
    "\n",
    "- ajout d'un élément"
   ]
  },
  {
   "cell_type": "code",
   "execution_count": 22,
   "metadata": {},
   "outputs": [
    {
     "name": "stdout",
     "output_type": "stream",
     "text": [
      "200, 4, 8, 12, 16, 20, "
     ]
    }
   ],
   "source": [
    "z.insert(z.begin(), 200);\n",
    "for(std::size_t i=0; i<z.size(); ++i)\n",
    "    std::cout << z[i] << \", \";"
   ]
  },
  {
   "cell_type": "markdown",
   "metadata": {},
   "source": [
    "- ajout d'éléments provenant d'un autre conteneur"
   ]
  },
  {
   "cell_type": "code",
   "execution_count": 23,
   "metadata": {},
   "outputs": [
    {
     "name": "stdout",
     "output_type": "stream",
     "text": [
      "200, 0, 0, 0, 0, 0, 0, 4, 8, 12, 16, 20, "
     ]
    }
   ],
   "source": [
    "z.insert(z.begin()+1, y.begin(), y.end()-4);\n",
    "for(std::size_t i=0; i<z.size(); ++i)\n",
    "    std::cout << z[i] << \", \";"
   ]
  },
  {
   "cell_type": "markdown",
   "metadata": {},
   "source": [
    "- ajout d'éléments à partir de `std::initializer_list`"
   ]
  },
  {
   "cell_type": "code",
   "execution_count": 24,
   "metadata": {},
   "outputs": [],
   "source": [
    "z.insert(z.begin()+2, {1, 2, 3});"
   ]
  },
  {
   "cell_type": "code",
   "execution_count": 25,
   "metadata": {},
   "outputs": [
    {
     "name": "stdout",
     "output_type": "stream",
     "text": [
      "200, 0, 1, 2, 3, 0, 0, 0, 0, 0, 4, 8, 12, 16, 20, "
     ]
    }
   ],
   "source": [
    "for(std::size_t i=0; i<z.size(); ++i)\n",
    "    std::cout << z[i] << \", \";"
   ]
  },
  {
   "cell_type": "markdown",
   "metadata": {},
   "source": [
    "### Changer la taille\n",
    "\n",
    "Comme nous l'avons vu précédemment, nous pouvons savoir quelle est la taille d'un `std::vector` à l'aide de la méthode `size`. Nous pouvons également savoir combien d'éléments peut contenir `std::vector` à un instant $t$ à l'aide de la méthode `capacity`."
   ]
  },
  {
   "cell_type": "code",
   "execution_count": 30,
   "metadata": {},
   "outputs": [
    {
     "name": "stdout",
     "output_type": "stream",
     "text": [
      "(unsigned long) 15\n"
     ]
    }
   ],
   "source": [
    "z.size()"
   ]
  },
  {
   "cell_type": "code",
   "execution_count": 35,
   "metadata": {},
   "outputs": [
    {
     "name": "stdout",
     "output_type": "stream",
     "text": [
      "(unsigned long) 24\n"
     ]
    }
   ],
   "source": [
    "z.capacity()"
   ]
  },
  {
   "cell_type": "markdown",
   "metadata": {},
   "source": [
    "Ceci indique que notre `std::vector` peut encore contenir 9 éléments. Une fois que la capacité maximale est attente et que l'on souhaite insérer un nouvel élément, `std::vector` multiplie par deux la capacité et recopie tous les éléments dans ce nouvel espace mémoire puis libère le précédent.\n",
    "\n",
    "Testons"
   ]
  },
  {
   "cell_type": "code",
   "execution_count": 36,
   "metadata": {},
   "outputs": [],
   "source": [
    "for (std::size_t i=0; i<9; ++i)\n",
    "    z.push_back(i);"
   ]
  },
  {
   "cell_type": "code",
   "execution_count": 37,
   "metadata": {},
   "outputs": [
    {
     "name": "stdout",
     "output_type": "stream",
     "text": [
      "(unsigned long) 24\n"
     ]
    }
   ],
   "source": [
    "z.size()"
   ]
  },
  {
   "cell_type": "code",
   "execution_count": 38,
   "metadata": {},
   "outputs": [
    {
     "name": "stdout",
     "output_type": "stream",
     "text": [
      "(unsigned long) 24\n"
     ]
    }
   ],
   "source": [
    "z.capacity()"
   ]
  },
  {
   "cell_type": "markdown",
   "metadata": {},
   "source": [
    "Notre conteneur est plein. Essayons à présent d'ajouter un élément."
   ]
  },
  {
   "cell_type": "code",
   "execution_count": 39,
   "metadata": {
    "collapsed": true
   },
   "outputs": [],
   "source": [
    "z.push_back(100);"
   ]
  },
  {
   "cell_type": "code",
   "execution_count": 40,
   "metadata": {},
   "outputs": [
    {
     "name": "stdout",
     "output_type": "stream",
     "text": [
      "(unsigned long) 25\n"
     ]
    }
   ],
   "source": [
    "z.size()"
   ]
  },
  {
   "cell_type": "code",
   "execution_count": 41,
   "metadata": {},
   "outputs": [
    {
     "name": "stdout",
     "output_type": "stream",
     "text": [
      "(unsigned long) 48\n"
     ]
    }
   ],
   "source": [
    "z.capacity()"
   ]
  },
  {
   "cell_type": "markdown",
   "metadata": {},
   "source": [
    "Redimensionner le conteneur à un coup et si on sait, même approximativement, quelle taille il va faire, il est préférable de le spécifier dès le début à l'aide de la méthode `reserve`."
   ]
  },
  {
   "cell_type": "code",
   "execution_count": 42,
   "metadata": {
    "collapsed": true
   },
   "outputs": [],
   "source": [
    "z.reserve(100);"
   ]
  },
  {
   "cell_type": "code",
   "execution_count": 43,
   "metadata": {},
   "outputs": [
    {
     "name": "stdout",
     "output_type": "stream",
     "text": [
      "(unsigned long) 100\n"
     ]
    }
   ],
   "source": [
    "z.capacity()"
   ]
  },
  {
   "cell_type": "markdown",
   "metadata": {},
   "source": [
    "### Effacer des éléments\n",
    "\n",
    "On peut effacer le dernier élément"
   ]
  },
  {
   "cell_type": "code",
   "execution_count": 48,
   "metadata": {
    "collapsed": true
   },
   "outputs": [],
   "source": [
    "z.pop_back();"
   ]
  },
  {
   "cell_type": "markdown",
   "metadata": {},
   "source": [
    "On peut effacer certains éléments"
   ]
  },
  {
   "cell_type": "code",
   "execution_count": 52,
   "metadata": {},
   "outputs": [
    {
     "name": "stdout",
     "output_type": "stream",
     "text": [
      "200, 2, 3, 0, 0, 0, 0, 0, 4, 8, 12, 16, 20, 0, 1, 2, 3, 4, 5, 6, 7, 8, 100, 0, 0, 0, 0, \n",
      "200, 3, 0, 0, 0, 0, 0, 4, 8, 12, 16, 20, 0, 1, 2, 3, 4, 5, 6, 7, 8, 100, 0, 0, 0, 0, \n",
      "200, 16, 20, 0, 1, 2, 3, 4, 5, 6, 7, 8, 100, 0, 0, 0, 0, "
     ]
    }
   ],
   "source": [
    "for (auto v: z)\n",
    "    std::cout << v << \", \";\n",
    "std::cout << \"\\n\";\n",
    "\n",
    "z.erase(z.begin()+1);\n",
    "    \n",
    "for (auto v: z)\n",
    "    std::cout << v << \", \";\n",
    "std::cout << \"\\n\";\n",
    "\n",
    "z.erase(z.begin()+1, z.begin()+10);\n",
    "for (auto v: z)\n",
    "    std::cout << v << \", \";"
   ]
  },
  {
   "cell_type": "markdown",
   "metadata": {},
   "source": [
    "Ou on peut effacer tout le conteneur."
   ]
  },
  {
   "cell_type": "code",
   "execution_count": 53,
   "metadata": {},
   "outputs": [
    {
     "name": "stdout",
     "output_type": "stream",
     "text": [
      "(unsigned long) 0\n"
     ]
    }
   ],
   "source": [
    "z.clear();\n",
    "z.size()"
   ]
  },
  {
   "cell_type": "markdown",
   "metadata": {},
   "source": [
    "Attention : le fait d'enlever tous les éléments ne touchent pas à la capacité du conteneur. Ainsi, nous avons toujours"
   ]
  },
  {
   "cell_type": "code",
   "execution_count": 54,
   "metadata": {},
   "outputs": [
    {
     "name": "stdout",
     "output_type": "stream",
     "text": [
      "(unsigned long) 100\n"
     ]
    }
   ],
   "source": [
    "z.capacity()"
   ]
  },
  {
   "cell_type": "markdown",
   "metadata": {},
   "source": [
    "Il existe d'autres méthodes mais nous ne les aborderons pas ici. Vous pouvez consulter la documentation pour les voir."
   ]
  },
  {
   "cell_type": "code",
   "execution_count": 55,
   "metadata": {
    "collapsed": true
   },
   "outputs": [],
   "source": [
    "?std::vector"
   ]
  },
  {
   "cell_type": "markdown",
   "metadata": {},
   "source": [
    "Enfin, la classe `std::vector` peut contenir des objets beaucoup plus complexes que les simples types de base. "
   ]
  },
  {
   "cell_type": "code",
   "execution_count": 56,
   "metadata": {
    "collapsed": true
   },
   "outputs": [],
   "source": [
    "std::vector<std::vector<double>> tab{ {1, 2, 3},\n",
    "                                      {4, 5, 6},\n",
    "                                      {7, 8, 9}\n",
    "                                    };"
   ]
  },
  {
   "cell_type": "code",
   "execution_count": 57,
   "metadata": {},
   "outputs": [
    {
     "name": "stdout",
     "output_type": "stream",
     "text": [
      "1 2 3 \n",
      "4 5 6 \n",
      "7 8 9 \n"
     ]
    }
   ],
   "source": [
    "for (auto line: tab)\n",
    "{\n",
    "    for (auto col: line)\n",
    "        std::cout << col << \" \";\n",
    "    std::cout << \"\\n\";\n",
    "}"
   ]
  },
  {
   "cell_type": "markdown",
   "metadata": {},
   "source": [
    "## `std::array`\n",
    "\n",
    "Contrairement à la classe `std::vector`, pour créer une instance de `std::array`, il est nécessaire de connaître sa taille à la construction.\n",
    "\n",
    "Pour l'utiliser, il faut inclure `array`."
   ]
  },
  {
   "cell_type": "code",
   "execution_count": 58,
   "metadata": {
    "collapsed": true
   },
   "outputs": [],
   "source": [
    "#include <array>\n",
    "\n",
    "std::array<int, 5> array{1, 2, 3, 4, 5};"
   ]
  },
  {
   "cell_type": "markdown",
   "metadata": {},
   "source": [
    "Nous n'irons pas plus loin pour ce conteneur car la plupart de ses méthodes ont déjà été abordées lors de la présentation de `std::vector`."
   ]
  },
  {
   "cell_type": "code",
   "execution_count": 59,
   "metadata": {
    "collapsed": true
   },
   "outputs": [],
   "source": [
    "?std::array"
   ]
  },
  {
   "cell_type": "markdown",
   "metadata": {},
   "source": [
    "Il existe d'autres conteneurs séquentiels: `std::list`, `std::forward_list`, `std::deque` mais ils ne seront pas décrits dans ce cours.\n",
    "\n",
    "# Les conteneurs associatifs\n",
    "\n",
    "## `std::set`\n",
    "\n",
    "`std::set` permet de stocker des valeurs qui sont uniques. Ces valeurs sont stockées en interne sous forme d'arbre trié. L'accès aux valeurs est donc de complexité logarithmique. La présence d'une valeur peut être testée à l'aide des méthodes `find` ou `count`. La méthode `find` renvoie un itérateur se référant à la valeur et renvoie `end` si la valeur n'est pas trouvée. Si nous n'avons pas besoin de cette valeur mais juste savoir si elle fait partie de l'ensemble, on préférera la méthode `count`.\n",
    "\n",
    "Pour l'uiliser, il faut inclure `set`"
   ]
  },
  {
   "cell_type": "code",
   "execution_count": 10,
   "metadata": {},
   "outputs": [
    {
     "name": "stdout",
     "output_type": "stream",
     "text": [
      "0 apparaît 0 fois.\n",
      "1 apparaît 1 fois.\n",
      "2 apparaît 1 fois.\n",
      "3 apparaît 1 fois.\n",
      "4 apparaît 0 fois.\n",
      "5 apparaît 1 fois.\n",
      "6 apparaît 1 fois.\n",
      "7 apparaît 0 fois.\n",
      "8 apparaît 0 fois.\n",
      "9 apparaît 0 fois.\n",
      "10 apparaît 1 fois.\n"
     ]
    }
   ],
   "source": [
    "#include <set>\n",
    "\n",
    "std::set<int> s{1, 2, 3, 1, 5, 6};\n",
    "s.insert(10);\n",
    "\n",
    "for(int i=0; i<11; ++i)\n",
    "    std::cout << i << \" apparaît \" << s.count(i) << \" fois.\\n\";"
   ]
  },
  {
   "cell_type": "markdown",
   "metadata": {},
   "source": [
    "## `std::map`\n",
    "\n",
    "La classe `std::map` permet d'associer des valeurs à une clé (un peu comme un disctionnaire en Python). La clé peut avoir n'importe quel type. Elles sont ordonnées. La classe `std::map` fournit l'opérateur `[]` pour récupérer les valeurs d'une clé.\n",
    "\n",
    "Pour l'utiliser, il faut inclure `map`.\n",
    "\n",
    "Voici un exemple d'utilisation"
   ]
  },
  {
   "cell_type": "code",
   "execution_count": 11,
   "metadata": {
    "collapsed": true
   },
   "outputs": [],
   "source": [
    "std::map<std::string, double> constantes{ {\"e\" ,     2.7},\n",
    "                                          {\"pi\",    3.14},\n",
    "                                          {\"h\" , 6.6e-34}\n",
    "                                        };"
   ]
  },
  {
   "cell_type": "code",
   "execution_count": 12,
   "metadata": {},
   "outputs": [
    {
     "name": "stdout",
     "output_type": "stream",
     "text": [
      "La constante de Planck est 6.6e-34\n"
     ]
    }
   ],
   "source": [
    "std::cout << \"La constante de Planck est \" << constantes[\"h\"] << \"\\n\";"
   ]
  },
  {
   "cell_type": "code",
   "execution_count": 13,
   "metadata": {
    "collapsed": true
   },
   "outputs": [],
   "source": [
    "constantes[\"c\"] = 299792458;"
   ]
  },
  {
   "cell_type": "code",
   "execution_count": 14,
   "metadata": {},
   "outputs": [
    {
     "name": "stdout",
     "output_type": "stream",
     "text": [
      "La constante de coulomb est 0\n"
     ]
    }
   ],
   "source": [
    "std::cout << \"La constante de coulomb est \" << constantes[\"k\"] << \"\\n\";"
   ]
  },
  {
   "cell_type": "code",
   "execution_count": 15,
   "metadata": {},
   "outputs": [
    {
     "name": "stdout",
     "output_type": "stream",
     "text": [
      "La valeur de pi est 3.14\n"
     ]
    }
   ],
   "source": [
    "std::cout << \"La valeur de pi est \" << constantes.find(\"pi\")->second << \"\\n\";"
   ]
  },
  {
   "cell_type": "code",
   "execution_count": 16,
   "metadata": {
    "collapsed": true
   },
   "outputs": [],
   "source": [
    "auto it_phi = constantes.find(\"phi\");\n",
    "if (it_phi != constantes.end())\n",
    "    std::cout << \"Le nombre d'or est \" << it_phi->second << \"\\n\";"
   ]
  },
  {
   "cell_type": "code",
   "execution_count": 17,
   "metadata": {},
   "outputs": [
    {
     "name": "stdout",
     "output_type": "stream",
     "text": [
      "La valeur de c est 2.99792e+08\n",
      "La valeur de e est 2.7\n",
      "La valeur de h est 6.6e-34\n",
      "La valeur de k est 0\n",
      "La valeur de pi est 3.14\n"
     ]
    }
   ],
   "source": [
    "for (auto c: constantes)\n",
    "    std::cout << \"La valeur de \" << c.first << \" est \" << c.second << \"\\n\";"
   ]
  }
 ],
 "metadata": {
  "kernelspec": {
   "display_name": "xeus C++14",
   "language": "",
   "name": "xeus-cling-cpp14"
  },
  "language_info": {
   "codemirror_mode": "text/x-c++src",
   "file_extension": ".cpp",
   "mimetype": "text/x-c++src",
   "name": "c++",
   "version": ""
  }
 },
 "nbformat": 4,
 "nbformat_minor": 2
}
