{
 "cells": [
  {
   "cell_type": "markdown",
   "metadata": {},
   "source": [
    "# Les conteneurs\n",
    "-----\n",
    "<center style=\"font-size:20px;\">\n",
    "Loic Gouarin\n",
    "</center>\n",
    "&nbsp;\n",
    "<center>\n",
    "*Licence 3*\n",
    "</center>\n",
    "<center>\n",
    "*Année 2017-2018*\n",
    "</center>\n",
    "\n",
    "-----\n",
    "\n",
    "Vous avez pu voir lors du premier cours les bases du langage comment initialiser et travailler avec des scalaires. Lorsque l'on souhaite faire du calcul scientifique, nous sommes très rarement confrontés à des problèmes ne faisant intervenir que des scalaires. Nous cherchons plutôt à résoudre des problèmes faisant intervenir des vecteurs, des matrices, ...\n",
    "\n",
    "Il est donc nécessaire d'avoir d'autres types permettant de stocker ce genre d'objets mathématiques. Vous pourriez bien évidemment les créer vous même avec le langage mais la librairie standard offre déjà un bon nombre de types qui peuvent être utilisés de suite: `std::array`, `std::vector`, `std::pair`, `std::tuple`, ... L'intérêt de les utiliser est que vous n'avez pas à vous soucier de la gestion de la mémoire.\n",
    "\n",
    "Comme vous pouvez le voir, on commence à chaque fois par écrire `std::`. Ceci indique que toutes ces classes font partie du namespace `std`. Ce namespace est utilisé par le standard et indique donc que nous utilisons les fonctionailités offertes de base par le langage.\n",
    "\n",
    "Nous allons voir dans la suite comment les utiliser.\n",
    "\n",
    "## Le conteneur `std::pair`\n",
    "\n",
    "Comme son nom l'indique, ce conteneur permet de stocker une paire de valeurs. Les deux types des valeurs stockées sont définis lors de la construction. \n",
    "\n",
    "Pour l'utiliser, il faut inclure `utility`."
   ]
  },
  {
   "cell_type": "code",
   "execution_count": 1,
   "metadata": {
    "collapsed": true
   },
   "outputs": [],
   "source": [
    "#include <utility>\n",
    "\n",
    "std::pair<std::string, double> constante{\"pi\", 3.1415};"
   ]
  },
  {
   "cell_type": "markdown",
   "metadata": {},
   "source": [
    "On accède aux éléments de la manière suivante"
   ]
  },
  {
   "cell_type": "code",
   "execution_count": 2,
   "metadata": {},
   "outputs": [
    {
     "name": "stdout",
     "output_type": "stream",
     "text": [
      "pi vaut environ 3.1415.\n"
     ]
    }
   ],
   "source": [
    "std::cout << constante.first << \" vaut environ \" << constante.second << \".\\n\"; "
   ]
  },
  {
   "cell_type": "markdown",
   "metadata": {},
   "source": [
    "## Le conteneur `std::tuple`\n",
    "\n",
    "Ce conteneur est l'équivalent de `std::pair`. Au lieu de stocker des valeurs de deux types, il peut stocker des valeurs de $N$ types.\n",
    "\n",
    "Pour l'utiliser, il faut inclure `tuple`."
   ]
  },
  {
   "cell_type": "code",
   "execution_count": 3,
   "metadata": {
    "collapsed": true
   },
   "outputs": [],
   "source": [
    "#include <tuple>\n",
    "\n",
    "std::tuple<std::string, double, int> tuple{\"pi\", 3.1415, 3};"
   ]
  },
  {
   "cell_type": "markdown",
   "metadata": {},
   "source": [
    "Pour accéder aux éléments, il faut utiliser `std::get`."
   ]
  },
  {
   "cell_type": "code",
   "execution_count": 4,
   "metadata": {},
   "outputs": [
    {
     "name": "stdout",
     "output_type": "stream",
     "text": [
      "pi\n"
     ]
    }
   ],
   "source": [
    "std::cout << std::get<0>(tuple) << \"\\n\";"
   ]
  },
  {
   "cell_type": "markdown",
   "metadata": {},
   "source": [
    "Depuis C++14, il est également possible d'accéder aux éléments du tuple par leur type si il n'y a pas d'ambiguité (si tous les types sont différents). Ceci permet de ne pas se soucier de l'ordre dans lequel on a rangé les éléments."
   ]
  },
  {
   "cell_type": "code",
   "execution_count": 5,
   "metadata": {},
   "outputs": [
    {
     "name": "stdout",
     "output_type": "stream",
     "text": [
      "pi\n"
     ]
    }
   ],
   "source": [
    "std::cout << std::get<std::string>(tuple) << \"\\n\";"
   ]
  },
  {
   "cell_type": "markdown",
   "metadata": {},
   "source": [
    "Pour créer un tuple, il peut être plus simple d'utiliser la fonction `std::make_tuple`. "
   ]
  },
  {
   "cell_type": "code",
   "execution_count": 6,
   "metadata": {
    "collapsed": true
   },
   "outputs": [],
   "source": [
    "auto tuple2 = std::make_tuple(\"pi\", 3.1415, 3);"
   ]
  },
  {
   "cell_type": "markdown",
   "metadata": {},
   "source": [
    "Les types se trouvant dans le tuple sont bien évidemment déduits des types des paramètres de `std::make_tuple`. \n",
    "\n",
    "Vous pouvez également mettre directement les éléments du tuple dans des variables en utilisant la fonction `std::tie`."
   ]
  },
  {
   "cell_type": "code",
   "execution_count": 7,
   "metadata": {
    "collapsed": true
   },
   "outputs": [],
   "source": [
    "std::string name;\n",
    "double d;\n",
    "int i;\n",
    "std::tie(name, d, i) = tuple2;"
   ]
  },
  {
   "cell_type": "code",
   "execution_count": 8,
   "metadata": {},
   "outputs": [
    {
     "name": "stdout",
     "output_type": "stream",
     "text": [
      "pi 3.1415 3\n"
     ]
    }
   ],
   "source": [
    "std::cout << name << \" \" << d << \" \" << i << \"\\n\";"
   ]
  },
  {
   "cell_type": "markdown",
   "metadata": {},
   "source": [
    "Enfin, pour connaître le nombre d'éléments composant le tuple"
   ]
  },
  {
   "cell_type": "code",
   "execution_count": 9,
   "metadata": {},
   "outputs": [
    {
     "name": "stdout",
     "output_type": "stream",
     "text": [
      "(const unsigned long) 3\n"
     ]
    }
   ],
   "source": [
    "std::tuple_size<decltype(tuple2)>::value"
   ]
  },
  {
   "cell_type": "markdown",
   "metadata": {},
   "source": [
    "## Le conteneur `std::initializer_list`\n",
    "\n",
    "Un objet de type `std::initializer_list` founit un accès à un tableau d'objets de type `T`. Il faut inclure `<initializer_list>` pour pouvoir l'utiliser. Néanmoins, si vous l'uitlisez pour intialiser d'autres types de conteneur comme nous le verrons dans la suite, il n'est pas nécessaire de l'inclure car il est déjà inclu et donc disponible.\n",
    "\n",
    "Par exemple, nous construisons ici une liste d'entiers"
   ]
  },
  {
   "cell_type": "code",
   "execution_count": 10,
   "metadata": {
    "collapsed": true
   },
   "outputs": [],
   "source": [
    "#include <initializer_list>\n",
    "\n",
    "std::initializer_list<int> list_i = {1, -2, 3, -6};"
   ]
  },
  {
   "cell_type": "markdown",
   "metadata": {},
   "source": [
    "Vous pouvez bien évidemment utiliser `auto` qui vous donne de suite le bon type par défaut."
   ]
  },
  {
   "cell_type": "code",
   "execution_count": 11,
   "metadata": {
    "collapsed": true
   },
   "outputs": [],
   "source": [
    "auto alist_i = {1, -2, 3, -6};"
   ]
  },
  {
   "cell_type": "markdown",
   "metadata": {},
   "source": [
    "Comme tout conteneur en C++, la classe `std::initializer_list` a un certain nombre de méthodes permettant de travailler avec. Ainsi, on peut connaître sa taille avec la méthode `size`."
   ]
  },
  {
   "cell_type": "code",
   "execution_count": 12,
   "metadata": {},
   "outputs": [
    {
     "name": "stdout",
     "output_type": "stream",
     "text": [
      "(unsigned long) 4\n"
     ]
    }
   ],
   "source": [
    "list_i.size()"
   ]
  },
  {
   "cell_type": "markdown",
   "metadata": {},
   "source": [
    "Ce qu'on peut faire avec `std::initializer_list` s'arrête à peu près là. Il est donc plutôt utile pour initialiser les autres conteneurs."
   ]
  },
  {
   "cell_type": "markdown",
   "metadata": {},
   "source": [
    "## Les conteneurs séquentiels\n",
    "\n",
    "### `std::vector`\n",
    "\n",
    "La première chose à faire pour utiliser `std::vector` est de l'inclure via"
   ]
  },
  {
   "cell_type": "code",
   "execution_count": 13,
   "metadata": {
    "collapsed": true
   },
   "outputs": [],
   "source": [
    "#include <vector>"
   ]
  },
  {
   "cell_type": "markdown",
   "metadata": {},
   "source": [
    "`std::vector` est une classe C++ et donc contient un certain nombre de constructeurs permettant d'instancier un objet."
   ]
  },
  {
   "cell_type": "code",
   "execution_count": 14,
   "metadata": {
    "collapsed": true
   },
   "outputs": [],
   "source": [
    "?std::vector"
   ]
  },
  {
   "cell_type": "markdown",
   "metadata": {},
   "source": [
    "`std::vector` est un conteneur dynamique, ce qui signifie que nous ne connaissons pas a priori le nombre d'éléments à la compilation.\n",
    "\n",
    "La première question à se poser est pourquoi utiliser ce conteneur plutôt qu'utiliser un tableau à la C comme"
   ]
  },
  {
   "cell_type": "code",
   "execution_count": 15,
   "metadata": {
    "collapsed": true
   },
   "outputs": [],
   "source": [
    "double a[] = {1, 2, 3};"
   ]
  },
  {
   "cell_type": "markdown",
   "metadata": {},
   "source": [
    "Pour plusieurs raisons\n",
    "\n",
    "- vous n'avez pas à vous préoccuper de l'allocation, de la désallocation ou de la réallocation mémoire.\n",
    "- vous pouvez modifier la taille à tout moment.\n",
    "- il est très simple d'affecter un `std::vector` à un autre ou de les concaténer.\n",
    "- il est très simple de comparer deux `std::vector`.\n",
    "\n",
    "De plus, la classe `std::vector` offre des implantations avec beaucoup d'optimisations que la plupart des développeurs ne sont pas capables de faire avec des tableaux à la C. L'accès aléatoire, l'insertion ou la suppression du dernier élément sont des opérations en $O(1)$. L'insertion ou la suppression n'importe où est en $O(n)$.\n",
    "\n",
    "Vous pouvez également facilement appeler des API C qui font intervenir des tableaux à la C avec un `std::vector`. Et de la même manière que les tableaux à la C, les éléments sont contigus en mémoire ce qui est primordial pour bien exploiter les caches."
   ]
  },
  {
   "cell_type": "markdown",
   "metadata": {},
   "source": [
    "#### Le constructeur"
   ]
  },
  {
   "cell_type": "markdown",
   "metadata": {},
   "source": [
    "Construisons un `std::vector` de `double` vide."
   ]
  },
  {
   "cell_type": "code",
   "execution_count": 16,
   "metadata": {
    "collapsed": true
   },
   "outputs": [],
   "source": [
    "std::vector<double> v;"
   ]
  },
  {
   "cell_type": "markdown",
   "metadata": {},
   "source": [
    "Comme pour `std::initializer_list`, nous pouvons accéder à sa taille."
   ]
  },
  {
   "cell_type": "code",
   "execution_count": 17,
   "metadata": {},
   "outputs": [
    {
     "name": "stdout",
     "output_type": "stream",
     "text": [
      "(unsigned long) 0\n"
     ]
    }
   ],
   "source": [
    "v.size()"
   ]
  },
  {
   "cell_type": "markdown",
   "metadata": {},
   "source": [
    "Là encore la classe `std::vector` a un certain nombre de méthodes permettant de manipuler le conteneur. Pour ajouter un élément à la fin, il suffit d'utiliser la méthode `push_back`."
   ]
  },
  {
   "cell_type": "code",
   "execution_count": 18,
   "metadata": {
    "collapsed": true
   },
   "outputs": [],
   "source": [
    "v.push_back(1.33);"
   ]
  },
  {
   "cell_type": "markdown",
   "metadata": {},
   "source": [
    "Pour accéder à un élément à partir de son index, il faut utiliser l'opérateur `[]`. \n",
    "\n",
    "Attention: en C++ l'index du premier élément d'un conteneur est 0."
   ]
  },
  {
   "cell_type": "code",
   "execution_count": 19,
   "metadata": {},
   "outputs": [
    {
     "name": "stdout",
     "output_type": "stream",
     "text": [
      "(double) 1.330000\n"
     ]
    }
   ],
   "source": [
    "v[0]"
   ]
  },
  {
   "cell_type": "code",
   "execution_count": 20,
   "metadata": {},
   "outputs": [
    {
     "name": "stdout",
     "output_type": "stream",
     "text": [
      "(unsigned long) 1\n"
     ]
    }
   ],
   "source": [
    "v.size()"
   ]
  },
  {
   "cell_type": "markdown",
   "metadata": {},
   "source": [
    "Il existe d'autres méthodes pour construire un `std::vector`. \n",
    "\n",
    "- Construction à partir de sa taille en initialisant tous les éléments à une valeur par défaut"
   ]
  },
  {
   "cell_type": "code",
   "execution_count": 21,
   "metadata": {
    "collapsed": true
   },
   "outputs": [],
   "source": [
    "std::vector<double> x(10, 3.14);"
   ]
  },
  {
   "cell_type": "code",
   "execution_count": 22,
   "metadata": {},
   "outputs": [
    {
     "name": "stdout",
     "output_type": "stream",
     "text": [
      "(double) 3.140000\n"
     ]
    }
   ],
   "source": [
    "x[0]"
   ]
  },
  {
   "cell_type": "code",
   "execution_count": 23,
   "metadata": {},
   "outputs": [
    {
     "name": "stdout",
     "output_type": "stream",
     "text": [
      "(unsigned long) 10\n"
     ]
    }
   ],
   "source": [
    "x.size()"
   ]
  },
  {
   "cell_type": "markdown",
   "metadata": {},
   "source": [
    "Si vous ne donnez pas de valeur d'initialisation, le `std::vector` est initialisé avec la valeur 0."
   ]
  },
  {
   "cell_type": "code",
   "execution_count": 24,
   "metadata": {
    "collapsed": true
   },
   "outputs": [],
   "source": [
    "std::vector<double> y(10);"
   ]
  },
  {
   "cell_type": "code",
   "execution_count": 25,
   "metadata": {},
   "outputs": [
    {
     "name": "stdout",
     "output_type": "stream",
     "text": [
      "(double) 0.000000\n"
     ]
    }
   ],
   "source": [
    "y[1]"
   ]
  },
  {
   "cell_type": "markdown",
   "metadata": {},
   "source": [
    "- Construction à partir de `std::initializer_list`"
   ]
  },
  {
   "cell_type": "code",
   "execution_count": 26,
   "metadata": {
    "collapsed": true
   },
   "outputs": [],
   "source": [
    "std::vector<double> z{1, 2, 3, 4, 5};"
   ]
  },
  {
   "cell_type": "code",
   "execution_count": 27,
   "metadata": {},
   "outputs": [
    {
     "name": "stdout",
     "output_type": "stream",
     "text": [
      "(double) 3.000000\n"
     ]
    }
   ],
   "source": [
    "z[2]"
   ]
  },
  {
   "cell_type": "markdown",
   "metadata": {},
   "source": [
    "#### Parcours des éléments"
   ]
  },
  {
   "cell_type": "markdown",
   "metadata": {},
   "source": [
    "Pour parcourir les éléments, vous avez différentes options.\n",
    "\n",
    "- A partir de sa taille"
   ]
  },
  {
   "cell_type": "code",
   "execution_count": 28,
   "metadata": {},
   "outputs": [
    {
     "name": "stdout",
     "output_type": "stream",
     "text": [
      "1, 2, 3, 4, 5, "
     ]
    }
   ],
   "source": [
    "for(std::size_t i=0; i<z.size(); ++i)\n",
    "    std::cout << z[i] << \", \";"
   ]
  },
  {
   "cell_type": "markdown",
   "metadata": {},
   "source": [
    "- Avec un itérateur\n",
    "\n",
    "Comme la plupart des conteneurs vous avez accès à des itérateurs `begin` et `end` qui sont des pointeurs vers le début et la fin du conteneur. Pour accéder à la valeur pointée, il suffit d'utiliser l'opérateur `*`."
   ]
  },
  {
   "cell_type": "code",
   "execution_count": 29,
   "metadata": {},
   "outputs": [
    {
     "name": "stdout",
     "output_type": "stream",
     "text": [
      "1, 2, 3, 4, 5, "
     ]
    }
   ],
   "source": [
    "for(std::vector<double>::iterator v=z.begin(); v<z.end(); ++v)\n",
    "    std::cout << *v << \", \";"
   ]
  },
  {
   "cell_type": "markdown",
   "metadata": {},
   "source": [
    "ou"
   ]
  },
  {
   "cell_type": "code",
   "execution_count": 30,
   "metadata": {},
   "outputs": [
    {
     "name": "stdout",
     "output_type": "stream",
     "text": [
      "1, 2, 3, 4, 5, "
     ]
    }
   ],
   "source": [
    "for(auto v=z.begin(); v<z.end(); ++v)\n",
    "    std::cout << *v << \", \";"
   ]
  },
  {
   "cell_type": "markdown",
   "metadata": {},
   "source": [
    "- Ou encore plus simplement"
   ]
  },
  {
   "cell_type": "code",
   "execution_count": 31,
   "metadata": {},
   "outputs": [
    {
     "name": "stdout",
     "output_type": "stream",
     "text": [
      "1, 2, 3, 4, 5, "
     ]
    }
   ],
   "source": [
    "for (auto v: z)\n",
    "    std::cout << v << \", \";"
   ]
  },
  {
   "cell_type": "markdown",
   "metadata": {},
   "source": [
    "Pour modifier les éléments, vous pouvez le faire via une boucle."
   ]
  },
  {
   "cell_type": "code",
   "execution_count": 32,
   "metadata": {},
   "outputs": [
    {
     "name": "stdout",
     "output_type": "stream",
     "text": [
      "2, 4, 6, 8, 10, "
     ]
    }
   ],
   "source": [
    "for(std::size_t i=0; i<z.size(); ++i)\n",
    "    z[i] *= 2;\n",
    "\n",
    "for(std::size_t i=0; i<z.size(); ++i)\n",
    "    std::cout << z[i] << \", \";"
   ]
  },
  {
   "cell_type": "markdown",
   "metadata": {},
   "source": [
    "Mais attention lorsque vous utilisez la version `for (auto v: z)`."
   ]
  },
  {
   "cell_type": "code",
   "execution_count": 34,
   "metadata": {},
   "outputs": [
    {
     "name": "stdout",
     "output_type": "stream",
     "text": [
      "2, 4, 6, 8, 10, "
     ]
    }
   ],
   "source": [
    "for (auto v: z)\n",
    "    v *= 2;\n",
    "\n",
    "for(std::size_t i=0; i<z.size(); ++i)\n",
    "    std::cout << z[i] << \", \";"
   ]
  },
  {
   "cell_type": "markdown",
   "metadata": {},
   "source": [
    "`z` n'a pas été modifié ici car on copie chaque élément de `z` dans `v` et on travaille ensuite avec `v`. Donc à l'intérieur de la boucle, on change bien la valeur de `v` mais on ne la réaffecte jamais aux éléments de `z`.\n",
    "\n",
    "Pour que ça fonctionne, il faut donc passer par référence."
   ]
  },
  {
   "cell_type": "code",
   "execution_count": 35,
   "metadata": {},
   "outputs": [
    {
     "name": "stdout",
     "output_type": "stream",
     "text": [
      "4, 8, 12, 16, 20, "
     ]
    }
   ],
   "source": [
    "for (auto& v: z)\n",
    "    v *= 2;\n",
    "\n",
    "for(std::size_t i=0; i<z.size(); ++i)\n",
    "    std::cout << z[i] << \", \";"
   ]
  },
  {
   "cell_type": "markdown",
   "metadata": {},
   "source": [
    "On peut insérer des éléments n'importe où dans le `vector` à l'aide de la méthode `insert`.\n",
    "\n",
    "- ajout d'un élément"
   ]
  },
  {
   "cell_type": "code",
   "execution_count": 36,
   "metadata": {},
   "outputs": [
    {
     "name": "stdout",
     "output_type": "stream",
     "text": [
      "200, 4, 8, 12, 16, 20, "
     ]
    }
   ],
   "source": [
    "z.insert(z.begin(), 200);\n",
    "for(std::size_t i=0; i<z.size(); ++i)\n",
    "    std::cout << z[i] << \", \";"
   ]
  },
  {
   "cell_type": "markdown",
   "metadata": {},
   "source": [
    "- ajout d'éléments provenant d'un autre conteneur"
   ]
  },
  {
   "cell_type": "code",
   "execution_count": 37,
   "metadata": {},
   "outputs": [
    {
     "name": "stdout",
     "output_type": "stream",
     "text": [
      "200, 0, 0, 0, 0, 0, 0, 4, 8, 12, 16, 20, "
     ]
    }
   ],
   "source": [
    "z.insert(z.begin()+1, y.begin(), y.end()-4);\n",
    "for(std::size_t i=0; i<z.size(); ++i)\n",
    "    std::cout << z[i] << \", \";"
   ]
  },
  {
   "cell_type": "markdown",
   "metadata": {},
   "source": [
    "- ajout d'éléments à partir de `std::initializer_list`"
   ]
  },
  {
   "cell_type": "code",
   "execution_count": 38,
   "metadata": {
    "collapsed": true
   },
   "outputs": [],
   "source": [
    "z.insert(z.begin()+2, {1, 2, 3});"
   ]
  },
  {
   "cell_type": "code",
   "execution_count": 39,
   "metadata": {},
   "outputs": [
    {
     "name": "stdout",
     "output_type": "stream",
     "text": [
      "200, 0, 1, 2, 3, 0, 0, 0, 0, 0, 4, 8, 12, 16, 20, "
     ]
    }
   ],
   "source": [
    "for(std::size_t i=0; i<z.size(); ++i)\n",
    "    std::cout << z[i] << \", \";"
   ]
  },
  {
   "cell_type": "markdown",
   "metadata": {},
   "source": [
    "#### Changer la taille\n",
    "\n",
    "Comme nous l'avons vu précédemment, nous pouvons savoir quelle est la taille d'un `std::vector` à l'aide de la méthode `size`. Nous pouvons également savoir combien d'éléments peut contenir `std::vector` à un instant $t$ à l'aide de la méthode `capacity`."
   ]
  },
  {
   "cell_type": "code",
   "execution_count": 40,
   "metadata": {},
   "outputs": [
    {
     "name": "stdout",
     "output_type": "stream",
     "text": [
      "(unsigned long) 15\n"
     ]
    }
   ],
   "source": [
    "z.size()"
   ]
  },
  {
   "cell_type": "code",
   "execution_count": 41,
   "metadata": {},
   "outputs": [
    {
     "name": "stdout",
     "output_type": "stream",
     "text": [
      "(unsigned long) 24\n"
     ]
    }
   ],
   "source": [
    "z.capacity()"
   ]
  },
  {
   "cell_type": "markdown",
   "metadata": {},
   "source": [
    "Ceci indique que notre `std::vector` peut encore contenir 9 éléments. Une fois que la capacité maximale est attente et que l'on souhaite insérer un nouvel élément, `std::vector` multiplie par deux la capacité et recopie tous les éléments dans ce nouvel espace mémoire puis libère le précédent.\n",
    "\n",
    "Testons"
   ]
  },
  {
   "cell_type": "code",
   "execution_count": 42,
   "metadata": {
    "collapsed": true
   },
   "outputs": [],
   "source": [
    "for (std::size_t i=0; i<9; ++i)\n",
    "    z.push_back(i);"
   ]
  },
  {
   "cell_type": "code",
   "execution_count": 43,
   "metadata": {},
   "outputs": [
    {
     "name": "stdout",
     "output_type": "stream",
     "text": [
      "(unsigned long) 24\n"
     ]
    }
   ],
   "source": [
    "z.size()"
   ]
  },
  {
   "cell_type": "code",
   "execution_count": 44,
   "metadata": {},
   "outputs": [
    {
     "name": "stdout",
     "output_type": "stream",
     "text": [
      "(unsigned long) 24\n"
     ]
    }
   ],
   "source": [
    "z.capacity()"
   ]
  },
  {
   "cell_type": "markdown",
   "metadata": {},
   "source": [
    "Notre conteneur est plein. Essayons à présent d'ajouter un élément."
   ]
  },
  {
   "cell_type": "code",
   "execution_count": 45,
   "metadata": {
    "collapsed": true
   },
   "outputs": [],
   "source": [
    "z.push_back(100);"
   ]
  },
  {
   "cell_type": "code",
   "execution_count": 46,
   "metadata": {},
   "outputs": [
    {
     "name": "stdout",
     "output_type": "stream",
     "text": [
      "(unsigned long) 25\n"
     ]
    }
   ],
   "source": [
    "z.size()"
   ]
  },
  {
   "cell_type": "code",
   "execution_count": 47,
   "metadata": {},
   "outputs": [
    {
     "name": "stdout",
     "output_type": "stream",
     "text": [
      "(unsigned long) 48\n"
     ]
    }
   ],
   "source": [
    "z.capacity()"
   ]
  },
  {
   "cell_type": "markdown",
   "metadata": {},
   "source": [
    "Redimensionner le conteneur à un coût et si on sait, même approximativement, quelle taille il va faire, il est préférable de le spécifier dès le début à l'aide de la méthode `reserve`."
   ]
  },
  {
   "cell_type": "code",
   "execution_count": 48,
   "metadata": {
    "collapsed": true
   },
   "outputs": [],
   "source": [
    "z.reserve(100);"
   ]
  },
  {
   "cell_type": "code",
   "execution_count": 49,
   "metadata": {},
   "outputs": [
    {
     "name": "stdout",
     "output_type": "stream",
     "text": [
      "(unsigned long) 100\n"
     ]
    }
   ],
   "source": [
    "z.capacity()"
   ]
  },
  {
   "cell_type": "markdown",
   "metadata": {},
   "source": [
    "#### Effacer des éléments\n",
    "\n",
    "On peut effacer le dernier élément"
   ]
  },
  {
   "cell_type": "code",
   "execution_count": 50,
   "metadata": {
    "collapsed": true
   },
   "outputs": [],
   "source": [
    "z.pop_back();"
   ]
  },
  {
   "cell_type": "markdown",
   "metadata": {},
   "source": [
    "On peut effacer certains éléments"
   ]
  },
  {
   "cell_type": "code",
   "execution_count": 51,
   "metadata": {},
   "outputs": [
    {
     "name": "stdout",
     "output_type": "stream",
     "text": [
      "200, 0, 1, 2, 3, 0, 0, 0, 0, 0, 4, 8, 12, 16, 20, 0, 1, 2, 3, 4, 5, 6, 7, 8, \n",
      "200, 1, 2, 3, 0, 0, 0, 0, 0, 4, 8, 12, 16, 20, 0, 1, 2, 3, 4, 5, 6, 7, 8, \n",
      "200, 8, 12, 16, 20, 0, 1, 2, 3, 4, 5, 6, 7, 8, "
     ]
    }
   ],
   "source": [
    "for (auto v: z)\n",
    "    std::cout << v << \", \";\n",
    "std::cout << \"\\n\";\n",
    "\n",
    "z.erase(z.begin()+1);\n",
    "    \n",
    "for (auto v: z)\n",
    "    std::cout << v << \", \";\n",
    "std::cout << \"\\n\";\n",
    "\n",
    "z.erase(z.begin()+1, z.begin()+10);\n",
    "for (auto v: z)\n",
    "    std::cout << v << \", \";"
   ]
  },
  {
   "cell_type": "markdown",
   "metadata": {},
   "source": [
    "Ou on peut effacer tout le conteneur."
   ]
  },
  {
   "cell_type": "code",
   "execution_count": 52,
   "metadata": {},
   "outputs": [
    {
     "name": "stdout",
     "output_type": "stream",
     "text": [
      "(unsigned long) 0\n"
     ]
    }
   ],
   "source": [
    "z.clear();\n",
    "z.size()"
   ]
  },
  {
   "cell_type": "markdown",
   "metadata": {},
   "source": [
    "Attention : le fait d'enlever tous les éléments ne touchent pas à la capacité du conteneur. Ainsi, nous avons toujours"
   ]
  },
  {
   "cell_type": "code",
   "execution_count": 53,
   "metadata": {},
   "outputs": [
    {
     "name": "stdout",
     "output_type": "stream",
     "text": [
      "(unsigned long) 100\n"
     ]
    }
   ],
   "source": [
    "z.capacity()"
   ]
  },
  {
   "cell_type": "markdown",
   "metadata": {},
   "source": [
    "Il existe d'autres méthodes mais nous ne les aborderons pas ici. Vous pouvez consulter la documentation pour les voir."
   ]
  },
  {
   "cell_type": "code",
   "execution_count": 55,
   "metadata": {
    "collapsed": true
   },
   "outputs": [],
   "source": [
    "?std::vector"
   ]
  },
  {
   "cell_type": "markdown",
   "metadata": {},
   "source": [
    "Enfin, la classe `std::vector` peut contenir des objets beaucoup plus complexes que les simples types de base. "
   ]
  },
  {
   "cell_type": "code",
   "execution_count": 54,
   "metadata": {
    "collapsed": true
   },
   "outputs": [],
   "source": [
    "std::vector<std::vector<double>> tab{ {1, 2, 3},\n",
    "                                      {4, 5, 6},\n",
    "                                      {7, 8, 9}\n",
    "                                    };"
   ]
  },
  {
   "cell_type": "code",
   "execution_count": 55,
   "metadata": {},
   "outputs": [
    {
     "name": "stdout",
     "output_type": "stream",
     "text": [
      "1 2 3 \n",
      "4 5 6 \n",
      "7 8 9 \n"
     ]
    }
   ],
   "source": [
    "for (auto line: tab)\n",
    "{\n",
    "    for (auto col: line)\n",
    "        std::cout << col << \" \";\n",
    "    std::cout << \"\\n\";\n",
    "}"
   ]
  },
  {
   "cell_type": "markdown",
   "metadata": {},
   "source": [
    "### `std::array`\n",
    "\n",
    "Contrairement à la classe `std::vector`, pour créer une instance de `std::array`, il est nécessaire de connaître sa taille à la construction.\n",
    "\n",
    "Pour l'utiliser, il faut inclure `array`."
   ]
  },
  {
   "cell_type": "code",
   "execution_count": 56,
   "metadata": {
    "collapsed": true
   },
   "outputs": [],
   "source": [
    "#include <array>\n",
    "\n",
    "std::array<int, 5> array{1, 2, 3, 4, 5};"
   ]
  },
  {
   "cell_type": "markdown",
   "metadata": {},
   "source": [
    "Nous n'irons pas plus loin pour ce conteneur car la plupart de ses méthodes ont déjà été abordées lors de la présentation de `std::vector`."
   ]
  },
  {
   "cell_type": "code",
   "execution_count": 57,
   "metadata": {
    "collapsed": true
   },
   "outputs": [],
   "source": [
    "?std::array"
   ]
  },
  {
   "cell_type": "markdown",
   "metadata": {},
   "source": [
    "Il existe d'autres conteneurs séquentiels: `std::list`, `std::forward_list`, `std::deque` mais ils ne seront pas décrits dans ce cours.\n",
    "\n",
    "## Les conteneurs associatifs\n",
    "\n",
    "### `std::set`\n",
    "\n",
    "`std::set` permet de stocker des valeurs qui sont uniques. Ces valeurs sont stockées en interne sous forme d'arbre trié. L'accès aux valeurs est donc de complexité logarithmique. La présence d'une valeur peut être testée à l'aide des méthodes `find` ou `count`. La méthode `find` renvoie un itérateur se référant à la valeur et renvoie `end` si la valeur n'est pas trouvée. Si nous n'avons pas besoin de cette valeur mais juste savoir si elle fait partie de l'ensemble, on préférera la méthode `count`.\n",
    "\n",
    "Pour l'utiliser, il faut inclure `set`"
   ]
  },
  {
   "cell_type": "code",
   "execution_count": 58,
   "metadata": {},
   "outputs": [
    {
     "name": "stdout",
     "output_type": "stream",
     "text": [
      "0 apparaît 0 fois.\n",
      "1 apparaît 1 fois.\n",
      "2 apparaît 1 fois.\n",
      "3 apparaît 1 fois.\n",
      "4 apparaît 0 fois.\n",
      "5 apparaît 1 fois.\n",
      "6 apparaît 1 fois.\n",
      "7 apparaît 0 fois.\n",
      "8 apparaît 0 fois.\n",
      "9 apparaît 0 fois.\n",
      "10 apparaît 1 fois.\n"
     ]
    }
   ],
   "source": [
    "#include <set>\n",
    "\n",
    "std::set<int> s{1, 2, 3, 1, 5, 6};\n",
    "s.insert(10);\n",
    "\n",
    "for(int i=0; i<11; ++i)\n",
    "    std::cout << i << \" apparaît \" << s.count(i) << \" fois.\\n\";"
   ]
  },
  {
   "cell_type": "markdown",
   "metadata": {},
   "source": [
    "### `std::map`\n",
    "\n",
    "La classe `std::map` permet d'associer des valeurs à une clé (un peu comme un disctionnaire en Python). La clé peut avoir n'importe quel type. Elles sont ordonnées. La classe `std::map` fournit l'opérateur `[]` pour récupérer les valeurs d'une clé.\n",
    "\n",
    "Pour l'utiliser, il faut inclure `map`.\n",
    "\n",
    "Voici un exemple d'utilisation"
   ]
  },
  {
   "cell_type": "code",
   "execution_count": 59,
   "metadata": {
    "collapsed": true
   },
   "outputs": [],
   "source": [
    "std::map<std::string, double> constantes{ {\"e\" ,     2.7},\n",
    "                                          {\"pi\",    3.14},\n",
    "                                          {\"h\" , 6.6e-34}\n",
    "                                        };"
   ]
  },
  {
   "cell_type": "code",
   "execution_count": 60,
   "metadata": {},
   "outputs": [
    {
     "name": "stdout",
     "output_type": "stream",
     "text": [
      "La constante de Planck est 6.6e-34\n"
     ]
    }
   ],
   "source": [
    "std::cout << \"La constante de Planck est \" << constantes[\"h\"] << \"\\n\";"
   ]
  },
  {
   "cell_type": "code",
   "execution_count": 61,
   "metadata": {
    "collapsed": true
   },
   "outputs": [],
   "source": [
    "constantes[\"c\"] = 299792458;"
   ]
  },
  {
   "cell_type": "code",
   "execution_count": 62,
   "metadata": {},
   "outputs": [
    {
     "name": "stdout",
     "output_type": "stream",
     "text": [
      "La constante de coulomb est 0\n"
     ]
    }
   ],
   "source": [
    "std::cout << \"La constante de coulomb est \" << constantes[\"k\"] << \"\\n\";"
   ]
  },
  {
   "cell_type": "code",
   "execution_count": 63,
   "metadata": {},
   "outputs": [
    {
     "name": "stdout",
     "output_type": "stream",
     "text": [
      "La valeur de pi est 3.14\n"
     ]
    }
   ],
   "source": [
    "std::cout << \"La valeur de pi est \" << constantes.find(\"pi\")->second << \"\\n\";"
   ]
  },
  {
   "cell_type": "code",
   "execution_count": 64,
   "metadata": {
    "collapsed": true
   },
   "outputs": [],
   "source": [
    "auto it_phi = constantes.find(\"phi\");\n",
    "if (it_phi != constantes.end())\n",
    "    std::cout << \"Le nombre d'or est \" << it_phi->second << \"\\n\";"
   ]
  },
  {
   "cell_type": "code",
   "execution_count": 65,
   "metadata": {},
   "outputs": [
    {
     "name": "stdout",
     "output_type": "stream",
     "text": [
      "La valeur de c est 2.99792e+08\n",
      "La valeur de e est 2.7\n",
      "La valeur de h est 6.6e-34\n",
      "La valeur de k est 0\n",
      "La valeur de pi est 3.14\n"
     ]
    }
   ],
   "source": [
    "for (auto c: constantes)\n",
    "    std::cout << \"La valeur de \" << c.first << \" est \" << c.second << \"\\n\";"
   ]
  },
  {
   "cell_type": "markdown",
   "metadata": {},
   "source": [
    "## Deux exemples concrets\n",
    "\n",
    "Maintenant que nous avons vu l'ensemble des fonctionalités des conteneurs, nous allons voir deux exemples permettant de voir concrètement comment les utiliser.\n",
    "\n",
    "### L'algortihme de Lempel-Ziv-Welch\n",
    "\n",
    "*Texte pris sur [wikipédia](https://fr.wikipedia.org/wiki/Lempel-Ziv-Welch)*\n",
    "\n",
    "Cet algorithme permet de compresser des données sans perte. Il construit une table de traduction de chaînes de caractères à partir du texte à compresser.  La table est initialisée avec tous les caractères (256 entrées dans le cas de caractères codés sur 8 bits). A mesure que le compresseur examine le texte, il ajoute chaque chaîne de 2 caractères dans la table en tant que concaténation de code et de caractères, avec le code correspondant au premier caractère de la chaîne. En même temps qu’il enregistre ces chaînes, le premier caractère est envoyé en sortie. Chaque fois qu’une chaîne déjà rencontrée est lue, la chaîne la plus longue déjà rencontrée est déterminée, et le code correspondant à cette chaîne avec le caractère concaténé (le caractère suivant du flux entrant) est enregistré dans la table. Le code pour la partie la plus longue de la chaîne de caractères rencontré est envoyé en sortie et le dernier caractère est utilisé comme base pour la chaîne suivante.\n",
    "\n",
    "L'algorithme peut s'écrire de la manière suivante\n",
    "\n",
    "```\n",
    "w = Nul;\n",
    "tant que (lecture d'un caractère c) faire\n",
    "   si (w + c existe dans le dictionnaire) alors\n",
    "       w = w + c;\n",
    "   sinon\n",
    "       ajouter w + c au dictionnaire;\n",
    "       écrire le code de w;\n",
    "       w = c;\n",
    "   fin si\n",
    "fin tant que\n",
    "écrire le code de w;\n",
    "```\n",
    "\n",
    "Cet algorithme fait intervenir des dictionnaires et nous utiliserons donc `std::map`. Les clés seront des chaînes de caractères et les valeurs des entiers.\n",
    "\n",
    "Nous regarderons la chaîne suivante."
   ]
  },
  {
   "cell_type": "code",
   "execution_count": 66,
   "metadata": {
    "collapsed": true
   },
   "outputs": [],
   "source": [
    "std::string input = \"TOBEORNOTTOBEORTOBEORNOT\";"
   ]
  },
  {
   "cell_type": "markdown",
   "metadata": {},
   "source": [
    "Avant toute chose, nous devons créer notre dictionnaire et l'initialiser avec les caractères de la table [ascii](http://www.table-ascii.com/)."
   ]
  },
  {
   "cell_type": "code",
   "execution_count": 67,
   "metadata": {
    "collapsed": true
   },
   "outputs": [],
   "source": [
    "#include <map>\n",
    "\n",
    "std::map<std::string, std::size_t> dictionary;"
   ]
  },
  {
   "cell_type": "code",
   "execution_count": null,
   "metadata": {
    "collapsed": true
   },
   "outputs": [],
   "source": [
    "dictionary.clear();\n",
    "for(std::size_t i=0; i<256; ++i)\n",
    "    dictionary[{static_cast<char>(i)}] = i;"
   ]
  },
  {
   "cell_type": "markdown",
   "metadata": {},
   "source": [
    "Nous pouvons à présent écrire notre algorithme."
   ]
  },
  {
   "cell_type": "code",
   "execution_count": null,
   "metadata": {
    "collapsed": true
   },
   "outputs": [],
   "source": [
    "std::string s;"
   ]
  },
  {
   "cell_type": "code",
   "execution_count": 15,
   "metadata": {},
   "outputs": [
    {
     "name": "stdout",
     "output_type": "stream",
     "text": [
      "TOBEORNOT<256><258><260><265><259><261><263>\n"
     ]
    }
   ],
   "source": [
    "s = \"\";\n",
    "for (auto it=input.cbegin(); it<input.cend(); ++it)\n",
    "{\n",
    "    s.push_back(*it);\n",
    "    \n",
    "    if (dictionary.count(s) == 0)\n",
    "    {\n",
    "        auto size = dictionary.size();\n",
    "        dictionary[s] = size;\n",
    "        \n",
    "        s.pop_back();\n",
    "        if (dictionary[s] < 256)\n",
    "            std::cout << s;\n",
    "        else\n",
    "            std::cout << \"<\" << dictionary[s] << \">\";\n",
    "            \n",
    "        s = {*it};\n",
    "    }\n",
    "}\n",
    "\n",
    "if (!s.empty())\n",
    "    std::cout << \"<\" << dictionary[s] << \">\\n\";"
   ]
  },
  {
   "cell_type": "markdown",
   "metadata": {},
   "source": [
    "### L'algorithme de remplissage par diffusion\n",
    "\n",
    "L'algorithme de remplissage par diffusion à besoin de trois paramètres pour une image donnée :\n",
    "\n",
    "- la position du pixel de départ (appelé aussi germe), \n",
    "- la couleur ciblée ( appelé `bg` dans la suite),\n",
    "- la couleur de remplacement (appelé `color` dans la suite). \n",
    "\n",
    "L'algorithme recense tous les pixels de l'image qui sont connectés au germe par un chemin de la couleur ciblée et substitue à cette dernière la couleur de remplacement. Il existe plusieurs algorithmes pour parcourir les pixels et faire le remplissage. Ici, on regarde les quatres voisins.\n",
    "\n",
    "![wiki](figures/Recursive_Flood_Fill_4.gif)\n",
    "\n",
    "Dans la suite, nous ne regarderons que les pixels voisins en haut et en bas.\n",
    "\n",
    "L'algorithme peut s'écrire de la manière suivante\n",
    "\n",
    "```\n",
    "Soit P une pile vide\n",
    "si couleur(pixel) est différent de bg alors sortir de la fonction\n",
    "Empiler pixel sur P\n",
    "Tant que P non vide\n",
    "faire\n",
    " Dépiler n de P\n",
    " si  couleur(n) = bg\n",
    " alors \n",
    "   w ← n[1]\n",
    "   Déplacer w vers l'ouest jusqu'à ce que couleur(n[0], w) soit différente de bg ou que l'on soit sortie de l'image.\n",
    "   Tant que w n'est pas sortie et que couleur(n[0], w) est différent de bg\n",
    "   Faire\n",
    "     p ← (n[0], w)\n",
    "     couleur(p) ← color\n",
    "     si couleur(p nord) = bg alors Empiler p nord sur P finsi\n",
    "     si couleur(p sud ) = bg alors Empiler p sud  sur P finsi\n",
    "   fintanque\n",
    " finsi\n",
    "fintantque\n",
    "\n",
    "```\n",
    "\n",
    "Nous aurons besoin de `std::set` pour représenter la pile et de `std::vector` pour stocker l'image.\n",
    "\n",
    "Commençons par donner le nombre de pixels de notre image ainsi que la couleur ciblée."
   ]
  },
  {
   "cell_type": "code",
   "execution_count": 16,
   "metadata": {
    "collapsed": true
   },
   "outputs": [],
   "source": [
    "std::size_t n = 600;\n",
    "std::size_t bg = 0;"
   ]
  },
  {
   "cell_type": "markdown",
   "metadata": {},
   "source": [
    "Nous initialisons à présent notre image (nous l'appellerons `canvas`)."
   ]
  },
  {
   "cell_type": "code",
   "execution_count": 17,
   "metadata": {
    "collapsed": true
   },
   "outputs": [],
   "source": [
    "std::vector<std::vector<std::size_t>> canvas(n, std::vector<std::size_t>(n));"
   ]
  },
  {
   "cell_type": "markdown",
   "metadata": {},
   "source": [
    "Il faut maintenant que nous créions des bords dans l'image afin d'avoir des blocs à remplir. Pour ce faire, nous allons tracer des lignes aléatoirement dans l'image.\n",
    "\n",
    "Le langage C++ offre la bibliothèque `random` permettant de tirer aléatoirement des nombres suivant différentes distributions. Nous choisirons ici une loi uniforme sur des entiers."
   ]
  },
  {
   "cell_type": "code",
   "execution_count": 18,
   "metadata": {
    "collapsed": true
   },
   "outputs": [],
   "source": [
    "#include <random>\n",
    "std::random_device rd;  \n",
    "std::mt19937 gen(rd()); \n",
    "std::uniform_int_distribution<> dis(0, n-1);"
   ]
  },
  {
   "cell_type": "markdown",
   "metadata": {},
   "source": [
    "Nous allons à présent dessiner aléatoirement 30 lignes verticales et 30 lignes horizontales qui partent à chaque fois d'un bord."
   ]
  },
  {
   "cell_type": "code",
   "execution_count": 19,
   "metadata": {
    "collapsed": true
   },
   "outputs": [],
   "source": [
    "for(std::size_t i=0; i<30; ++i)\n",
    "{\n",
    "    std::size_t x = dis(gen);\n",
    "    std::size_t y = dis(gen);\n",
    "    \n",
    "    if (i & 1)\n",
    "        for(std::size_t j = 0; j<y; ++j)\n",
    "            canvas[j][x] = 1;\n",
    "    else\n",
    "        for(std::size_t j = y; j<n; ++j)\n",
    "            canvas[j][x] = 1;\n",
    "\n",
    "    x = dis(gen);\n",
    "    y = dis(gen);\n",
    "\n",
    "    if (i & 1)\n",
    "        for(std::size_t j = 0; j<x; ++j)\n",
    "            canvas[y][j] = 1;\n",
    "    else\n",
    "        for(std::size_t j = x; j<n; ++j)\n",
    "            canvas[y][j] = 1;\n",
    "}"
   ]
  },
  {
   "cell_type": "markdown",
   "metadata": {},
   "source": [
    "Il ne nous reste plus qu'à écrire l'algorithme de remplissage par diffusion. Comme dit en introduction, il nous faut un pixel de départ ainsi qu'une couleur de remplacement. Nous allons donc itérer en choisissant aléatoirement à chaque fois un pixel de départ. La couleur de remplacement est choisie comme un modulo du nombre de couleur que contient notre palette."
   ]
  },
  {
   "cell_type": "code",
   "execution_count": 20,
   "metadata": {
    "collapsed": true
   },
   "outputs": [],
   "source": [
    "#include <set>\n",
    "for (std::size_t iter=0; iter<1000; ++iter)\n",
    "{\n",
    "    std::size_t color = iter%11 + 2;\n",
    "    std::size_t x = dis(gen);\n",
    "    std::size_t y = dis(gen);\n",
    "    \n",
    "    std::set<std::pair<std::size_t, std::size_t>> stack;\n",
    "    stack.insert({y, x});\n",
    "\n",
    "    while (!stack.empty())\n",
    "    {\n",
    "        auto i = stack.begin()->first;\n",
    "        auto j = stack.begin()->second;\n",
    "        stack.erase({i, j});\n",
    "\n",
    "        if (canvas[i][j] != bg)\n",
    "            continue;\n",
    "\n",
    "        // trouve le bord à gauche\n",
    "        while (j > 0 && canvas[i][j - 1] == bg)\n",
    "            j--;\n",
    "\n",
    "        // se déplace vers la droite\n",
    "        bool up = true, down = true;\n",
    "        while(j < n && canvas[i][j] == bg)\n",
    "        {\n",
    "            canvas[i][j] = color;\n",
    "\n",
    "            // détecte si la couleur change en haut\n",
    "            if (i + 1 < n)\n",
    "            {\n",
    "                if (up && canvas[i + 1][j] == bg)\n",
    "                    stack.insert({i + 1, j});\n",
    "                up = (canvas[i + 1][j] != bg);\n",
    "            }\n",
    "            \n",
    "            // détecte si la couleur change en bas\n",
    "            if (i > 0)\n",
    "            {\n",
    "                if (down && canvas[i - 1][j] == bg)\n",
    "                    stack.insert({i - 1, j});\n",
    "                down = (canvas[i - 1][j] != bg);\n",
    "            }\n",
    "            \n",
    "            j++;\n",
    "        }\n",
    "    }\n",
    "}"
   ]
  },
  {
   "cell_type": "markdown",
   "metadata": {},
   "source": [
    "Il ne nous reste plus qu'à enregistrer les pixels de l'image dans un fichier afin d'en voir le résultat. Nous nous servirons de ce [projet](https://github.com/ArashPartow/bitmap) pour y parvenir."
   ]
  },
  {
   "cell_type": "code",
   "execution_count": 1,
   "metadata": {
    "collapsed": true
   },
   "outputs": [],
   "source": [
    "#pragma cling add_include_path(\"./include\")"
   ]
  },
  {
   "cell_type": "code",
   "execution_count": 22,
   "metadata": {
    "collapsed": true
   },
   "outputs": [],
   "source": [
    "#include \"bitmap_image.hpp\"\n",
    "bitmap_image image(n,n);"
   ]
  },
  {
   "cell_type": "markdown",
   "metadata": {},
   "source": [
    "Voici la palette de couleurs que nous utiliserons."
   ]
  },
  {
   "cell_type": "code",
   "execution_count": 23,
   "metadata": {
    "collapsed": true
   },
   "outputs": [],
   "source": [
    "const rgb_t palette2[22] ={ {   0 ,   0 ,   0 },\n",
    "                            { 255 , 255 , 255 },\n",
    "                            { 255 , 255 , 216 },\n",
    "                            {  48 ,  32 ,   8 },\n",
    "                            { 152 ,  64 ,   8 },\n",
    "                            { 208 , 176 , 128 },\n",
    "                            { 232 , 216 , 192 },\n",
    "                            { 176 , 136 , 104 },\n",
    "                            { 232 , 216 , 192 },\n",
    "                            { 255 , 248 , 208 },\n",
    "                            { 255 , 255 , 208 },\n",
    "                            { 104 ,  88 ,  88 },\n",
    "                            { 255 , 216 , 160 },\n",
    "                            { 240 , 216 , 192 },\n",
    "                            { 255 , 248 , 208 },\n",
    "                            { 255 , 240 , 192 },\n",
    "                            { 184 , 184 , 176 },\n",
    "                            { 255 , 240 , 200 },\n",
    "                            { 216 , 192 , 168 },\n",
    "                            { 248 , 224 , 192 },\n",
    "                            { 184 , 136 , 104 },\n",
    "                            {  72 ,  72 ,  88 }};"
   ]
  },
  {
   "cell_type": "code",
   "execution_count": 24,
   "metadata": {
    "collapsed": true
   },
   "outputs": [],
   "source": [
    "for (std::size_t i=0; i<n; ++i)\n",
    "    for (std::size_t j=0; j<n; ++j)\n",
    "        image.set_pixel(i, j, palette2[canvas[i][j]]);"
   ]
  },
  {
   "cell_type": "code",
   "execution_count": 25,
   "metadata": {
    "collapsed": true
   },
   "outputs": [],
   "source": [
    "image.save_image(\"flood_fill.bmp\");"
   ]
  },
  {
   "cell_type": "markdown",
   "metadata": {},
   "source": [
    "Et voici un résultat possible."
   ]
  },
  {
   "cell_type": "markdown",
   "metadata": {},
   "source": [
    "![flood_fill](figures/flood_fill.bmp)"
   ]
  },
  {
   "cell_type": "code",
   "execution_count": 1,
   "metadata": {
    "collapsed": true,
    "slideshow": {
     "slide_type": "skip"
    }
   },
   "outputs": [
    {
     "data": {
      "text/html": [
       "<link href='http://fonts.googleapis.com/css?family=Fenix' rel='stylesheet' type='text/css'>\n",
       "<link href='http://fonts.googleapis.com/css?family=Alegreya+Sans:100,300,400,500,700,800,900,100italic,300italic,400italic,500italic,700italic,800italic,900italic' rel='stylesheet' type='text/css'>\n",
       "<link href='http://fonts.googleapis.com/css?family=Source+Code+Pro:300,400' rel='stylesheet' type='text/css'>\n",
       "<link href=\"https://fonts.googleapis.com/css?family=Oswald|Raleway\" rel=\"stylesheet\" type='text/css'> \n",
       "<style>\n",
       "\n",
       "div.input_area {\n",
       "    border-radius: 10px !important;\n",
       "    background-color: #e1e1e6 !important;\n",
       "}\n",
       ".rendered_html pre, .rendered_html code {\n",
       "    color: #47597A /*#286e92*/ !important;\n",
       "}\n",
       "\n",
       "    h1, h2, h3, h4, h5 {\n",
       "        font-family: 'Oswald', sans-serif; !important;\n",
       "        /*font-style: oblique !important;*/\n",
       "    }\n",
       "    div.text_cell_render{\n",
       "        font-family: 'Raleway', sans-serif; !important;\n",
       "        line-height: 135% !important;\n",
       "        font-size: 120% !important;\n",
       "        width:100%;/*600px;*/\n",
       "        /*margin-left:auto;*/\n",
       "        /*margin-right:auto;*/\n",
       "    }\n",
       "    .CodeMirror{\n",
       "            font-family: \"Source Code Pro\" !important;\n",
       "            font-size: 120% !important;\n",
       "    }\n",
       "    .text_cell_render p{\n",
       "        text-align: justify !important;\n",
       "    }\n",
       "    .text_cell_render h1 {\n",
       "        font-weight: 200 !important;\n",
       "        line-height: 100% !important;\n",
       "        color:#47597A !important;\n",
       "        margin-bottom: 10.em !important;\n",
       "        margin-top: 50.em !important;\n",
       "        padding-bottom: 50.em !important;\n",
       "        padding-top: 50.em !important;\n",
       "        display: block !important;\n",
       "        font-size: 300% !important;\n",
       "        text-align: center !important;\n",
       "        border-bottom: 1px solid #47597A !important;\n",
       "        border-top: 1px solid #47597A !important;\n",
       "    }\n",
       "    .text_cell_render h2 {\n",
       "        font-weight: 200 !important;\n",
       "        line-height: 100% !important;\n",
       "        color:#47597A !important;\n",
       "        margin-bottom: 0.5em !important;\n",
       "        margin-top: 0.5em !important;\n",
       "        display: block !important;\n",
       "        font-size: 200% !important;\n",
       "        border-bottom: 1px solid #47597A !important;\n",
       "    }\n",
       "    .text_cell_render h3 {\n",
       "        font-weight: 200 !important;\n",
       "        line-height: 100% !important;\n",
       "        color:#47597A !important;\n",
       "        margin-bottom: 0.5em !important;\n",
       "        margin-top: 0.5em !important;\n",
       "        display: block !important;\n",
       "        font-size: 170% !important;\n",
       "    }\n",
       "    .text_cell_render h4 {\n",
       "        font-style: italic !important;\n",
       "        font-weight: normal !important;\n",
       "        line-height: 100% !important;\n",
       "        color:#47597A !important;\n",
       "        display: block !important;\n",
       "        font-size: 130% !important;\n",
       "    }\n",
       "    .text_cell_render h5 {\n",
       "        font-weight: 200 !important;\n",
       "        line-height: 100% !important;\n",
       "        color:#47597A !important;\n",
       "        margin-bottom: 0.5em !important;\n",
       "        margin-top: 0.5em !important;\n",
       "        display: block !important;\n",
       "        font-size: 120% !important;\n",
       "    }\n",
       "    .text_cell_render ul {\n",
       "\tlist-style-type: disc !important;\n",
       "\tcolor:#47597A !important;\n",
       "    }\n",
       "    .warning{\n",
       "        color: rgb( 240, 20, 20 ) !important;\n",
       "        }\n",
       "\n",
       "    .toc-item-num {\n",
       "        display: none;\n",
       "    }\n",
       "\n",
       "    .reveal section img{\n",
       "        margin: 0px auto;\n",
       "    }\n",
       "\n",
       "    div.output_area img{\n",
       "        display: block;\n",
       "        margin: 0px auto;\n",
       "    }\n",
       "  \n",
       "</style>\n",
       "\n",
       "<script>\n",
       "MathJax.Hub.Config({\n",
       "TeX: {extensions: [\"AMSmath.js\"]\n",
       "                           },\n",
       "                tex2jax: {\n",
       "                    inlineMath: [ ['$','$'], [\"\\\\(\",\"\\\\)\"] ],\n",
       "                    displayMath: [ ['$$','$$'], [\"\\\\[\",\"\\\\]\"] ]\n",
       "                },\n",
       "                displayAlign: 'center', // Change this to 'center' to center equations.\n",
       "                \"HTML-CSS\": {\n",
       "                    styles: {'.MathJax_Display': {\"margin\": 4}}\n",
       "                }\n",
       "        });\n",
       "</script>\n"
      ],
      "text/plain": [
       "<IPython.core.display.HTML object>"
      ]
     },
     "execution_count": 39,
     "metadata": {},
     "output_type": "execute_result"
    }
   ],
   "source": [
    "// style cell: don't remove !!"
   ]
  }
 ],
 "metadata": {
  "kernelspec": {
   "display_name": "xeus C++14",
   "language": "",
   "name": "xeus-cling-cpp14"
  },
  "language_info": {
   "codemirror_mode": "text/x-c++src",
   "file_extension": ".cpp",
   "mimetype": "text/x-c++src",
   "name": "c++",
   "version": ""
  }
 },
 "nbformat": 4,
 "nbformat_minor": 2
}
