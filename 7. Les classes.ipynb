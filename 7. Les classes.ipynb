{
 "cells": [
  {
   "cell_type": "markdown",
   "metadata": {},
   "source": [
    "# Les classes\n",
    "-----\n",
    "<center style=\"font-size:20px;\">\n",
    "Loic Gouarin\n",
    "</center>\n",
    "&nbsp;\n",
    "<center>\n",
    "*Licence 3*\n",
    "</center>\n",
    "<center>\n",
    "*Année 2017-2018*\n",
    "</center>\n",
    "\n",
    "-----\n",
    "\n",
    "Jusqu'à présent nous avons vu les types de bases ainsi que les conteneurs de la STL ce qui nous permet de résoudre bons nombres de problèmes en C++. Néanmoins, il y a une chose importante qui manque. Nous avons parlé de l'importance du choix des noms de variables, des fonctions. Ceci dans un but de clarté pour l'utilisateur et les autres développeurs.\n",
    "\n",
    "Les conteneurs sont des classes. Mais leur nom n'est pas très explicite lorsque l'on veut les utiliser pour un domaine bien spécifique. Prenons l'exemple de `std::vector` : ce conteneur peut représenter une position dans le plan, des données financières, des coordonnées GPS, ... \n",
    "\n",
    "Autour de ces représentations gravitent tout un tas d'opérateurs mathématiques permettant de les manipuler. Vous êtes en train d'utiliser le C++ pour faire des mathématiques et nous allons montrer dans la suite que nous pouvons créer nos propres objets permettant d'avoir une abstraction mathématique compréhensible immédiatement par les personnes qui lisent le code.\n",
    "\n",
    "Prenons un exemple concret : nous souhaitons manipuler des polynômes. Un polynôme est constitué de symboles, de coefficients numériques. Nous pouvons factoriser, développer ou évaluer en certains points ces polynômes.\n",
    "\n",
    "Supposons que nous avons cette première représentation"
   ]
  },
  {
   "cell_type": "code",
   "execution_count": null,
   "metadata": {
    "collapsed": true
   },
   "outputs": [],
   "source": [
    "std::vector<double> p1{1, 0, 1};\n",
    "std::vector<double> p2{0, 2};\n",
    "\n",
    "std::vector<double> p3 = mult(p1, p2);\n",
    "\n",
    "std::cout << \"Les coefficients de p3 sont: \";\n",
    "for(auto c: p3)\n",
    "    std::cout << c << \" \";\n",
    "std::cout << \"\\n\";"
   ]
  },
  {
   "cell_type": "markdown",
   "metadata": {},
   "source": [
    "Nous aurions la sortie suivante\n",
    "\n",
    "```\n",
    "Les coefficients de p3 sont: 0 2 0 2 \n",
    "```\n",
    "    \n",
    "Supposons maintenant une deuxième représentation du problème"
   ]
  },
  {
   "cell_type": "code",
   "execution_count": null,
   "metadata": {
    "collapsed": true
   },
   "outputs": [],
   "source": [
    "symbol x;\n",
    "poly p1 = 1 + x^2;\n",
    "poly p2 = 2*x;\n",
    "\n",
    "std::cout << \"p1*p2 vaut \" << p1*p2 << \"\\n\";"
   ]
  },
  {
   "cell_type": "markdown",
   "metadata": {},
   "source": [
    "Nous aurions la sortie suivante\n",
    "\n",
    "```\n",
    "p1*p2 vaut 2x^3 + 2x\n",
    "```\n",
    "\n",
    "Si nous donnons les deux codes à des utilisateurs potentiels, à votre avis lequel sera compréhensible de suite ? Il y a un autre avantage d'utiliser la deuxième représentation: vous donnez envie aux autres d'utiliser ce que vous avez fait.\n",
    "\n",
    "Pour obtenir cette abstraction mathématique, que l'on peut également appeler [langage dédié](https://fr.wikipedia.org/wiki/Langage_d%C3%A9di%C3%A9), les classes en C++ jouent un rôle capital.\n",
    "\n",
    "Dans la suite, nous simplifierons le problème en nous intéressant à la représentation des nombres rationnels et à leur manipulation. Pour rappel, l'ensemble des nombres rationnels est un corps commutatif, noté $\\mathbb{Q}$. Sa définition est \n",
    "\n",
    "$$\n",
    "\\mathbb{Q} =\\left\\{\\left.{\\frac {m}{n}}\\right|(m,n)\\in \\mathbb{Z } \\times (\\mathbb{Z } \\setminus \\{0\\})\\right\\} \n",
    "$$\n",
    "\n",
    "où $\\mathbb{Z }$ est l'anneau des entiers relatifs.\n",
    "\n",
    "## Premières notions d'une classe\n",
    "\n",
    "Une classe en C++ peut être constituée d'attributs, de méthodes, de définitions de type et sous classes.\n",
    "\n",
    "Commençons à implanter une classe pour les nombres rationnels."
   ]
  },
  {
   "cell_type": "code",
   "execution_count": 1,
   "metadata": {
    "collapsed": true
   },
   "outputs": [],
   "source": [
    "class rational\n",
    "{\n",
    "public:\n",
    "    int n, d;\n",
    "    \n",
    "    void simplify()\n",
    "    {\n",
    "        std::cout << \"simplify\\n\";\n",
    "    };\n",
    "};"
   ]
  },
  {
   "cell_type": "markdown",
   "metadata": {},
   "source": [
    "Ici les attributs de la classe `rational` sont\n",
    "\n",
    "- `n` représentant le numérateur,\n",
    "- `d` représentant le dénominateur.\n",
    "\n",
    "Notre classe contient une méthode `simplify`.\n",
    "\n",
    "Voici un exemple de son utilisation."
   ]
  },
  {
   "cell_type": "code",
   "execution_count": 2,
   "metadata": {},
   "outputs": [
    {
     "name": "stdout",
     "output_type": "stream",
     "text": [
      "1/2\n",
      "3/2\n",
      "simplify\n"
     ]
    }
   ],
   "source": [
    "rational r{1, 2};\n",
    "\n",
    "std::cout << r.n << \"/\" << r.d << \"\\n\";\n",
    "\n",
    "r.n = 3;\n",
    "\n",
    "std::cout << r.n << \"/\" << r.d << \"\\n\";\n",
    "\n",
    "r.simplify();"
   ]
  },
  {
   "cell_type": "markdown",
   "metadata": {},
   "source": [
    "`r` est une instance de la classe `rational`. Pour accéder à ses attributs et ses méthodes, il suffit d'utiliser l'opérateur `.`. Nous n'avons pas encore défini de constructeur. Le langage en fourni par défaut. Le fait d'avoir tout nos attributs en `public` permet également de les initilaiser en faisant"
   ]
  },
  {
   "cell_type": "code",
   "execution_count": null,
   "metadata": {
    "collapsed": true
   },
   "outputs": [],
   "source": [
    "rational r{1, 2};"
   ]
  },
  {
   "cell_type": "markdown",
   "metadata": {},
   "source": [
    "L'initialisation se fait par odre d'apparition des attributs. Donc ici, 1 correspond à l'attribut `n` et 2 à l'attribut `d`."
   ]
  },
  {
   "cell_type": "markdown",
   "metadata": {
    "collapsed": true
   },
   "source": [
    "Il est possible de choisir l'accessibilité des membres de la classe. Le langage en fournit trois\n",
    "\n",
    "- `public` : accessible partout,\n",
    "- `private`: accessible uniquement à l'intérieur de la classe,\n",
    "- `protected` : accessible dans la classe elle-même et ses classes dérivées.\n",
    "\n",
    "Dans notre premier exemple, nous avons tout mis en `public` ce qui fait que l'on peut accéder à `n`, `d` et `simplifiy` partout. Il peut être intéressant de mettre en `private` les éléments de base de la classe afin de ne pas les laisser accessible à l'utilisateur.\n",
    "\n",
    "Réécrivons notre classe"
   ]
  },
  {
   "cell_type": "code",
   "execution_count": 1,
   "metadata": {
    "collapsed": true
   },
   "outputs": [],
   "source": [
    "class rational\n",
    "{\n",
    "public:\n",
    "    \n",
    "    void simplify()\n",
    "    {\n",
    "        std::cout << \"simplify\\n\";\n",
    "    };\n",
    "\n",
    "private:\n",
    "    \n",
    "    int n, d;\n",
    "    \n",
    "};"
   ]
  },
  {
   "cell_type": "markdown",
   "metadata": {},
   "source": [
    "Ici, nous avons toujours un constructeur par défaut."
   ]
  },
  {
   "cell_type": "code",
   "execution_count": 2,
   "metadata": {
    "collapsed": true
   },
   "outputs": [],
   "source": [
    "rational r;"
   ]
  },
  {
   "cell_type": "markdown",
   "metadata": {},
   "source": [
    "En revanche, il n'est plus possible de faire "
   ]
  },
  {
   "cell_type": "code",
   "execution_count": 4,
   "metadata": {},
   "outputs": [
    {
     "name": "stderr",
     "output_type": "stream",
     "text": [
      "input_line_10:2:11: error: no matching constructor for initialization of 'rational'\n",
      " rational r{1, 2};\n",
      "          ^~~~~~~\n",
      "input_line_7:1:7: note: candidate constructor (the implicit copy constructor) not viable: requires 1\n",
      "      argument, but 2 were provided\n",
      "class rational\n",
      "      ^\n",
      "input_line_7:1:7: note: candidate constructor (the implicit move constructor) not viable: requires 1\n",
      "      argument, but 2 were provided\n",
      "input_line_7:1:7: note: candidate constructor (the implicit default constructor) not viable: requires 0\n",
      "      arguments, but 2 were provided\n"
     ]
    }
   ],
   "source": [
    "rational r{1, 2};"
   ]
  },
  {
   "cell_type": "markdown",
   "metadata": {},
   "source": [
    "Ni d'accéder aux attributs car ils sont maintenant privés."
   ]
  },
  {
   "cell_type": "code",
   "execution_count": 5,
   "metadata": {},
   "outputs": [
    {
     "name": "stderr",
     "output_type": "stream",
     "text": [
      "input_line_11:2:4: error: 'n' is a private member of 'rational'\n",
      " r.n\n",
      "   ^\n",
      "input_line_7:11:9: note: declared private here\n",
      "    int n, d;\n",
      "        ^\n"
     ]
    }
   ],
   "source": [
    "r.n"
   ]
  },
  {
   "cell_type": "markdown",
   "metadata": {},
   "source": [
    "Il est donc nécessaire de définir un constructeur et une interface pour accéder aux attributs privés. Le fait de créer le constructeur permet également de définir correctement le comportement que doit avoir notre classe par rapport aux paramètres d'entrées. Dans notre cas, un rationnel ne peut pas avoir un dénominateur nul.\n",
    "\n",
    "Nous pouvons également créer des classes en utilisant le mot clé `struct`. Par exemple"
   ]
  },
  {
   "cell_type": "code",
   "execution_count": null,
   "metadata": {
    "collapsed": true
   },
   "outputs": [],
   "source": [
    "struct rational\n",
    "{\n",
    "    int n, d;\n",
    "}"
   ]
  },
  {
   "cell_type": "markdown",
   "metadata": {},
   "source": [
    "La différence entre `class` et `struct` est la suivante\n",
    "\n",
    "- de base tous les éléments de `class` sont privés si on ne spécifie pas `public` ou `private`\n",
    "- de base tous les éléments de `struct` sont publics si on ne spécifie pas `public` ou `private`\n",
    "\n",
    "On préférera utiliser `class` lorsqu'au moins un des éléments est privé. Si tout est public, alors on choisira `struct`."
   ]
  },
  {
   "cell_type": "markdown",
   "metadata": {},
   "source": [
    "## Les constructeurs et affectations\n",
    "\n",
    "Le langage fourni trois constructeurs\n",
    "\n",
    "- le constructeur par défaut\n",
    "- le constructeur par copie\n",
    "- le constructeur par déplacement\n",
    "\n",
    "Nous allons les voir plus en détail par la suite. Vous pouvez également définir vos propres constructeurs. Un constructeur n'a pas de type de retour et doit s'appeler par le nom de la classe. Nous allons ici créer notre propre constructeur."
   ]
  },
  {
   "cell_type": "code",
   "execution_count": 1,
   "metadata": {},
   "outputs": [],
   "source": [
    "class rational\n",
    "{\n",
    "public:  \n",
    "        \n",
    "    rational(const int n_, const int d_=1): n{n_}\n",
    "    {\n",
    "        std::cout << \"constructeur\\n\";\n",
    "        if (d_ == 0)\n",
    "            throw std::invalid_argument::invalid_argument(\"d must be different to zero.\");\n",
    "        d = d_;\n",
    "    }\n",
    "        \n",
    "    int get_n() const\n",
    "    {\n",
    "        return n;\n",
    "    }\n",
    "    \n",
    "    void set_n(int n_)\n",
    "    {\n",
    "        n = n_;\n",
    "    }\n",
    "\n",
    "    int get_d() const\n",
    "    {\n",
    "        return d;\n",
    "    }\n",
    "    \n",
    "    void set_d(int d_)\n",
    "    {\n",
    "        d = d_;\n",
    "    }\n",
    "\n",
    "    void simplify();\n",
    "\n",
    "private:\n",
    "    \n",
    "    int n{0}, d{1};\n",
    "    \n",
    "};"
   ]
  },
  {
   "cell_type": "code",
   "execution_count": 3,
   "metadata": {
    "collapsed": true
   },
   "outputs": [],
   "source": [
    "rational r{1, 2};"
   ]
  },
  {
   "cell_type": "code",
   "execution_count": 4,
   "metadata": {},
   "outputs": [
    {
     "name": "stdout",
     "output_type": "stream",
     "text": [
      "(int) 2\n"
     ]
    }
   ],
   "source": [
    "r.get_d()"
   ]
  },
  {
   "cell_type": "code",
   "execution_count": 5,
   "metadata": {},
   "outputs": [
    {
     "name": "stdout",
     "output_type": "stream",
     "text": [
      "(int) 5\n"
     ]
    }
   ],
   "source": [
    "r.set_n(5);\n",
    "r.get_n()"
   ]
  },
  {
   "cell_type": "code",
   "execution_count": 3,
   "metadata": {},
   "outputs": [
    {
     "name": "stderr",
     "output_type": "stream",
     "text": [
      "Caught a std::exception!\n",
      "d must be different to zero.\n"
     ]
    }
   ],
   "source": [
    "rational r1{2, 0};"
   ]
  },
  {
   "cell_type": "markdown",
   "metadata": {},
   "source": [
    "Plusieurs remarques :\n",
    "\n",
    "- il est bon d'intialiser les attributs par des valeurs par défaut.\n",
    "- dans le constructeur, nous pouvons directement affecter les attributs à des paramètres en mettant un deux points juste après la définition de celui-ci.\n",
    "- nous n'avons pas donner le corps de la méthode `simplify`. Nous pouvons le faire dans le corps de la méthode (comme initialement montré) ou après.\n",
    "\n",
    "Voyons comment faire pour donner le corps de `simplify` après la définition de la classe."
   ]
  },
  {
   "cell_type": "code",
   "execution_count": 2,
   "metadata": {
    "collapsed": true
   },
   "outputs": [],
   "source": [
    "void rational::simplify()\n",
    "{\n",
    "    int pgcd = n;\n",
    "    int tmp  = d;\n",
    "    while (tmp != 0)\n",
    "    {\n",
    "        int r = pgcd%tmp;\n",
    "        pgcd = tmp;\n",
    "        tmp = r;\n",
    "    }\n",
    "    n /= pgcd;\n",
    "    d /= pgcd;\n",
    "}"
   ]
  },
  {
   "cell_type": "code",
   "execution_count": 3,
   "metadata": {},
   "outputs": [
    {
     "name": "stdout",
     "output_type": "stream",
     "text": [
      "constructeur\n"
     ]
    }
   ],
   "source": [
    "rational r{6, 9};"
   ]
  },
  {
   "cell_type": "code",
   "execution_count": 4,
   "metadata": {},
   "outputs": [],
   "source": [
    "r.simplify();"
   ]
  },
  {
   "cell_type": "code",
   "execution_count": 5,
   "metadata": {},
   "outputs": [
    {
     "name": "stdout",
     "output_type": "stream",
     "text": [
      "(int) 2\n"
     ]
    }
   ],
   "source": [
    "r.get_n()"
   ]
  },
  {
   "cell_type": "code",
   "execution_count": 6,
   "metadata": {},
   "outputs": [
    {
     "name": "stdout",
     "output_type": "stream",
     "text": [
      "(int) 3\n"
     ]
    }
   ],
   "source": [
    "r.get_d()"
   ]
  },
  {
   "cell_type": "markdown",
   "metadata": {},
   "source": [
    "La méthode `simplify` fait bien ce que l'on veut."
   ]
  },
  {
   "cell_type": "markdown",
   "metadata": {},
   "source": [
    "### Le constructeur par défaut\n",
    "\n",
    "Le constructeur par défaut est un constructeur ne prenant pas de paramètres ou des valeurs par défaut pour chaque attribut de votre classe. Ici, le fait d'avoir spécifié un constructeur fait que nous n'avons plus de constructeur par défaut (si vous n'avez pas de constructeur, le langage en crée un pour vous comme lors de notre première implémentation de la classe `rational` lorsque tous nos attributs étaient `public`). Il est donc nécessaire de modifier un peu notre constructeur pour que l'on puisse faire à nouveau"
   ]
  },
  {
   "cell_type": "code",
   "execution_count": 4,
   "metadata": {},
   "outputs": [],
   "source": [
    "rational r2;"
   ]
  },
  {
   "cell_type": "markdown",
   "metadata": {},
   "source": [
    "Pour ce faire, il suffit juste de mettre l'ensemble des paramètres de notre constructeur avec des valeurs par défaut."
   ]
  },
  {
   "cell_type": "code",
   "execution_count": 1,
   "metadata": {
    "collapsed": true
   },
   "outputs": [],
   "source": [
    "class rational\n",
    "{\n",
    "public:  \n",
    "        \n",
    "    rational(const int n_ = 0, const int d_ = 1): n{n_}\n",
    "    {\n",
    "        if (d_ == 0)\n",
    "            throw std::invalid_argument::invalid_argument(\"d must be different to zero.\");\n",
    "        d = d_;\n",
    "    }\n",
    "        \n",
    "    int get_n() const\n",
    "    {\n",
    "        return n;\n",
    "    }\n",
    "    \n",
    "    void set_n(int n_)\n",
    "    {\n",
    "        n = n_;\n",
    "    }\n",
    "\n",
    "    int get_d() const\n",
    "    {\n",
    "        return d;\n",
    "    }\n",
    "    \n",
    "    void set_d(int d_)\n",
    "    {\n",
    "        d = d_;\n",
    "    }\n",
    "\n",
    "    void simplify();\n",
    "\n",
    "private:\n",
    "    \n",
    "    int n{0}, d{1};\n",
    "    \n",
    "};"
   ]
  },
  {
   "cell_type": "code",
   "execution_count": 4,
   "metadata": {
    "collapsed": true
   },
   "outputs": [],
   "source": [
    "rational r;"
   ]
  },
  {
   "cell_type": "code",
   "execution_count": 3,
   "metadata": {},
   "outputs": [
    {
     "name": "stdout",
     "output_type": "stream",
     "text": [
      "(int) 0\n"
     ]
    }
   ],
   "source": [
    "r.get_n()"
   ]
  },
  {
   "cell_type": "code",
   "execution_count": 4,
   "metadata": {},
   "outputs": [
    {
     "name": "stdout",
     "output_type": "stream",
     "text": [
      "(int) 1\n"
     ]
    }
   ],
   "source": [
    "r.get_d()"
   ]
  },
  {
   "cell_type": "markdown",
   "metadata": {},
   "source": [
    "### Le constructeur par copie\n",
    "\n",
    "Le constructeur par copie permet de faire la chose suivante"
   ]
  },
  {
   "cell_type": "code",
   "execution_count": 5,
   "metadata": {},
   "outputs": [],
   "source": [
    "rational r_1(r), r_2{r};"
   ]
  },
  {
   "cell_type": "markdown",
   "metadata": {},
   "source": [
    "Etant donné que nous n'avons pas précisé de constructeur par copie, le langage en construit un pour nous. Voici pourquoi la ligne du dessus s'exécute correctement. Voyons néanmoins son implantation pour comprendre ce que fait le langage par défaut. L'idée est donc de construire une copie d'une instance de `rational`. Le paramètre d'entrée en donc un `rational`. Etant donné que nous n'allons pas modifier ce paramètre, il est constant. De plus, nous le passons par référence. Ce qui nous donne"
   ]
  },
  {
   "cell_type": "code",
   "execution_count": null,
   "metadata": {
    "collapsed": true
   },
   "outputs": [],
   "source": [
    "class rational\n",
    "{\n",
    "public:  \n",
    "\n",
    "    //...\n",
    "    rational(const rational& r): n{r.n}, d{r.d}\n",
    "    {\n",
    "    }\n",
    "    //...\n",
    "\n",
    "};"
   ]
  },
  {
   "cell_type": "markdown",
   "metadata": {},
   "source": [
    "Petite remarque: si votre constructeur de copie est aussi simple et peut-être fait par le langage alors ne le faite pas. On peut spécifier dans la classe que l'on utilise le constructeur par copie donné par le langage explicitement. Il suffit d'écrire"
   ]
  },
  {
   "cell_type": "code",
   "execution_count": null,
   "metadata": {
    "collapsed": true
   },
   "outputs": [],
   "source": [
    "class rational\n",
    "{\n",
    "public:  \n",
    "\n",
    "    //...\n",
    "    rational(const rational& r) = default;\n",
    "    //...\n",
    "\n",
    "};"
   ]
  },
  {
   "cell_type": "markdown",
   "metadata": {},
   "source": [
    "Il est possible d'utiliser cette syntaxe pour l'ensemble des trois constructeurs ainsi que pour les opérateurs d'affectation.\n",
    "\n",
    "#### Affectation par copie\n",
    "\n",
    "Supposons que nous voulons dire qu'un rationnel est égal à un autre. Nous pourrions le faire de la manière suivante "
   ]
  },
  {
   "cell_type": "code",
   "execution_count": 2,
   "metadata": {},
   "outputs": [],
   "source": [
    "rational r1{1, 2}, r2;"
   ]
  },
  {
   "cell_type": "code",
   "execution_count": 6,
   "metadata": {
    "collapsed": true
   },
   "outputs": [],
   "source": [
    "r2.set_n(r1.get_n());\n",
    "r2.set_d(r1.get_d());"
   ]
  },
  {
   "cell_type": "code",
   "execution_count": 7,
   "metadata": {},
   "outputs": [
    {
     "name": "stdout",
     "output_type": "stream",
     "text": [
      "(int) 1\n"
     ]
    }
   ],
   "source": [
    "r2.get_n()"
   ]
  },
  {
   "cell_type": "code",
   "execution_count": 8,
   "metadata": {},
   "outputs": [
    {
     "name": "stdout",
     "output_type": "stream",
     "text": [
      "(int) 2\n"
     ]
    }
   ],
   "source": [
    "r2.get_d()"
   ]
  },
  {
   "cell_type": "markdown",
   "metadata": {},
   "source": [
    "Pas très joli tout ça. Nous préférerions faire "
   ]
  },
  {
   "cell_type": "code",
   "execution_count": 9,
   "metadata": {
    "collapsed": true
   },
   "outputs": [],
   "source": [
    "r2 = r1;"
   ]
  },
  {
   "cell_type": "markdown",
   "metadata": {},
   "source": [
    "Notez ici que nous effectuons une copie de tous les attributs de `r1` dans `r2`. Encore une fois la ligne du dessus est valide car le langage nous fournit un opérateur d'affectation si nous n'en avons pas.\n",
    "\n",
    "Si nous devions le faire nous même, voici à quoi à ressemblerait"
   ]
  },
  {
   "cell_type": "code",
   "execution_count": null,
   "metadata": {
    "collapsed": true
   },
   "outputs": [],
   "source": [
    "class rational\n",
    "{\n",
    "public:  \n",
    "\n",
    "    //...\n",
    "    rational& operator=(const rational& r)\n",
    "    {\n",
    "        n = r.n;\n",
    "        d = r.d;\n",
    "        return *this;\n",
    "    }\n",
    "    //...\n",
    "\n",
    "};"
   ]
  },
  {
   "cell_type": "markdown",
   "metadata": {},
   "source": [
    "L'opérateur renvoie une référence avoir de pouvoir faire plusieurs affectations en même temps. `this` est un pointeur réprésentant l'objet lui même. Etant donné que nous voulons à la fin une référence, il est nécessaire de le déréférencer à l'aide de l'opérateur `*`.\n",
    "\n",
    "Là encore, nous pouvons explicitement dire que nous utilisons l'opérateur d'affectation par défaut en écrivant"
   ]
  },
  {
   "cell_type": "code",
   "execution_count": null,
   "metadata": {
    "collapsed": true
   },
   "outputs": [],
   "source": [
    "class rational\n",
    "{\n",
    "public:  \n",
    "\n",
    "    //...\n",
    "    rational& operator=(const rational& r) = default;\n",
    "    //...\n",
    "\n",
    "};"
   ]
  },
  {
   "cell_type": "markdown",
   "metadata": {},
   "source": [
    "### Le constructeur par déplacement\n",
    "\n",
    "Ce constructeur permet à des `rvalue` de ne pas être copiées inutilement mais directement déplacées. Nous reviendrons plus en détail dans un prochain cours sur ce qu'est une `rvalue` mais dites vous que c'est un temporaire qui n'existe que ponctuellement. Lorsque ce temporaire est passé au constructeur, il est considéré à la sortie comme inutilisable.\n",
    "\n",
    "Afin d'expliciter un peu plus ce qu'est un temporaire, voici un exemple"
   ]
  },
  {
   "cell_type": "code",
   "execution_count": 10,
   "metadata": {
    "collapsed": true
   },
   "outputs": [],
   "source": [
    "rational r3{rational{1, 2}};"
   ]
  },
  {
   "cell_type": "markdown",
   "metadata": {},
   "source": [
    "Vous pouvez voir que `rational{1, 2}` n'est jamais affecté à une variable. Il n'existe donc que pour la construction de `r3` et après ne sert plus à rien. Par conséquent au lieu de le copier dans `r3` par le constructeur par copie vu précédemment, `r3` pourrait le voler."
   ]
  },
  {
   "cell_type": "code",
   "execution_count": null,
   "metadata": {
    "collapsed": true
   },
   "outputs": [],
   "source": [
    "class rational\n",
    "{\n",
    "public:  \n",
    "\n",
    "    //...\n",
    "    rational(rational&& r): n{std::move(r.n)}, d{std::move(r.d)}\n",
    "    {\n",
    "    }\n",
    "    //...\n",
    "\n",
    "};"
   ]
  },
  {
   "cell_type": "markdown",
   "metadata": {},
   "source": [
    "Encore une fois, on peut explicitement dire que l'on veut le constructeur par défaut."
   ]
  },
  {
   "cell_type": "code",
   "execution_count": null,
   "metadata": {
    "collapsed": true
   },
   "outputs": [],
   "source": [
    "class rational\n",
    "{\n",
    "public:  \n",
    "\n",
    "    //...\n",
    "    rational(rational&& r) = default;\n",
    "    //...\n",
    "\n",
    "};"
   ]
  },
  {
   "cell_type": "markdown",
   "metadata": {},
   "source": [
    "### Affectation par déplacement\n",
    "\n",
    "Comme pour l'affectation par copie, il est possible de définir l'affectation par déplacement. "
   ]
  },
  {
   "cell_type": "code",
   "execution_count": null,
   "metadata": {
    "collapsed": true
   },
   "outputs": [],
   "source": [
    "class rational\n",
    "{\n",
    "public:  \n",
    "\n",
    "    //...\n",
    "    rational& operator=(rational&& r)\n",
    "    {\n",
    "        n = std::move(r.n);\n",
    "        d = std::move(d.n);\n",
    "        return *this;\n",
    "    }\n",
    "    //...\n",
    "\n",
    "};"
   ]
  },
  {
   "cell_type": "markdown",
   "metadata": {},
   "source": [
    "Ou encore"
   ]
  },
  {
   "cell_type": "code",
   "execution_count": null,
   "metadata": {
    "collapsed": true
   },
   "outputs": [],
   "source": [
    "class rational\n",
    "{\n",
    "public:  \n",
    "\n",
    "    //...\n",
    "    rational& operator=(rational&& r) = default;\n",
    "    //...\n",
    "\n",
    "};"
   ]
  },
  {
   "cell_type": "markdown",
   "metadata": {},
   "source": [
    "Reprenons l'ensemble de ces constructeurs et opérateurs d'affectation et regardons leur fonctionnement sur des cas concrets. "
   ]
  },
  {
   "cell_type": "code",
   "execution_count": 1,
   "metadata": {
    "collapsed": true
   },
   "outputs": [],
   "source": [
    "class bidon\n",
    "{\n",
    "public: \n",
    "    \n",
    "    bidon(int a1=0, int a2=0): a1{a1}, a2{a2}\n",
    "    {\n",
    "        std::cout << \"constructeur par défaut\\n\";\n",
    "    }\n",
    "    \n",
    "    bidon(const bidon& b): a1{b.a1}, a2{b.a2}\n",
    "    {\n",
    "        std::cout << \"constructeur par copie\\n\";\n",
    "    }\n",
    "    \n",
    "    bidon(bidon&& b): a1{std::move(b.a1)}, a2{std::move(b.a2)}\n",
    "    {\n",
    "        std::cout << \"constructeur par déplacement\\n\";\n",
    "    }\n",
    "    \n",
    "    bidon& operator=(const bidon& b)\n",
    "    {\n",
    "        std::cout << \"affectation par copie\\n\";\n",
    "        a1 = b.a1;\n",
    "        a2 = b.a2;\n",
    "        return *this;\n",
    "    }\n",
    "\n",
    "    bidon& operator=(bidon&& b)\n",
    "    {\n",
    "        std::cout << \"affectation par déplacement\\n\";\n",
    "        a1 = std::move(b.a1);\n",
    "        a2 = std::move(b.a2);\n",
    "        return *this;\n",
    "    }\n",
    "\n",
    "//private:\n",
    "\n",
    "    int a1, a2;\n",
    "}"
   ]
  },
  {
   "cell_type": "code",
   "execution_count": 2,
   "metadata": {},
   "outputs": [
    {
     "name": "stdout",
     "output_type": "stream",
     "text": [
      "constructeur par défaut\n"
     ]
    }
   ],
   "source": [
    "bidon a{2, 3};"
   ]
  },
  {
   "cell_type": "code",
   "execution_count": 3,
   "metadata": {},
   "outputs": [
    {
     "name": "stdout",
     "output_type": "stream",
     "text": [
      "constructeur par copie\n"
     ]
    }
   ],
   "source": [
    "bidon b(a);"
   ]
  },
  {
   "cell_type": "code",
   "execution_count": 4,
   "metadata": {},
   "outputs": [
    {
     "name": "stdout",
     "output_type": "stream",
     "text": [
      "(int *) 0x7f7b76bbd044\n"
     ]
    }
   ],
   "source": [
    "&a.a1"
   ]
  },
  {
   "cell_type": "code",
   "execution_count": 5,
   "metadata": {},
   "outputs": [
    {
     "name": "stdout",
     "output_type": "stream",
     "text": [
      "constructeur par déplacement\n"
     ]
    }
   ],
   "source": [
    "bidon c(std::move(a));"
   ]
  },
  {
   "cell_type": "code",
   "execution_count": 5,
   "metadata": {},
   "outputs": [
    {
     "name": "stdout",
     "output_type": "stream",
     "text": [
      "constructeur par défaut\n"
     ]
    }
   ],
   "source": [
    "bidon d;"
   ]
  },
  {
   "cell_type": "code",
   "execution_count": 6,
   "metadata": {},
   "outputs": [
    {
     "name": "stdout",
     "output_type": "stream",
     "text": [
      "constructeur par défaut\n",
      "affectation par déplacement\n"
     ]
    }
   ],
   "source": [
    "d = bidon(1, 2);"
   ]
  },
  {
   "cell_type": "code",
   "execution_count": 7,
   "metadata": {},
   "outputs": [
    {
     "name": "stdout",
     "output_type": "stream",
     "text": [
      "affectation par copie\n"
     ]
    }
   ],
   "source": [
    "d = c;"
   ]
  },
  {
   "cell_type": "markdown",
   "metadata": {},
   "source": [
    "Dans nos exemples, nous ne manipulons que des scalaires (ici des `int`). Le `move` n'a donc pas beaucoup d'intérêt. Il en a en revanche lorsque vous avez des conteneurs qui peuvent être de grande taille. Supposez que vous avez créé une `rvalue` d'un conteneur de type `std::vector` avec 1000 éléments et vous voulez utiliser l'opérateur d'affectation. Pourquoi faire une copie alors que c'est un temporaire et qu'il ne vous servira plus après. Il est donc préférable d'utiliser une affectation par déplacement permettant de pointer juste sur le bon espace mémoire et de rendre la `rvalue` dans un état non défini. C'est ce que fait l'implantation de l'affectation par déplacement de `std::vector`.\n",
    "\n",
    "Dans certain cas, il est également utile de dire qu'une classe ne peut pas être copiée et/ou déplacée. A la même place où nous avons utilisé `default`, nous utiliserons `delete`. En voici un exemple"
   ]
  },
  {
   "cell_type": "code",
   "execution_count": 1,
   "metadata": {},
   "outputs": [],
   "source": [
    "struct nocopy\n",
    "{\n",
    "    int i;\n",
    "    nocopy() = default;\n",
    "    nocopy(const nocopy&) = delete;\n",
    "    nocopy& operator=(const nocopy&) = delete;\n",
    "}"
   ]
  },
  {
   "cell_type": "code",
   "execution_count": 2,
   "metadata": {},
   "outputs": [],
   "source": [
    "nocopy a;"
   ]
  },
  {
   "cell_type": "markdown",
   "metadata": {},
   "source": [
    "Essayons de faire une copie."
   ]
  },
  {
   "cell_type": "code",
   "execution_count": 3,
   "metadata": {},
   "outputs": [
    {
     "name": "stderr",
     "output_type": "stream",
     "text": [
      "input_line_9:2:9: error: call to deleted constructor of 'nocopy'\n",
      " nocopy b{a};\n",
      "        ^~~~\n",
      "input_line_7:5:5: note: 'nocopy' has been explicitly marked deleted here\n",
      "    nocopy(const nocopy&) = delete;\n",
      "    ^\n"
     ]
    }
   ],
   "source": [
    "nocopy b{a};"
   ]
  },
  {
   "cell_type": "code",
   "execution_count": 4,
   "metadata": {
    "collapsed": true
   },
   "outputs": [],
   "source": [
    "nocopy c;"
   ]
  },
  {
   "cell_type": "markdown",
   "metadata": {},
   "source": [
    "Essayons de faire une copie par affectation."
   ]
  },
  {
   "cell_type": "code",
   "execution_count": 5,
   "metadata": {},
   "outputs": [
    {
     "name": "stderr",
     "output_type": "stream",
     "text": [
      "input_line_11:2:4: error: overload resolution selected deleted operator '='\n",
      " c = a;\n",
      " ~ ^ ~\n",
      "input_line_7:6:13: note: candidate function has been explicitly deleted\n",
      "    nocopy& operator=(const nocopy&) = delete;\n",
      "            ^\n"
     ]
    }
   ],
   "source": [
    "c = a;"
   ]
  },
  {
   "cell_type": "code",
   "execution_count": 1,
   "metadata": {},
   "outputs": [],
   "source": [
    "struct nomovable\n",
    "{\n",
    "    int i;\n",
    "    nomovable() = default;\n",
    "    nomovable(nomovable&&) = delete;\n",
    "    nomovable& operator=(nomovable&&) = delete;\n",
    "}"
   ]
  },
  {
   "cell_type": "markdown",
   "metadata": {},
   "source": [
    "Essayons de créer un `nomovable` à partir d'une `rvalue`."
   ]
  },
  {
   "cell_type": "code",
   "execution_count": 2,
   "metadata": {},
   "outputs": [
    {
     "name": "stderr",
     "output_type": "stream",
     "text": [
      "input_line_8:2:12: error: call to deleted constructor of 'nomovable'\n",
      " nomovable am = nomovable();\n",
      "           ^    ~~~~~~~~~~~\n",
      "input_line_7:5:5: note: 'nomovable' has been explicitly marked deleted here\n",
      "    nomovable(nomovable&&) = delete;\n",
      "    ^\n"
     ]
    }
   ],
   "source": [
    "nomovable am = nomovable();"
   ]
  },
  {
   "cell_type": "code",
   "execution_count": 3,
   "metadata": {
    "collapsed": true
   },
   "outputs": [],
   "source": [
    "nomovable am, bm;"
   ]
  },
  {
   "cell_type": "markdown",
   "metadata": {},
   "source": [
    "Essayons de faire une affectation par déplacement."
   ]
  },
  {
   "cell_type": "code",
   "execution_count": 4,
   "metadata": {},
   "outputs": [
    {
     "name": "stderr",
     "output_type": "stream",
     "text": [
      "input_line_10:2:5: error: overload resolution selected deleted operator '='\n",
      " am = std::move(bm);\n",
      " ~~ ^ ~~~~~~~~~~~~~\n",
      "input_line_7:6:16: note: candidate function has been explicitly deleted\n",
      "    nomovable& operator=(nomovable&&) = delete;\n",
      "               ^\n",
      "input_line_7:1:8: note: candidate function (the implicit copy assignment operator) has been implicitly deleted\n",
      "struct nomovable\n",
      "       ^\n"
     ]
    }
   ],
   "source": [
    "am = std::move(bm);"
   ]
  },
  {
   "cell_type": "markdown",
   "metadata": {},
   "source": [
    "## `static` et `inline`\n",
    "\n",
    "L'utilisation `static` et de `inline` peut être très intéressant. Ils n'ont néanmoins rien à voir entre eux.\n",
    "\n",
    "- `static` signifie que l'attribut n'est pas associé à une instance particulière mais à la classe elle-même. Par conséquent chaque instance partage cet attribut.\n",
    "\n",
    "- `inline` permet de remplacer directement l'appel de la méthode ou de la fonction par son code. Ceci peut permettre un certain nombre d'optimisation. En effet, lorsque l'on appelle une fonction le compilateur ne sait pas ce qu'elle fait. En revanche si on utilise `inline`, la fonction n'est plus appelée et son code est directement injecté dans le corps du programme. Le compilateur a alors tous les éléments pour comprendre la suite logique de notre algorithme.\n",
    "\n",
    "Dans notre exemple, nous allons utiliser ces deux fonctionalités.\n",
    "\n",
    "- `static` pour compter le nombre de rationnels que nous avons construit.\n",
    "\n",
    "- `inline` pour la méthode `simplify`"
   ]
  },
  {
   "cell_type": "markdown",
   "metadata": {},
   "source": [
    "A cause d'un bug dans `cling`, nous sommes obligés d'écrire un script C++ pour l'utlisation d'un `static` comme attribut."
   ]
  },
  {
   "cell_type": "code",
   "execution_count": 13,
   "metadata": {},
   "outputs": [
    {
     "name": "stdout",
     "output_type": "stream",
     "text": [
      "Overwriting rational.cpp\n"
     ]
    }
   ],
   "source": [
    "%%file rational.cpp\n",
    "\n",
    "#include <iostream>\n",
    "#include <stdexcept>\n",
    "\n",
    "class rational\n",
    "{\n",
    "public:  \n",
    "    \n",
    "    static std::size_t nb_rational;\n",
    "    \n",
    "    rational(const int n_ = 0, const int d_ = 1): n{n_}\n",
    "    {\n",
    "        nb_rational++;\n",
    "        if (d_ == 0)\n",
    "            throw std::invalid_argument(\"d must be different to zero.\");\n",
    "        d = d_;\n",
    "        simplify();\n",
    "    }\n",
    "        \n",
    "    rational& operator=(const rational& r)\n",
    "    {\n",
    "        rational::nb_rational++;\n",
    "        n = r.n;\n",
    "        d = r.d;\n",
    "        return *this;\n",
    "    }\n",
    "\n",
    "    rational(const rational& r): n{r.n}, d{r.d}\n",
    "    {\n",
    "        rational::nb_rational++;\n",
    "    }\n",
    "    \n",
    "    ~rational()\n",
    "    {\n",
    "        rational::nb_rational--;\n",
    "    }\n",
    "    \n",
    "    int numerator() const\n",
    "    {\n",
    "        return n;\n",
    "    }\n",
    "    \n",
    "    void numerator(int n_)\n",
    "    {\n",
    "        n = n_;\n",
    "    }\n",
    "\n",
    "    int denominator() const\n",
    "    {\n",
    "        return d;\n",
    "    }\n",
    "    \n",
    "    void denominator(int d_)\n",
    "    {\n",
    "        d = d_;\n",
    "    }\n",
    "\n",
    "    inline void simplify()\n",
    "    {\n",
    "        int pgcd = n;\n",
    "        int tmp  = d;\n",
    "        while (tmp != 0)\n",
    "        {\n",
    "            int r = pgcd%tmp;\n",
    "            pgcd = tmp;\n",
    "            tmp = r;\n",
    "        }\n",
    "        n /= pgcd;\n",
    "        d /= pgcd;        \n",
    "    }\n",
    "\n",
    "private:\n",
    "    \n",
    "    int n{0}, d{1};\n",
    "    \n",
    "};\n",
    "\n",
    "std::size_t rational::nb_rational = 0; // Il est nécessaire de l'initialiser\n",
    "\n",
    "void f()\n",
    "{\n",
    "    rational r;\n",
    "    std::cout << \"Dans f: \" << rational::nb_rational << \"\\n\";\n",
    "}\n",
    "\n",
    "int main()\n",
    "{\n",
    "    rational r1, r2;\n",
    "    std::cout << \"Avant f: \" << rational::nb_rational << \"\\n\";\n",
    "    f();\n",
    "    std::cout << \"Apres f: \" << rational::nb_rational << \"\\n\";\n",
    "    return 0;\n",
    "}"
   ]
  },
  {
   "cell_type": "code",
   "execution_count": 14,
   "metadata": {},
   "outputs": [],
   "source": [
    "! g++ rational.cpp"
   ]
  },
  {
   "cell_type": "code",
   "execution_count": 15,
   "metadata": {},
   "outputs": [
    {
     "name": "stdout",
     "output_type": "stream",
     "text": [
      "Avant f: 2\n",
      "Dans f: 3\n",
      "Apres f: 2\n"
     ]
    }
   ],
   "source": [
    "! ./a.out"
   ]
  },
  {
   "cell_type": "markdown",
   "metadata": {},
   "source": [
    "## La surchage d'opérateurs\n",
    "\n",
    "Le langage C++ permet de surcharger un bon nombre d'opérateurs. Nous allons voir ici comment surcharger l'addition, la soustraction, la multiplication, la division et la puissance pour notre classe `rational`.\n",
    "\n",
    "Il est assez facile de surcharger un opérateur et vous l'avez déjà vu pour l'opérateur `=`. Voici ce que ça donne pour les autres opérateurs."
   ]
  },
  {
   "cell_type": "code",
   "execution_count": null,
   "metadata": {
    "collapsed": true
   },
   "outputs": [],
   "source": [
    "class rational\n",
    "{\n",
    "public:  \n",
    "    \n",
    "    /// ...\n",
    "    rational& operator+=(const rational& r)\n",
    "    {\n",
    "        n = n*r.d + d*r.n;\n",
    "        d = d*r.d;\n",
    "        simplify();\n",
    "        return *this;\n",
    "    }\n",
    "\n",
    "    rational& operator-=(const rational& r)\n",
    "    {\n",
    "        n = n*r.d - d*r.n;\n",
    "        d = d*r.d;\n",
    "        simplify();\n",
    "        return *this;\n",
    "    }\n",
    "\n",
    "    rational& operator*=(const rational& r)\n",
    "    {\n",
    "        n = n*r.n;\n",
    "        d = d*r.d;\n",
    "        simplify();\n",
    "        return *this;\n",
    "    }\n",
    "\n",
    "    rational& operator/=(const rational& r)\n",
    "    {\n",
    "        n = n*r.d;\n",
    "        d = d*r.n;\n",
    "        simplify();\n",
    "        return *this;\n",
    "    }\n",
    "\n",
    "    rational& operator^=(const double& r)\n",
    "    {\n",
    "        n = std::pow(n, r);\n",
    "        d = std::pow(d, r);\n",
    "        simplify();\n",
    "        return *this;\n",
    "    }\n",
    "/// ...\n",
    "};"
   ]
  },
  {
   "cell_type": "markdown",
   "metadata": {},
   "source": [
    "Cette implémentation ne définit que les opérateurs `+=`, `-=`, `*=`, `/=` et `^=`. Mais ce que nous voudrions pouvoir faire est la chose suivante"
   ]
  },
  {
   "cell_type": "code",
   "execution_count": null,
   "metadata": {
    "collapsed": true
   },
   "outputs": [],
   "source": [
    "rational r1{1, 3}, r2{1, 2};\n",
    "rational r3 = r1 + r2;"
   ]
  },
  {
   "cell_type": "markdown",
   "metadata": {},
   "source": [
    "Il est donc necessaire de définir d'autres opérateurs."
   ]
  },
  {
   "cell_type": "code",
   "execution_count": null,
   "metadata": {},
   "outputs": [],
   "source": [
    "rational& operator+(const rational& r1, const rational& r2)\n",
    "{\n",
    "    rational output(r1);\n",
    "    output += r2;\n",
    "    return output;\n",
    "}\n",
    "\n",
    "rational& operator-(const rational& r1, const rational& r2)\n",
    "{\n",
    "    rational output(r1);\n",
    "    output -= r2;\n",
    "    return output;\n",
    "}\n",
    "\n",
    "rational& operator*(const rational& r1, const rational& r2)\n",
    "{\n",
    "    rational output(r1);\n",
    "    output *= r2;\n",
    "    return output;\n",
    "}\n",
    "\n",
    "rational& operator/(const rational& r1, const rational& r2)\n",
    "{\n",
    "    rational output(r1);\n",
    "    output /= r2;\n",
    "    return output;\n",
    "}\n",
    "\n",
    "rational& operator^(const rational& r1, const double& d)\n",
    "{\n",
    "    rational output(r1);\n",
    "    output ^= d;\n",
    "    return output;\n",
    "}\n",
    "\n",
    "ostream& operator<<(ostream& out, const rational& r)\n",
    "{\n",
    "    out << r.numerator() << \"\\\\\" << r.denominator();\n",
    "    return out;\n",
    "}"
   ]
  },
  {
   "cell_type": "markdown",
   "metadata": {},
   "source": [
    "La encore, pour tester toutes ces méthodes nous devons les écrires dans un script."
   ]
  },
  {
   "cell_type": "code",
   "execution_count": 55,
   "metadata": {},
   "outputs": [
    {
     "name": "stdout",
     "output_type": "stream",
     "text": [
      "Overwriting rational.cpp\n"
     ]
    }
   ],
   "source": [
    "%%file rational.cpp\n",
    "\n",
    "#include <iostream>\n",
    "#include <stdexcept>\n",
    "#include <cmath>\n",
    "\n",
    "class rational\n",
    "{\n",
    "public:  \n",
    "    \n",
    "    rational(const int n_ = 0, const int d_ = 1): n{n_}\n",
    "    {\n",
    "        if (d_ == 0)\n",
    "            throw std::invalid_argument(\"d must be different to zero.\");\n",
    "        d = d_;\n",
    "        simplify();\n",
    "    }        \n",
    "    \n",
    "    rational& operator+=(const rational& r)\n",
    "    {\n",
    "        n = n*r.d + d*r.n;\n",
    "        d = d*r.d;\n",
    "        simplify();\n",
    "        return *this;\n",
    "    }\n",
    "\n",
    "    rational& operator-=(const rational& r)\n",
    "    {\n",
    "        n = n*r.d - d*r.n;\n",
    "        d = d*r.d;\n",
    "        simplify();\n",
    "        return *this;\n",
    "    }\n",
    "\n",
    "    rational& operator*=(const rational& r)\n",
    "    {\n",
    "        n = n*r.n;\n",
    "        d = d*r.d;\n",
    "        simplify();\n",
    "        return *this;\n",
    "    }\n",
    "\n",
    "    rational& operator/=(const rational& r)\n",
    "    {\n",
    "        n = n*r.d;\n",
    "        d = d*r.n;\n",
    "        simplify();\n",
    "        return *this;\n",
    "    }\n",
    "\n",
    "    rational& operator^=(const double& r)\n",
    "    {\n",
    "        n = std::pow(n, r);\n",
    "        d = std::pow(d, r);\n",
    "        simplify();\n",
    "        return *this;\n",
    "    }\n",
    "\n",
    "    int numerator() const\n",
    "    {\n",
    "        return n;\n",
    "    }\n",
    "    \n",
    "    void numerator(int n_)\n",
    "    {\n",
    "        n = n_;\n",
    "    }\n",
    "\n",
    "    int denominator() const\n",
    "    {\n",
    "        return d;\n",
    "    }\n",
    "    \n",
    "    void denominator(int d_)\n",
    "    {\n",
    "        d = d_;\n",
    "    }\n",
    "\n",
    "    inline void simplify()\n",
    "    {\n",
    "        int pgcd = n;\n",
    "        int tmp  = d;\n",
    "        while (tmp != 0)\n",
    "        {\n",
    "            int r = pgcd%tmp;\n",
    "            pgcd = tmp;\n",
    "            tmp = r;\n",
    "        }\n",
    "        n /= pgcd;\n",
    "        d /= pgcd;        \n",
    "    }\n",
    "\n",
    "private:\n",
    "    \n",
    "    int n{0}, d{1};\n",
    "};\n",
    "\n",
    "rational& operator+(const rational& r1, const rational& r2)\n",
    "{\n",
    "    rational output{r1};\n",
    "    return output += r2;\n",
    "}\n",
    "\n",
    "rational& operator-(const rational& r1, const rational& r2)\n",
    "{\n",
    "    rational output{r1};\n",
    "    return output -= r2;\n",
    "}\n",
    "\n",
    "rational& operator*(const rational& r1, const rational& r2)\n",
    "{\n",
    "    rational output{r1};\n",
    "    return output *= r2;\n",
    "}\n",
    "\n",
    "rational& operator/(const rational& r1, const rational& r2)\n",
    "{\n",
    "    rational output{r1};\n",
    "    return output /= r2;\n",
    "}\n",
    "\n",
    "rational& operator^(const rational& r1, const double& d)\n",
    "{\n",
    "    rational output{r1};\n",
    "    return output ^= d;\n",
    "}\n",
    "\n",
    "std::ostream& operator<<(std::ostream& out, const rational& r)\n",
    "{\n",
    "    out << r.numerator() << \"/\" << r.denominator();\n",
    "    return out;\n",
    "}\n",
    "\n",
    "int main()\n",
    "{\n",
    "    rational r1{2, 3}, r2{7, 6};\n",
    "    double d = 3;\n",
    "    //rational r3 = r1^3;\n",
    "    std::cout << \"r1 : \" << r1 << \"\\n\";\n",
    "    std::cout << \"r2 : \" << r2 << \"\\n\";\n",
    "    std::cout << r1 << \" + \" << r2 << \" = \" << r1 + r2 << \"\\n\";\n",
    "    std::cout << r1 << \" - \" << r2 << \" = \" << r1 - r2 << \"\\n\";\n",
    "    std::cout << r1 << \" * \" << r2 << \" = \" << r1 * r2 << \"\\n\";\n",
    "    std::cout << r1 << \" / \" << r2 << \" = \" << r1 / r2 << \"\\n\";\n",
    "    std::cout << r1 << \" ^ \" <<  d << \" = \" << (r1^d)      << \"\\n\";\n",
    "    return 0;\n",
    "}"
   ]
  },
  {
   "cell_type": "code",
   "execution_count": 56,
   "metadata": {},
   "outputs": [],
   "source": [
    "! g++ rational.cpp"
   ]
  },
  {
   "cell_type": "code",
   "execution_count": 57,
   "metadata": {},
   "outputs": [
    {
     "name": "stdout",
     "output_type": "stream",
     "text": [
      "r1 : 2/3\n",
      "r2 : 7/6\n",
      "2/3 + 7/6 = 11/6\n",
      "2/3 - 7/6 = 1/-2\n",
      "2/3 * 7/6 = 7/9\n",
      "2/3 / 7/6 = 4/7\n",
      "2/3 ^ 3 = -786671984/32766\n"
     ]
    }
   ],
   "source": [
    "! ./a.out"
   ]
  },
  {
   "cell_type": "code",
   "execution_count": null,
   "metadata": {
    "collapsed": true
   },
   "outputs": [],
   "source": []
  }
 ],
 "metadata": {
  "kernelspec": {
   "display_name": "xeus C++14",
   "language": "",
   "name": "xeus-cling-cpp14"
  },
  "language_info": {
   "codemirror_mode": "text/x-c++src",
   "file_extension": ".cpp",
   "mimetype": "text/x-c++src",
   "name": "c++",
   "version": ""
  }
 },
 "nbformat": 4,
 "nbformat_minor": 2
}
