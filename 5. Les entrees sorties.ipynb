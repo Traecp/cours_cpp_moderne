{
 "cells": [
  {
   "cell_type": "markdown",
   "metadata": {},
   "source": [
    "# Les entrées/sorties\n",
    "-----\n",
    "<center style=\"font-size:20px;\">\n",
    "Loic Gouarin\n",
    "</center>\n",
    "&nbsp;\n",
    "<center>\n",
    "*Licence 3*\n",
    "</center>\n",
    "<center>\n",
    "*Année 2017-2018*\n",
    "</center>\n",
    "\n",
    "-----"
   ]
  },
  {
   "cell_type": "markdown",
   "metadata": {},
   "source": [
    "Jusqu'à présent vous avez utilisé `std::cout` pour l'affichage. Nous allons dans ce cours aller un peu plus en profondeur sur l'utilisation des flux d'entrées/sorties en C++. Il en existe deux autres qui font également partie de `iostream`.\n",
    "\n",
    "- `std::cin` permet de récupérer les entrées.\n",
    "- `std::cerr` permet de gérer les messages d'erreur.\n",
    "\n",
    "Il n'est pas possible pour le moment d'utiliser `std::cin` dans `xeus-cling`.\n",
    "\n",
    "Lorsque nous avons présenté `std::cout` en introduction, nous avons présenté deux façons pour revenir à la ligne `std::endl` ou `\\n`. Ces deux méthodes sont différentes. En effet `std::endl` fait un nettoyage du flux de sortie. Ceci peut-être bien pratique lorsque l'on fait du débogage et que l'on veut savoir exactement où il y a un problème. Sans ça, il se peut que vous ayez une sortie qui n'indique pas le bon moment où le programme a un problème. \n",
    "\n",
    "Néanmoins, vider le flux à chaque fois est très coûteux et il est donc plutôt conseillé d'utiliser `\\n`.\n",
    "\n",
    "Dans la suite de ce cours, nous parlerons des manipulateurs qui peuvent aider au formatage, puis à l'écriture et à la lecture de données dans des fichiers ou dans des flux de chaînes de caractères.\n",
    "\n",
    "## Les manipulateurs\n",
    "\n",
    "Nous en avons déjà vu un certain nombre tout au long de ce cours. Nous allons néanmoins les rappeler et en introduire de nouveaux.\n",
    "\n",
    "Voici une liste de ce qui peut vous être utile.\n",
    "\n",
    "|Méthode | Descritption |\n",
    "|:-|:-|\n",
    "|`std::boolalpha` | commute entre la représentation textuelle et numérique de booléens |\n",
    "|`std::showpoint` | contrôle si la virgule est toujours inclus dans représentation en virgule flottante |\n",
    "|`std::showpos`   | contrôle si le signe $+$ est utilisé avec des nombres non négatifs |\n",
    "|`std::uppercase` | Contrôle si les majuscules sont utilisées avec certains formats de sortie|\n",
    "| `std::internal` |définit l'emplacement des caractères de remplissage |\n",
    "| `std::left`     |idem |\n",
    "| `std::right`    |idem|\n",
    "| `std::dec`      |modifie la base utilisée pour l'entier I/O |\n",
    "| `std::hex`      | idem|\n",
    "| `std::oct`      |idem|\n",
    "| `std::fixed`|changements de formatage utilisés pour virgule flottante I/O|\n",
    "| `std::scientific`|idem|\n",
    "| `std::hexfloat` |idem|\n",
    "| `std::defaultfloat`|idem|\n",
    "| `std::resetiosflags`|efface les drapeaux ios_base spécifiées|\n",
    "| `std::setiosflags`|fixe les drapeaux ios_base spécifiées|\n",
    "| `std::setprecision`|changements à virgule flottante de précision|\n",
    "| `std::setw` | modifie la largeur de l'entrée suivante/champ de sortie|\n"
   ]
  },
  {
   "cell_type": "markdown",
   "metadata": {},
   "source": [
    "Pour utiliser ces commandes, il faut inclure `iomanip`."
   ]
  },
  {
   "cell_type": "code",
   "execution_count": 7,
   "metadata": {
    "collapsed": true
   },
   "outputs": [],
   "source": [
    "#include <iomanip>"
   ]
  },
  {
   "cell_type": "code",
   "execution_count": 3,
   "metadata": {},
   "outputs": [
    {
     "name": "stdout",
     "output_type": "stream",
     "text": [
      "1\n",
      "true\n",
      "\n"
     ]
    }
   ],
   "source": [
    "std::cout << true << \"\\n\";\n",
    "std::cout << std::boolalpha << true << \"\\n\";\n",
    "std::cout << std::resetiosflags(std::ios_base::boolalpha) << \"\\n\"; //reset the flag"
   ]
  },
  {
   "cell_type": "code",
   "execution_count": 11,
   "metadata": {},
   "outputs": [
    {
     "name": "stdout",
     "output_type": "stream",
     "text": [
      "+3\n",
      "+3.00000\n",
      "\n"
     ]
    }
   ],
   "source": [
    "std::cout << 3. << \"\\n\";\n",
    "std::cout << std::showpoint << 3. << \"\\n\";\n",
    "std::cout << std::resetiosflags(std::ios_base::showpoint) << \"\\n\"; //reset the flag"
   ]
  },
  {
   "cell_type": "code",
   "execution_count": 13,
   "metadata": {},
   "outputs": [
    {
     "name": "stdout",
     "output_type": "stream",
     "text": [
      "3\n",
      "+3\n",
      "\n"
     ]
    }
   ],
   "source": [
    "std::cout << 3. << \"\\n\";\n",
    "std::cout << std::showpos << 3. << \"\\n\";\n",
    "std::cout << std::resetiosflags(std::ios_base::showpos) << \"\\n\"; //reset the flag"
   ]
  },
  {
   "cell_type": "code",
   "execution_count": 16,
   "metadata": {},
   "outputs": [
    {
     "name": "stdout",
     "output_type": "stream",
     "text": [
      "3e-10\n",
      "3E-10\n",
      "\n"
     ]
    }
   ],
   "source": [
    "std::cout << 3.e-10 << \"\\n\";\n",
    "std::cout << std::uppercase << 3.e-10 << \"\\n\";\n",
    "std::cout << std::resetiosflags(std::ios_base::uppercase) << \"\\n\"; //reset the flag"
   ]
  },
  {
   "cell_type": "code",
   "execution_count": 21,
   "metadata": {},
   "outputs": [
    {
     "name": "stdout",
     "output_type": "stream",
     "text": [
      "Internal fill:\n",
      "-*******1.23\n"
     ]
    }
   ],
   "source": [
    "std::cout << \"Internal fill:\\n\" << std::internal << std::setfill('*')\n",
    "          << std::setw(12) << -1.23  << '\\n';"
   ]
  },
  {
   "cell_type": "code",
   "execution_count": 26,
   "metadata": {},
   "outputs": [
    {
     "name": "stdout",
     "output_type": "stream",
     "text": [
      "0.0000000001000000\n",
      "\n"
     ]
    }
   ],
   "source": [
    "std::cout << std::fixed << std::setprecision(16) << 1e-10 << \"\\n\";\n",
    "std::cout << std::resetiosflags(std::ios_base::fixed) << \"\\n\"; //reset the flag"
   ]
  },
  {
   "cell_type": "markdown",
   "metadata": {},
   "source": [
    "## Lecture/écriture dans des fichiers\n",
    "\n",
    "Le C++ offre différentes classes pour lire et écrire dans des fichiers.\n",
    "\n",
    "|||\n",
    "|:-|:-|\n",
    "|`std::ofstream` | écrire dans un fichier |\n",
    "|`std::ifstream` | lire dans un fichier |\n",
    "|`std::ffstream` | écrire et lire dans un fichier |\n",
    "\n",
    "Leur utilisation est exactement la même qu'avec `std::cout` et `std::cin`. Pour les utiliser, il faut inclure `fstream`.\n",
    "\n",
    "### Ecriture d'un fichier"
   ]
  },
  {
   "cell_type": "code",
   "execution_count": 6,
   "metadata": {
    "collapsed": true
   },
   "outputs": [],
   "source": [
    "#include <fstream>"
   ]
  },
  {
   "cell_type": "code",
   "execution_count": 1,
   "metadata": {
    "collapsed": true
   },
   "outputs": [],
   "source": [
    "std::ofstream mult_table;\n",
    "mult_table.open(\"table.txt\");\n",
    "for (std::size_t i=0; i<10; ++i)\n",
    "    mult_table << i << \" * 7 = \" << i*7 << \"\\n\";\n",
    "mult_table.close();"
   ]
  },
  {
   "cell_type": "code",
   "execution_count": 2,
   "metadata": {},
   "outputs": [
    {
     "name": "stdout",
     "output_type": "stream",
     "text": [
      "0 * 7 = 0\n",
      "1 * 7 = 7\n",
      "2 * 7 = 14\n",
      "3 * 7 = 21\n",
      "4 * 7 = 28\n",
      "5 * 7 = 35\n",
      "6 * 7 = 42\n",
      "7 * 7 = 49\n",
      "8 * 7 = 56\n",
      "9 * 7 = 63\n"
     ]
    }
   ],
   "source": [
    "! less table.txt"
   ]
  },
  {
   "cell_type": "markdown",
   "metadata": {},
   "source": [
    "On peut également directement donner le nom du fichier lorsqu'on crée une instance de `std::ofstream`. Il n'est alors pas nécessaire d'ouvrir et de fermer le fichier."
   ]
  },
  {
   "cell_type": "markdown",
   "metadata": {},
   "source": [
    "> Ne marche pas dans `xeus-cling` car il n'écrit pas dans le fichier tant que l'objet `mult_table2` n'est pas détruit."
   ]
  },
  {
   "cell_type": "code",
   "execution_count": 5,
   "metadata": {
    "collapsed": true
   },
   "outputs": [],
   "source": [
    "std::ofstream mult_table_app;\n",
    "mult_table_app.open(\"table.txt\", std::ios::app);\n",
    "for (std::size_t i=0; i<10; ++i)\n",
    "    mult_table_app << i << \" * 7 = \" << i*7 << \"\\n\";\n",
    "mult_table_app.close()"
   ]
  },
  {
   "cell_type": "code",
   "execution_count": 4,
   "metadata": {},
   "outputs": [
    {
     "name": "stdout",
     "output_type": "stream",
     "text": [
      "0 * 7 = 0\n",
      "1 * 7 = 7\n",
      "2 * 7 = 14\n",
      "3 * 7 = 21\n",
      "4 * 7 = 28\n",
      "5 * 7 = 35\n",
      "6 * 7 = 42\n",
      "7 * 7 = 49\n",
      "8 * 7 = 56\n",
      "9 * 7 = 63\n",
      "0 * 7 = 0\n",
      "1 * 7 = 7\n",
      "2 * 7 = 14\n",
      "3 * 7 = 21\n",
      "4 * 7 = 28\n",
      "5 * 7 = 35\n",
      "6 * 7 = 42\n",
      "7 * 7 = 49\n",
      "8 * 7 = 56\n",
      "9 * 7 = 63\n"
     ]
    }
   ],
   "source": [
    "!less table.txt"
   ]
  },
  {
   "cell_type": "markdown",
   "metadata": {},
   "source": [
    "### Lecture d'un fichier"
   ]
  },
  {
   "cell_type": "code",
   "execution_count": 5,
   "metadata": {
    "collapsed": true
   },
   "outputs": [],
   "source": [
    "! echo \"1 2 3 4 5 6 7 8 9 10\" > int_list.txt"
   ]
  },
  {
   "cell_type": "code",
   "execution_count": 2,
   "metadata": {},
   "outputs": [
    {
     "name": "stdout",
     "output_type": "stream",
     "text": [
      "1 2 3 4 5 6 7 8 9 10 \n"
     ]
    }
   ],
   "source": [
    "std::ifstream input_file(\"int_list.txt\");\n",
    "int n;\n",
    "while (input_file >> n)\n",
    "    std::cout << n << \" \";\n",
    "std::cout << \"\\n\";"
   ]
  },
  {
   "cell_type": "markdown",
   "metadata": {},
   "source": [
    "## Lecture/écriture dans des chaînes de caractères\n",
    "\n",
    "Il est également possible de faire ce que l'on a vu précédemment dans des chaînes de caractères. Ce flux est appelé `stringstream`. Il est nécessaire d'inclure `sstream` pour l'utiliser.\n",
    "\n",
    "Reprenons notre exemple de table de multiplication."
   ]
  },
  {
   "cell_type": "code",
   "execution_count": 1,
   "metadata": {
    "collapsed": true
   },
   "outputs": [],
   "source": [
    "#include <sstream>"
   ]
  },
  {
   "cell_type": "code",
   "execution_count": 4,
   "metadata": {
    "collapsed": true
   },
   "outputs": [],
   "source": [
    "std::ostringstream oss;\n",
    "for (std::size_t i=0; i<10; ++i)\n",
    "    oss << i << \" * 7 = \" << i*7 << \"\\n\";"
   ]
  },
  {
   "cell_type": "code",
   "execution_count": 5,
   "metadata": {},
   "outputs": [
    {
     "name": "stdout",
     "output_type": "stream",
     "text": [
      "0 * 7 = 0\n",
      "1 * 7 = 7\n",
      "2 * 7 = 14\n",
      "3 * 7 = 21\n",
      "4 * 7 = 28\n",
      "5 * 7 = 35\n",
      "6 * 7 = 42\n",
      "7 * 7 = 49\n",
      "8 * 7 = 56\n",
      "9 * 7 = 63\n"
     ]
    }
   ],
   "source": [
    "std::cout << oss.str();"
   ]
  },
  {
   "cell_type": "markdown",
   "metadata": {},
   "source": [
    "## Lecture/écriture générique\n",
    "\n",
    "Lorsque vous écrivez des fonctions faisant intervenir des flux d'entrée/sortie, habituez vous à être le plus générique possible. La fonction pourra alors fonctionner pour la sortie standard `std::cout`, des `ofstream` ou des `ostringstream`.\n",
    "\n",
    "En voici un exemple"
   ]
  },
  {
   "cell_type": "code",
   "execution_count": 3,
   "metadata": {
    "collapsed": true
   },
   "outputs": [],
   "source": [
    "void print_coucou(std::ostream& oss)\n",
    "{\n",
    "    oss << \"coucou\\n\";\n",
    "}"
   ]
  },
  {
   "cell_type": "markdown",
   "metadata": {},
   "source": [
    "On peut alors l'utiliser dans\n",
    "\n",
    "- la sortie standard"
   ]
  },
  {
   "cell_type": "code",
   "execution_count": 7,
   "metadata": {},
   "outputs": [
    {
     "name": "stdout",
     "output_type": "stream",
     "text": [
      "coucou\n"
     ]
    }
   ],
   "source": [
    "print_coucou(std::cout);"
   ]
  },
  {
   "cell_type": "markdown",
   "metadata": {},
   "source": [
    "- avec des fichiers"
   ]
  },
  {
   "cell_type": "code",
   "execution_count": 9,
   "metadata": {
    "collapsed": true
   },
   "outputs": [],
   "source": [
    "std::ofstream fcoucou;\n",
    "fcoucou.open(\"coucou.txt\");\n",
    "print_coucou(fcoucou);\n",
    "fcoucou.close();"
   ]
  },
  {
   "cell_type": "code",
   "execution_count": 10,
   "metadata": {},
   "outputs": [
    {
     "name": "stdout",
     "output_type": "stream",
     "text": [
      "coucou\n"
     ]
    }
   ],
   "source": [
    "! less coucou.txt"
   ]
  },
  {
   "cell_type": "markdown",
   "metadata": {},
   "source": [
    "- avec des chaînes de caractères"
   ]
  },
  {
   "cell_type": "code",
   "execution_count": 4,
   "metadata": {},
   "outputs": [
    {
     "name": "stdout",
     "output_type": "stream",
     "text": [
      "coucou\n"
     ]
    }
   ],
   "source": [
    "std::ostringstream oss_coucou;\n",
    "print_coucou(oss_coucou);\n",
    "std::cout << oss_coucou.str();"
   ]
  },
  {
   "cell_type": "markdown",
   "metadata": {},
   "source": [
    "## Utiliser le format binaire\n",
    "\n",
    "Enfin, nous allons voir comment écrire au format binaire. En calcul scientifique, il est souvent nécessaire de lire et d'écrire des données issues d'un calcul. Ces données peuvent être importantes et il faut donc être vigilant à la place occupée par celles-ci.\n",
    "\n",
    "Jusqu'à présent, nous avons vu comment écrire des fichiers au format ascii. Ces fichiers sont lisibles par un humain et nous permettent donc de vérifier que l'on n'écrit pas n'importe quoi. Un fichier binaire n'est pas lisible par un humain mais en revanche les données stockées prennent exactement le nombre de bits nécessaire. Par exemple, un `double` prendra exactement 64 bits.\n",
    "\n",
    "Quelle différence ? Nous allons l'expliquer en l'illustrant."
   ]
  },
  {
   "cell_type": "code",
   "execution_count": 7,
   "metadata": {
    "collapsed": true
   },
   "outputs": [],
   "source": [
    "std::ofstream pi_file;"
   ]
  },
  {
   "cell_type": "code",
   "execution_count": 27,
   "metadata": {
    "collapsed": true
   },
   "outputs": [],
   "source": [
    "pi_file.open(\"pi.txt\");\n",
    "pi_file << std::setprecision(16) <<  M_PI;\n",
    "pi_file.close();"
   ]
  },
  {
   "cell_type": "code",
   "execution_count": null,
   "metadata": {
    "collapsed": true
   },
   "outputs": [],
   "source": [
    "std::ofstream pi_file_bin;"
   ]
  },
  {
   "cell_type": "code",
   "execution_count": 18,
   "metadata": {
    "collapsed": true
   },
   "outputs": [],
   "source": [
    "double pi = M_PI;"
   ]
  },
  {
   "cell_type": "code",
   "execution_count": 20,
   "metadata": {
    "collapsed": true
   },
   "outputs": [],
   "source": [
    "pi_file_bin.open(\"pi_bin.txt\", std::ios::binary);\n",
    "pi_file_bin.write(reinterpret_cast <char*> ( &pi ), sizeof( double ));\n",
    "pi_file_bin.close()"
   ]
  },
  {
   "cell_type": "code",
   "execution_count": 29,
   "metadata": {},
   "outputs": [
    {
     "name": "stdout",
     "output_type": "stream",
     "text": [
      "-rw-r--r-- 1 loic loic  8 sept. 15 13:28 pi_bin.txt\n",
      "-rw-r--r-- 1 loic loic 17 sept. 15 13:42 pi.txt\n"
     ]
    }
   ],
   "source": [
    "! ls -lh pi.txt pi_bin.txt"
   ]
  },
  {
   "cell_type": "markdown",
   "metadata": {},
   "source": [
    "Les tailles sont données en octets. Nous pouvons remarquer que $\\pi$ au format binaire prend bien la taille d'un `double` à savoir 8 octets, soit 64 bits.\n",
    "\n",
    "La taille de $\\pi$ en ascii prend 17 octets soit le double. Ceci s'explique par le fait que l'on écrit 17 caractères et qu'un caractère prend 1 octet. \n",
    "\n",
    "La conclusion de cette exemple est: écrivez vos résultats en binaire afin d'avoir des fichiers qui prennent le moins de place possible sur votre disque."
   ]
  },
  {
   "cell_type": "markdown",
   "metadata": {},
   "source": [
    "## Exemple\n",
    "\n",
    "Dans cette exemple, nous allons nous intéresser à l'art ASCII qui consiste à représenter des images uniquement à l'aide de caractères. Nous allons donc récupérer une image au format bmp et la convertir en ASCII comme dans l'exemple ci-dessous.\n",
    "\n",
    "![homer](./figures/homer.png)\n",
    "\n",
    "L'algorithme est les suivants\n",
    "\n",
    "- Lire l'image couleur.\n",
    "- La transformer en échelle de gris.\n",
    "- La réduire en calculant une moyenne autour de certains points conservés.\n",
    "- Normaliser et intensifier chaque pixel.\n",
    "- Ecrire le caractère correspondant à la valeur du pixel se trouvant dans une liste adéquat.\n",
    "\n",
    "### Lecture de l'image\n",
    "\n",
    "Nous allons réutiliser la librairie que nous avions utilisée lors du cours sur les conteneurs afin de lire une image bmp. Nous écrivons une fonction qui lit l'image et qui stocke en niveau de gris chaque pixel de celle-ci dans un double `std::vector`.\n",
    "\n",
    "Un niveau gris se calcule en effectuant la moyenne des couleurs RGB."
   ]
  },
  {
   "cell_type": "code",
   "execution_count": 1,
   "metadata": {
    "collapsed": true
   },
   "outputs": [],
   "source": [
    "#pragma cling add_include_path(\"./include\")\n",
    "#include \"bitmap_image.hpp\"\n",
    "#include <vector>"
   ]
  },
  {
   "cell_type": "code",
   "execution_count": 2,
   "metadata": {
    "collapsed": true
   },
   "outputs": [],
   "source": [
    "auto read_image_as_gray(std::string filename)\n",
    "{\n",
    "    bitmap_image image(filename);\n",
    "    std::vector<std::vector<double>> output(image.height(), std::vector<double>(image.width()));\n",
    "    for(std::size_t i=0; i<image.height(); ++i)\n",
    "        for(std::size_t j=0; j<image.width(); ++j)\n",
    "        {\n",
    "            unsigned char r, g, b;\n",
    "            image.get_pixel(j, i, r, g, b);\n",
    "            output[i][j] = (r + g + b)/3;\n",
    "        }\n",
    "    return output;\n",
    "}"
   ]
  },
  {
   "cell_type": "markdown",
   "metadata": {},
   "source": [
    "### Redimensionnement de l'image\n",
    "\n",
    "Le nombre de caractères que l'on peut afficher dans un terminal étant limité, il est nécessaire de réduire l'image pour qu'elle tienne qur environ 128 caractères de large.\n",
    "\n",
    "Nous définissons donc un stencil qui permet de dire combien on prend de points autour d'un pixel pour faire la moyenne. Comme indiqué sur le shéma suivant\n",
    "\n",
    "<img src=\"./figures/moyenne.png\" alt=\"Drawing\" style=\"width: 40%;\"/>\n",
    "\n",
    "Seuls les pixels verts seront conservés."
   ]
  },
  {
   "cell_type": "code",
   "execution_count": 3,
   "metadata": {
    "collapsed": true
   },
   "outputs": [],
   "source": [
    "auto reduce_size(const std::vector<std::vector<double>>& input, std::size_t stencil=1)\n",
    "{\n",
    "    auto height = input.size();\n",
    "    auto width = input[0].size();    \n",
    "    std::vector<std::vector<double>> output((height-2*stencil+1)/(2*stencil+1)+1, \n",
    "                                             std::vector<double>((width-2*stencil+1)/(2*stencil+1)+1));\n",
    "    \n",
    "    for(std::size_t i=stencil, ii=0; i<height-stencil; i+=2*stencil+1, ++ii)\n",
    "    {\n",
    "        for(std::size_t j=stencil, jj=0; j<width-stencil; j+=2*stencil+1, ++jj)\n",
    "        {\n",
    "            double som = 0.;\n",
    "            for (std::size_t k1 = i-stencil; k1<= i+stencil; ++k1)\n",
    "                for (std::size_t k2 = j-stencil; k2<= j+stencil; ++k2)\n",
    "                    som += input[k1][k2];\n",
    "            output[ii][jj] = som/((2*stencil+1)*(2*stencil+1));\n",
    "        }\n",
    "    }\n",
    "    return output;\n",
    "}"
   ]
  },
  {
   "cell_type": "markdown",
   "metadata": {},
   "source": [
    "### Normaliser et intensifier chaque pixel\n",
    "\n",
    "Nous allons à présent faire en sorte que chaque pixel soit compris en $0$ et $1$. Pour ce faire, nous avons besoin de calculer le minimum et le maximum sur l'ensemble des valeurs."
   ]
  },
  {
   "cell_type": "code",
   "execution_count": 4,
   "metadata": {
    "collapsed": true
   },
   "outputs": [],
   "source": [
    "auto min(const std::vector<std::vector<double>>& array)\n",
    "{\n",
    "    double res = array[0][0];\n",
    "    for(auto a: array)\n",
    "        for(auto aa: a)\n",
    "            res = std::min(res, aa);\n",
    "    return res;\n",
    "}"
   ]
  },
  {
   "cell_type": "code",
   "execution_count": 5,
   "metadata": {
    "collapsed": true
   },
   "outputs": [],
   "source": [
    "auto max(const std::vector<std::vector<double>>& array)\n",
    "{\n",
    "    double res=array[0][0];\n",
    "    for(auto a: array)\n",
    "        for(auto aa: a)\n",
    "            res = std::max(res, aa);\n",
    "    return res;\n",
    "}"
   ]
  },
  {
   "cell_type": "markdown",
   "metadata": {},
   "source": [
    "Nous pouvons à présent normaliser l'image. Nous allons également \n",
    "\n",
    "- inverser les couleurs (plus on est proche de 0 et plus on est blanc, et plus on est proche de 1 et plus on est noir),\n",
    "- intensifier les contrastes en élevant le résultat à une puissance d'intensité."
   ]
  },
  {
   "cell_type": "code",
   "execution_count": 6,
   "metadata": {
    "collapsed": true
   },
   "outputs": [],
   "source": [
    "void normalize_and_intensify(std::vector<std::vector<double>>& array, double intensity=1.5)\n",
    "{\n",
    "    auto minimum = min(array);\n",
    "    auto maximum = max(array);\n",
    "\n",
    "    for(auto& line: array)\n",
    "        for(auto& element: line)\n",
    "            element = std::pow(1. - (element-minimum)/(maximum-minimum), intensity);\n",
    "}"
   ]
  },
  {
   "cell_type": "markdown",
   "metadata": {},
   "source": [
    "### Ecriture du résultat\n",
    "\n",
    "Les caractères utilisés pour les couleurs sont les suivants"
   ]
  },
  {
   "cell_type": "code",
   "execution_count": 7,
   "metadata": {
    "collapsed": true
   },
   "outputs": [],
   "source": [
    "std::string chars = \" .,:;irsXA253hMHGS#9B&@\";"
   ]
  },
  {
   "cell_type": "markdown",
   "metadata": {},
   "source": [
    "On effectue à présent chacune des étapes de l'algorithme."
   ]
  },
  {
   "cell_type": "code",
   "execution_count": 8,
   "metadata": {
    "collapsed": true
   },
   "outputs": [],
   "source": [
    "auto gray = read_image_as_gray(\"./figures/homer.bmp\");\n",
    "auto output = reduce_size(gray, 2);\n",
    "normalize_and_intensify(output);"
   ]
  },
  {
   "cell_type": "markdown",
   "metadata": {},
   "source": [
    "On peut à présent écrire le résultat dans un fichier."
   ]
  },
  {
   "cell_type": "code",
   "execution_count": 9,
   "metadata": {
    "collapsed": true
   },
   "outputs": [],
   "source": [
    "#include <fstream>\n",
    "std::ofstream f;\n",
    "f.open(\"ascii_art_homer.txt\");\n",
    "for(auto& line: output)\n",
    "{\n",
    "    for(auto& element: line)\n",
    "        f << chars[static_cast<std::size_t>(element*(chars.size()-1))];\n",
    "    f << \"\\n\";\n",
    "}\n",
    "f.close();"
   ]
  },
  {
   "cell_type": "code",
   "execution_count": null,
   "metadata": {
    "collapsed": true
   },
   "outputs": [],
   "source": []
  },
  {
   "cell_type": "code",
   "execution_count": 1,
   "metadata": {
    "collapsed": true,
    "slideshow": {
     "slide_type": "skip"
    }
   },
   "outputs": [
    {
     "data": {
      "text/html": [
       "<link href='http://fonts.googleapis.com/css?family=Fenix' rel='stylesheet' type='text/css'>\n",
       "<link href='http://fonts.googleapis.com/css?family=Alegreya+Sans:100,300,400,500,700,800,900,100italic,300italic,400italic,500italic,700italic,800italic,900italic' rel='stylesheet' type='text/css'>\n",
       "<link href='http://fonts.googleapis.com/css?family=Source+Code+Pro:300,400' rel='stylesheet' type='text/css'>\n",
       "<link href=\"https://fonts.googleapis.com/css?family=Oswald|Raleway\" rel=\"stylesheet\" type='text/css'> \n",
       "<style>\n",
       "\n",
       "div.input_area {\n",
       "    border-radius: 10px !important;\n",
       "    background-color: #e1e1e6 !important;\n",
       "}\n",
       ".rendered_html pre, .rendered_html code {\n",
       "    color: #47597A /*#286e92*/ !important;\n",
       "}\n",
       "\n",
       "    h1, h2, h3, h4, h5 {\n",
       "        font-family: 'Oswald', sans-serif; !important;\n",
       "        /*font-style: oblique !important;*/\n",
       "    }\n",
       "    div.text_cell_render{\n",
       "        font-family: 'Raleway', sans-serif; !important;\n",
       "        line-height: 135% !important;\n",
       "        font-size: 120% !important;\n",
       "        width:100%;/*600px;*/\n",
       "        /*margin-left:auto;*/\n",
       "        /*margin-right:auto;*/\n",
       "    }\n",
       "    .CodeMirror{\n",
       "            font-family: \"Source Code Pro\" !important;\n",
       "            font-size: 120% !important;\n",
       "    }\n",
       "    .text_cell_render p{\n",
       "        text-align: justify !important;\n",
       "    }\n",
       "    .text_cell_render h1 {\n",
       "        font-weight: 200 !important;\n",
       "        line-height: 100% !important;\n",
       "        color:#47597A !important;\n",
       "        margin-bottom: 10.em !important;\n",
       "        margin-top: 50.em !important;\n",
       "        padding-bottom: 50.em !important;\n",
       "        padding-top: 50.em !important;\n",
       "        display: block !important;\n",
       "        font-size: 300% !important;\n",
       "        text-align: center !important;\n",
       "        border-bottom: 1px solid #47597A !important;\n",
       "        border-top: 1px solid #47597A !important;\n",
       "    }\n",
       "    .text_cell_render h2 {\n",
       "        font-weight: 200 !important;\n",
       "        line-height: 100% !important;\n",
       "        color:#47597A !important;\n",
       "        margin-bottom: 0.5em !important;\n",
       "        margin-top: 0.5em !important;\n",
       "        display: block !important;\n",
       "        font-size: 200% !important;\n",
       "        border-bottom: 1px solid #47597A !important;\n",
       "    }\n",
       "    .text_cell_render h3 {\n",
       "        font-weight: 200 !important;\n",
       "        line-height: 100% !important;\n",
       "        color:#47597A !important;\n",
       "        margin-bottom: 0.5em !important;\n",
       "        margin-top: 0.5em !important;\n",
       "        display: block !important;\n",
       "        font-size: 170% !important;\n",
       "    }\n",
       "    .text_cell_render h4 {\n",
       "        font-style: italic !important;\n",
       "        font-weight: normal !important;\n",
       "        line-height: 100% !important;\n",
       "        color:#47597A !important;\n",
       "        display: block !important;\n",
       "        font-size: 130% !important;\n",
       "    }\n",
       "    .text_cell_render h5 {\n",
       "        font-weight: 200 !important;\n",
       "        line-height: 100% !important;\n",
       "        color:#47597A !important;\n",
       "        margin-bottom: 0.5em !important;\n",
       "        margin-top: 0.5em !important;\n",
       "        display: block !important;\n",
       "        font-size: 120% !important;\n",
       "    }\n",
       "    .text_cell_render ul {\n",
       "\tlist-style-type: disc !important;\n",
       "\tcolor:#47597A !important;\n",
       "    }\n",
       "    .warning{\n",
       "        color: rgb( 240, 20, 20 ) !important;\n",
       "        }\n",
       "\n",
       "    .toc-item-num {\n",
       "        display: none;\n",
       "    }\n",
       "\n",
       "    .reveal section img{\n",
       "        margin: 0px auto;\n",
       "    }\n",
       "\n",
       "    div.output_area img{\n",
       "        display: block;\n",
       "        margin: 0px auto;\n",
       "    }\n",
       "  \n",
       "</style>\n",
       "\n",
       "<script>\n",
       "MathJax.Hub.Config({\n",
       "TeX: {extensions: [\"AMSmath.js\"]\n",
       "                           },\n",
       "                tex2jax: {\n",
       "                    inlineMath: [ ['$','$'], [\"\\\\(\",\"\\\\)\"] ],\n",
       "                    displayMath: [ ['$$','$$'], [\"\\\\[\",\"\\\\]\"] ]\n",
       "                },\n",
       "                displayAlign: 'center', // Change this to 'center' to center equations.\n",
       "                \"HTML-CSS\": {\n",
       "                    styles: {'.MathJax_Display': {\"margin\": 4}}\n",
       "                }\n",
       "        });\n",
       "</script>\n"
      ],
      "text/plain": [
       "<IPython.core.display.HTML object>"
      ]
     },
     "execution_count": 39,
     "metadata": {},
     "output_type": "execute_result"
    }
   ],
   "source": [
    "// style cell: don't remove !!"
   ]
  }
 ],
 "metadata": {
  "kernelspec": {
   "display_name": "xeus C++14",
   "language": "",
   "name": "xeus-cling-cpp14"
  },
  "language_info": {
   "codemirror_mode": "text/x-c++src",
   "file_extension": ".cpp",
   "mimetype": "text/x-c++src",
   "name": "c++",
   "version": ""
  }
 },
 "nbformat": 4,
 "nbformat_minor": 2
}
