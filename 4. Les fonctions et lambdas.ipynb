{
 "cells": [
  {
   "cell_type": "markdown",
   "metadata": {},
   "source": [
    "-----\n",
    "<center style=\"font-size:40px;\">\n",
    "Les fonctions et lambdas\n",
    "</center>\n",
    "&nbsp;\n",
    "<center style=\"font-size:20px;\">\n",
    "Loic Gouarin\n",
    "</center>\n",
    "&nbsp;\n",
    "<center>\n",
    "*Licence 3*\n",
    "</center>\n",
    "<center>\n",
    "*Année 2017-2018*\n",
    "</center>\n",
    "\n",
    "-----\n",
    "\n",
    "Nous allons à présent voir comment écrire des fonctions ou des lambdas. Les lambdas peuvent être vues comme des [`functor`](https://en.wikipedia.org/wiki/Function_object) mais beaucoup plus simple à mettre en place (nous en rediscuterons brièvement lorsque nous parlerons des classes). Dans tous les cas, les lambdas sont équivalentes à l'utilisation de fonctions.\n",
    "\n",
    "Jusqu'à présent, nous avons essentiellement présenté des types de données que proposait le langage C++. Vous avez commencé à écrire vos premiers algorithmes et ceux-ci étaient assez simples. \n",
    "\n",
    "Un code de calcul ou quelqu'il soit ne fait pas en général qu'une centaine de lignes mais peut être beaucoup plus complexe. Il est donc important de prendre des bonnes habitudes dès le départ pour avoir une belle structure de code et surtout donner envie de le lire ou de le relire. Lorsque vous commencez à programmer un algorithme tout est clair dans votre tête. Mais qu'en est-il lorsque vous revenez dessus plusieurs mois après ? Qu'est-ce que c'est que cette variable `a` ? A quoi sert cette boucle ?\n",
    "\n",
    "Voici quelques idées afin d'améliorer votre style de programmation\n",
    "\n",
    "- Donnez toujours des noms de variable et de fonction explicites"
   ]
  },
  {
   "cell_type": "code",
   "execution_count": null,
   "metadata": {
    "collapsed": true
   },
   "outputs": [],
   "source": [
    "double a;\n",
    "double radius;"
   ]
  },
  {
   "cell_type": "markdown",
   "metadata": {},
   "source": [
    "Je ne sais pas à quoi correspond `a`. En revanche, je comprends ce qui peut se cacher derrière la variable `radius`.\n",
    "\n",
    "- Essayer le plus possible de choisir des noms en anglais. Cela permet à tout le monde de pouvoir lire votre code, pas uniquement les francophones.\n",
    "\n",
    "- Ecrivez le plus de documentations utiles et là encore si possible en anglais. Utile veut dire que"
   ]
  },
  {
   "cell_type": "code",
   "execution_count": null,
   "metadata": {
    "collapsed": true
   },
   "outputs": [],
   "source": [
    "// loop begin\n",
    "for(...)"
   ]
  },
  {
   "cell_type": "markdown",
   "metadata": {},
   "source": [
    "ne sert à rien. En revanche"
   ]
  },
  {
   "cell_type": "code",
   "execution_count": null,
   "metadata": {
    "collapsed": true
   },
   "outputs": [],
   "source": [
    "// dot product computation\n",
    "for(...)"
   ]
  },
  {
   "cell_type": "markdown",
   "metadata": {},
   "source": [
    "permet de comprendre tout de suite ce que fait ce bloc.\n",
    "\n",
    "- Utilisez les bons types. Si vous savez qu'une de vos variables est un entier positif, n'utilisez pas `short`, `int`, `long` mais plutôt `unsigned short`, `unsigned int`, `std::size_t`. De cette façon, le nom de votre variable et son type donnent déjà beaucoup d'informations."
   ]
  },
  {
   "cell_type": "code",
   "execution_count": null,
   "metadata": {
    "collapsed": true
   },
   "outputs": [],
   "source": [
    "int fibonacci_number;\n",
    "//ou\n",
    "std::size_t fibonacci_number;\n",
    "// ??"
   ]
  },
  {
   "cell_type": "markdown",
   "metadata": {},
   "source": [
    "- Découpez au maximum vos codes et c'est là que les fonctions entre en jeu. Les avantages sont mutiliples\n",
    "\n",
    "    - améliorer la lisibilité\n",
    "    - réuliser au lieu d'avoir des copier-coller\n",
    "    - récursivité\n",
    "    \n",
    "- Testez, testez, testez !!!"
   ]
  },
  {
   "cell_type": "markdown",
   "metadata": {},
   "source": [
    "Discutons à présent plus spécifiquement des fonctions.\n",
    "\n",
    "# Les fonctions\n",
    "\n",
    "Vous avez déjà vu la syntaxe d'une fonction lors du premier cours avec la fonction `main`. La syntaxe générale est la suivante\n",
    "\n",
    "```\n",
    "[inline] type_de_retour nom_fonction(liste des arguments)\n",
    "{\n",
    "    bloc d'instructions de la fonction\n",
    "}\n",
    "```\n",
    "\n",
    "Les crochets indiquent que c'est optionnel.\n",
    "\n",
    "## Les arguments\n",
    "\n",
    "Les arguments sont une liste de types et de noms de variable. Vous pouvez utiliser tout ce que l'on a déjà vu. Les variables peuvent être `const` indiquant qu'on ne veut pas qu'elles changent dans le corps de la fonction.\n",
    "\n",
    "Nous allons distinguer deux manières de passer les variables.\n",
    "\n",
    "- passage par valeur\n",
    "- passage par référence\n",
    "\n",
    "**Passage par valeur**\n",
    "\n",
    "Prenons un exemple"
   ]
  },
  {
   "cell_type": "code",
   "execution_count": 1,
   "metadata": {
    "collapsed": true
   },
   "outputs": [],
   "source": [
    "void increment_1(int i)\n",
    "{\n",
    "    ++i;\n",
    "    std::cout << \"Dans la fonction i: \" << i <<\"\\n\";\n",
    "}"
   ]
  },
  {
   "cell_type": "code",
   "execution_count": 2,
   "metadata": {
    "collapsed": true
   },
   "outputs": [],
   "source": [
    "int i=1;"
   ]
  },
  {
   "cell_type": "code",
   "execution_count": 3,
   "metadata": {},
   "outputs": [
    {
     "name": "stdout",
     "output_type": "stream",
     "text": [
      "Dans la fonction i: 2\n",
      "apres i: 1\n"
     ]
    }
   ],
   "source": [
    "increment_1(i);\n",
    "std::cout << \"apres i: \" << i << \"\\n\";"
   ]
  },
  {
   "cell_type": "markdown",
   "metadata": {},
   "source": [
    "Que s'est-il passé ?\n",
    "\n",
    "Lorsque vous passez un argument par valeur, celui-ci est copié dans une variable locale à la fonction. Vous travaillez donc sur cette variable et non sur celle que vous avez passé en argument. Il est donc normal que vous ne changiez pas la valeur de l'argument passé en paramètre.\n",
    "\n",
    "Si vous voulez changer la valeur, il faut passer par référence.\n",
    "\n",
    "**Passage par référence**"
   ]
  },
  {
   "cell_type": "code",
   "execution_count": 4,
   "metadata": {
    "collapsed": true
   },
   "outputs": [],
   "source": [
    "void increment_2(int& i)\n",
    "{\n",
    "    ++i;\n",
    "    std::cout << \"Dans la fonction i: \" << i <<\"\\n\";\n",
    "}"
   ]
  },
  {
   "cell_type": "code",
   "execution_count": 5,
   "metadata": {},
   "outputs": [
    {
     "name": "stdout",
     "output_type": "stream",
     "text": [
      "Dans la fonction i: 2\n",
      "apres i: 2\n"
     ]
    }
   ],
   "source": [
    "increment_2(i);\n",
    "std::cout << \"apres i: \" << i << \"\\n\";"
   ]
  },
  {
   "cell_type": "markdown",
   "metadata": {},
   "source": [
    "Maintenant, ça fonctionne comme espéré car nous copions la référence et nous avons donc un accès direct à la variable que l'on souhaite modifier.\n",
    "\n",
    "En revanche, il n'est pas possible de travailler sur une variable temporaire."
   ]
  },
  {
   "cell_type": "code",
   "execution_count": 6,
   "metadata": {},
   "outputs": [
    {
     "name": "stderr",
     "output_type": "stream",
     "text": [
      "\u001b[1minput_line_12:2:2: \u001b[0m\u001b[0;1;31merror: \u001b[0m\u001b[1mno matching function for call to 'increment_2'\u001b[0m\n",
      " increment_2(i + 3);\n",
      "\u001b[0;1;32m ^~~~~~~~~~~\n",
      "\u001b[0m\u001b[1minput_line_10:1:6: \u001b[0m\u001b[0;1;30mnote: \u001b[0mcandidate function not viable: expects an l-value for 1st argument\u001b[0m\n",
      "void increment_2(int& i)\n",
      "\u001b[0;1;32m     ^\n",
      "\u001b[0m"
     ]
    }
   ],
   "source": [
    "increment_2(i + 3);"
   ]
  },
  {
   "cell_type": "markdown",
   "metadata": {},
   "source": [
    "Comme indiqué dans le message d'erreur, la fonction attend une `lvalue` et nous lui avons passé une `rvalue`. Nous reviendrons plus en détail sur ce point dans un prochain cours.\n",
    "\n",
    "Lorsque vous avez de gros objets à passer à la fonction comme des `std::vector` par exemple, il est préférable de les passer par référence évitant ainsi une copie.\n",
    "\n",
    "Habituez vous également à mettre `const` lorsque la variable n'est pas modifiée dans la fonction. Ceci indique clairement lorsque l'on lit les arguments de la fonction ce qui va changer et ce qui va rester inchangé."
   ]
  },
  {
   "cell_type": "code",
   "execution_count": 1,
   "metadata": {},
   "outputs": [],
   "source": [
    "void axpy(double scalar, const std::vector<double>& x, std::vector<double>& y)\n",
    "{\n",
    "    //perform y = ax+y\n",
    "    assert(x.size() == y.size());\n",
    "    for (std::size_t i=0; i< x.size(); ++i)\n",
    "        y[i] += scalar*x[i];\n",
    "}"
   ]
  },
  {
   "cell_type": "code",
   "execution_count": 2,
   "metadata": {
    "collapsed": true
   },
   "outputs": [],
   "source": [
    "std::vector<double> x{1, 2, 3};\n",
    "std::vector<double> y(3, 1);\n",
    "axpy(2, x, y);"
   ]
  },
  {
   "cell_type": "code",
   "execution_count": 3,
   "metadata": {},
   "outputs": [
    {
     "name": "stdout",
     "output_type": "stream",
     "text": [
      "3 5 7 "
     ]
    }
   ],
   "source": [
    "for (auto v: y)\n",
    "    std::cout << v << \" \";"
   ]
  },
  {
   "cell_type": "markdown",
   "metadata": {},
   "source": [
    "## Valeurs par défaut\n",
    "\n",
    "Il est possible de mettre des valeurs par défaut permettant de ne pas les spécifier lorsque l'on appelle la fonction. Ces variables doivent obligatoirement se trouver à la fin de la fonction. \n",
    "\n",
    "Reprenons notre exemple précédent et faisons en sorte que le scalaire est la valeur par défaut à 2."
   ]
  },
  {
   "cell_type": "code",
   "execution_count": 4,
   "metadata": {
    "collapsed": true
   },
   "outputs": [],
   "source": [
    "void axpy_with_default(const std::vector<double>& x, std::vector<double>& y, double scalar=2)\n",
    "{\n",
    "    //perform y = ax+y\n",
    "    assert(x.size() == y.size());\n",
    "    for (std::size_t i=0; i< x.size(); ++i)\n",
    "        y[i] += scalar*x[i];\n",
    "}"
   ]
  },
  {
   "cell_type": "code",
   "execution_count": 7,
   "metadata": {},
   "outputs": [],
   "source": [
    "y = {1, 1, 1};"
   ]
  },
  {
   "cell_type": "code",
   "execution_count": 8,
   "metadata": {},
   "outputs": [
    {
     "name": "stdout",
     "output_type": "stream",
     "text": [
      "3 5 7 "
     ]
    }
   ],
   "source": [
    "axpy_with_default(x, y);\n",
    "for (auto v: y)\n",
    "    std::cout << v << \" \";"
   ]
  },
  {
   "cell_type": "markdown",
   "metadata": {},
   "source": [
    "Vous pouvez toujours appeler la fonction avec une autre valeur du scalaire."
   ]
  },
  {
   "cell_type": "code",
   "execution_count": 9,
   "metadata": {},
   "outputs": [
    {
     "name": "stdout",
     "output_type": "stream",
     "text": [
      "2 3 4 "
     ]
    }
   ],
   "source": [
    "y = {1, 1, 1};\n",
    "axpy_with_default(x, y, 1);\n",
    "for (auto v: y)\n",
    "    std::cout << v << \" \";"
   ]
  },
  {
   "cell_type": "markdown",
   "metadata": {},
   "source": [
    "## Types de retour\n",
    "\n",
    "Jusqu'à présent nos fonctions ne retournent rien (`void`). Mais elles peuvent bien évidemment renvoyer tout type de données. \n",
    "\n",
    "Par exemple"
   ]
  },
  {
   "cell_type": "code",
   "execution_count": 4,
   "metadata": {
    "collapsed": true
   },
   "outputs": [],
   "source": [
    "int add(int x, int y)\n",
    "{\n",
    "    return x + y;\n",
    "}"
   ]
  },
  {
   "cell_type": "code",
   "execution_count": 11,
   "metadata": {},
   "outputs": [
    {
     "name": "stdout",
     "output_type": "stream",
     "text": [
      "(int) 5\n"
     ]
    }
   ],
   "source": [
    "add(2, 3)"
   ]
  },
  {
   "cell_type": "markdown",
   "metadata": {},
   "source": [
    "Voici un autre exemple."
   ]
  },
  {
   "cell_type": "code",
   "execution_count": 19,
   "metadata": {},
   "outputs": [
    {
     "name": "stderr",
     "output_type": "stream",
     "text": [
      "\u001b[1minput_line_26:4:1: \u001b[0m\u001b[0;1;31merror: \u001b[0m\u001b[1mfunction definition is not allowed here\u001b[0m\n",
      "{\n",
      "\u001b[0;1;32m^\n",
      "\u001b[0m"
     ]
    }
   ],
   "source": [
    "std::vector<double> product_element_wise(const std::vector<double>& x, const std::vector<double>& y)\n",
    "{\n",
    "    //assert(x.size() == y.size());\n",
    "    std::vector<double> z(x.size());\n",
    "    \n",
    "    for(std::size_t i=0; i<x.size(); ++i)\n",
    "        z[i] = x[i] + y[i];\n",
    "    \n",
    "    return z;\n",
    "}"
   ]
  },
  {
   "cell_type": "markdown",
   "metadata": {},
   "source": [
    "Le problème dans cette exemple est qu'à la fin de la fonction nous effectuons une copie de `z` dans la sortie ce qui a un coût non négligeable. On peut utiliser une sémantique de déplacement (à l'aide de `st::move`). Nous en reparlerons un peu plus tard. Mais sans cela, les compilateurs actuels peuvent être assez intelligents si on les aide un peu pour ne pas effectuer cette copie. On appelle ça `copy elision`. Nous en reparlerons également lorsque nous parlerons des classes."
   ]
  },
  {
   "cell_type": "markdown",
   "metadata": {},
   "source": [
    "## inlining\n",
    "\n",
    "L'appel à une fonction à un coût. Nous ne rentrerons pas plus dans les détails ici. On peut limiter ce coût en rajoutant le mot-clé `inline`. Cette action fait que l'appel de la fonction est remplacé par le corps de la fonction dans le code généré par le compilateur. Il n'y a alors plus d'appel de fonction.\n",
    "\n",
    "Voici un exemple d'utilisation"
   ]
  },
  {
   "cell_type": "code",
   "execution_count": 2,
   "metadata": {
    "collapsed": true
   },
   "outputs": [],
   "source": [
    "inline double square(double x) {return x*x;}"
   ]
  },
  {
   "cell_type": "markdown",
   "metadata": {},
   "source": [
    "## La surcharge\n",
    "\n",
    "En C++, il est possible de définir une fonction pour plusieurs paramètres d'entrée et/ou de sortie. \n",
    "\n",
    "Reprenons notre exemple de fonction `add`. Nous l'avons écrite pour fonctionner avec deux `int`. Que se passe-t-il si nous l'appelons avec deux `double` ?"
   ]
  },
  {
   "cell_type": "code",
   "execution_count": 5,
   "metadata": {},
   "outputs": [
    {
     "name": "stderr",
     "output_type": "stream",
     "text": [
      "\u001b[1minput_line_11:2:6: \u001b[0m\u001b[0;1;35mwarning: \u001b[0m\u001b[1mimplicit conversion from 'double' to 'int' changes value from 3.14 to 3 [-Wliteral-conversion]\u001b[0m\n",
      " add(3.14, 5.2)\n",
      "\u001b[0;1;32m ~~~ ^~~~\n",
      "\u001b[0m\u001b[1minput_line_11:2:12: \u001b[0m\u001b[0;1;35mwarning: \u001b[0m\u001b[1mimplicit conversion from 'double' to 'int' changes value from 5.2 to 5 [-Wliteral-conversion]\u001b[0m\n",
      " add(3.14, 5.2)\n",
      "\u001b[0;1;32m ~~~       ^~~\n",
      "\u001b[0m"
     ]
    },
    {
     "name": "stdout",
     "output_type": "stream",
     "text": [
      "(int) 8\n"
     ]
    }
   ],
   "source": [
    "add(3.14, 5.2)"
   ]
  },
  {
   "cell_type": "markdown",
   "metadata": {},
   "source": [
    "Comme lorsque nous avons introduit le `static_cast`, le compilateur nous avertit par un warning que nous avons perdu de l'information sur nos données mais il effectue quand même le calcul. Est-ce vraiment ce que nous voulons ?\n",
    "\n",
    "Afin de corriger ce problème, il suffit de réécrire la même fonction mais avec des types différents."
   ]
  },
  {
   "cell_type": "code",
   "execution_count": 6,
   "metadata": {
    "collapsed": true
   },
   "outputs": [],
   "source": [
    "double add(double x, double y)\n",
    "{\n",
    "    return x+y;\n",
    "}"
   ]
  },
  {
   "cell_type": "code",
   "execution_count": 7,
   "metadata": {},
   "outputs": [
    {
     "name": "stdout",
     "output_type": "stream",
     "text": [
      "(double) 8.340000\n"
     ]
    }
   ],
   "source": [
    "add(3.14, 5.2)"
   ]
  },
  {
   "cell_type": "code",
   "execution_count": 8,
   "metadata": {},
   "outputs": [
    {
     "name": "stdout",
     "output_type": "stream",
     "text": [
      "(int) 7\n"
     ]
    }
   ],
   "source": [
    "add(3, 4)"
   ]
  },
  {
   "cell_type": "markdown",
   "metadata": {},
   "source": [
    "Nous avons bien à présent le comportement escompté."
   ]
  },
  {
   "cell_type": "markdown",
   "metadata": {},
   "source": [
    "## `auto` et `decltype`\n",
    "\n",
    "Il n'est pas forcément nécessaire de préciser le type de retour étant donné que celui-ci peut être évalué à l'aide du corps de la fonction et des paramètres d'entrée. Ceci est vrai en C++14. En revanche en C++11, il faut utiliser le mot-clé `decltype` pour indiquer le type de la donnée de sortie. Notre fonction `prod_element_wise` peut donc s'écrire\n",
    "\n",
    "- en C++11"
   ]
  },
  {
   "cell_type": "code",
   "execution_count": 3,
   "metadata": {},
   "outputs": [
    {
     "name": "stderr",
     "output_type": "stream",
     "text": [
      "\u001b[1minput_line_9:3:1: \u001b[0m\u001b[0;1;31merror: \u001b[0m\u001b[1mfunction definition is not allowed here\u001b[0m\n",
      "{\n",
      "\u001b[0;1;32m^\n",
      "\u001b[0m"
     ]
    }
   ],
   "source": [
    "auto product_element_wise_cpp11(const std::vector<double>& x, const std::vector<double>& y) -> decltype(x)\n",
    "{\n",
    "    //assert(x.size() == y.size());\n",
    "    std::vector<double> z(x.size());\n",
    "    \n",
    "    for(std::size_t i=0; i<x.size(); ++i)\n",
    "        z[i] = x[i] + y[i];\n",
    "    \n",
    "    return z;\n",
    "}"
   ]
  },
  {
   "cell_type": "markdown",
   "metadata": {},
   "source": [
    "- en C++14"
   ]
  },
  {
   "cell_type": "code",
   "execution_count": 1,
   "metadata": {},
   "outputs": [],
   "source": [
    "auto product_element_wise_cpp14(const std::vector<double>& x, const std::vector<double>& y)\n",
    "{\n",
    "    //assert(x.size() == y.size());\n",
    "    std::vector<double> z(x.size());\n",
    "    \n",
    "    for(std::size_t i=0; i<x.size(); ++i)\n",
    "        z[i] = x[i] + y[i];\n",
    "    \n",
    "    return z;\n",
    "}"
   ]
  },
  {
   "cell_type": "markdown",
   "metadata": {},
   "source": [
    "# Les lambdas\n",
    "\n",
    "Comme dit en introduction, les lambdas permettent d'obtenir le même comportement que si on écrivait des `functor`. Elles permettent d'avoir des codes plus concis et plus compréhensibles. Elles sont très utiles lorsque nous utilisons les algorithmes de la librairie standard comme nous le verrons au cours prochain.\n",
    "\n",
    "Voici un exemple."
   ]
  },
  {
   "cell_type": "code",
   "execution_count": 3,
   "metadata": {},
   "outputs": [],
   "source": [
    "auto lambda = [](double x){return x*x;};"
   ]
  },
  {
   "cell_type": "code",
   "execution_count": 5,
   "metadata": {},
   "outputs": [
    {
     "name": "stdout",
     "output_type": "stream",
     "text": [
      "(double) 16.000000\n"
     ]
    }
   ],
   "source": [
    "lambda(4)"
   ]
  },
  {
   "cell_type": "markdown",
   "metadata": {},
   "source": [
    "Une lambda a donc le prototype suivant\n",
    "\n",
    "```\n",
    "[capture](liste d'arguments){corps de la lambda};\n",
    "```"
   ]
  },
  {
   "cell_type": "markdown",
   "metadata": {},
   "source": [
    "C'est donc très proche de l'écriture d'une fonction, sauf qu'une lambda n'a pas de nom et qu'elle a en plus des arguments de capture permettant d'ajouter des variables créées précédement."
   ]
  },
  {
   "cell_type": "markdown",
   "metadata": {},
   "source": [
    "## La capture\n",
    "\n",
    "Dans l'exemple précédent, nous n'avons pas fait de capture. Imaginez que vous ayez besoin d'une lambda pour les opérations suivantes"
   ]
  },
  {
   "cell_type": "code",
   "execution_count": 20,
   "metadata": {
    "collapsed": true
   },
   "outputs": [],
   "source": [
    "auto lambda_1 = [](double x){return 2*x;};\n",
    "auto lambda_2 = [](double x){return 4*x;};\n",
    "auto lambda_3 = [](double x){return 8*x;};"
   ]
  },
  {
   "cell_type": "markdown",
   "metadata": {},
   "source": [
    "Pas très pratique tout ça... Alors que nous avons juste un paramètre qui change.\n",
    "\n",
    "Malheureusment, il n'est pas possible de faire "
   ]
  },
  {
   "cell_type": "code",
   "execution_count": 21,
   "metadata": {},
   "outputs": [
    {
     "name": "stderr",
     "output_type": "stream",
     "text": [
      "\u001b[1minput_line_28:3:37: \u001b[0m\u001b[0;1;31merror: \u001b[0m\u001b[1mvariable 'i' cannot be implicitly captured in a lambda with no capture-default specified\u001b[0m\n",
      "auto lambda_1 = [](double x){return i*x;};\n",
      "\u001b[0;1;32m                                    ^\n",
      "\u001b[0m\u001b[1minput_line_28:2:6: \u001b[0m\u001b[0;1;30mnote: \u001b[0m'i' declared here\u001b[0m\n",
      " int i = 2;\n",
      "\u001b[0;1;32m     ^\n",
      "\u001b[0m\u001b[1minput_line_28:3:17: \u001b[0m\u001b[0;1;30mnote: \u001b[0mlambda expression begins here\u001b[0m\n",
      "auto lambda_1 = [](double x){return i*x;};\n",
      "\u001b[0;1;32m                ^\n",
      "\u001b[0m\u001b[1minput_line_28:2:6: \u001b[0m\u001b[0;1;31merror: \u001b[0m\u001b[1mredefinition of 'i'\u001b[0m\n",
      " int i = 2;\n",
      "\u001b[0;1;32m     ^\n",
      "\u001b[0m\u001b[1minput_line_13:2:6: \u001b[0m\u001b[0;1;30mnote: \u001b[0mprevious definition is here\u001b[0m\n",
      " int i;\n",
      "\u001b[0;1;32m     ^\n",
      "\u001b[0m"
     ]
    }
   ],
   "source": [
    "int i = 2;\n",
    "auto lambda_1 = [](double x){return i*x;};"
   ]
  },
  {
   "cell_type": "markdown",
   "metadata": {},
   "source": [
    "C'est la qu'intervient la capture. Il en existe de deux types\n",
    "\n",
    "- capture par valeur,\n",
    "- capture par référence.\n",
    "\n",
    "**Capture par valeur**\n",
    "\n",
    "Reprenons notre exemple. Une capture par valeur sur celui-ci donne."
   ]
  },
  {
   "cell_type": "code",
   "execution_count": 25,
   "metadata": {},
   "outputs": [
    {
     "name": "stdout",
     "output_type": "stream",
     "text": [
      "0\n",
      "0\n"
     ]
    }
   ],
   "source": [
    "{\n",
    "    int i = 0;\n",
    "    auto lambda = [i](double x){return x*i;};\n",
    "    std::cout << lambda(3) << \"\\n\";\n",
    "    i = 3;\n",
    "    std::cout << lambda(3) << \"\\n\";\n",
    "}"
   ]
  },
  {
   "cell_type": "markdown",
   "metadata": {},
   "source": [
    "On peut remarquer que la valeur de `i` a été copiée lors de la création de la lambda. Par conséquent, si nous modifions la valeur de `i` après la définition de la lambda, ceci n'a aucun impact.\n",
    "\n",
    "Il est également possible d'utiliser l'opérateur `=` pour tout capturer par valeur."
   ]
  },
  {
   "cell_type": "code",
   "execution_count": 27,
   "metadata": {},
   "outputs": [
    {
     "name": "stdout",
     "output_type": "stream",
     "text": [
      "1\n",
      "1\n"
     ]
    }
   ],
   "source": [
    "{\n",
    "    int i = 0, j = 1;\n",
    "    auto lambda = [=](double x){return x*i + j;};\n",
    "    std::cout << lambda(3) << \"\\n\";\n",
    "    i = 3;\n",
    "    std::cout << lambda(3) << \"\\n\";\n",
    "}"
   ]
  },
  {
   "cell_type": "markdown",
   "metadata": {},
   "source": [
    "**Capture par référence**\n",
    "\n",
    "Comme son nom l'indique, nous allons utiliser l'opérateur `&`."
   ]
  },
  {
   "cell_type": "code",
   "execution_count": 28,
   "metadata": {},
   "outputs": [
    {
     "name": "stdout",
     "output_type": "stream",
     "text": [
      "0\n",
      "9\n"
     ]
    }
   ],
   "source": [
    "{\n",
    "    int i = 0;\n",
    "    auto lambda = [&i](double x){return x*i;};\n",
    "    std::cout << lambda(3) << \"\\n\";\n",
    "    i = 3;\n",
    "    std::cout << lambda(3) << \"\\n\";\n",
    "}"
   ]
  },
  {
   "cell_type": "markdown",
   "metadata": {},
   "source": [
    "A présent, changer la valeur de `i` après la définition de la lambda a un impact.\n",
    "\n",
    "Il est également possible de tout capturer par référence."
   ]
  },
  {
   "cell_type": "code",
   "execution_count": 30,
   "metadata": {},
   "outputs": [
    {
     "name": "stdout",
     "output_type": "stream",
     "text": [
      "1\n",
      "10\n"
     ]
    }
   ],
   "source": [
    "{\n",
    "    int i = 0, j = 1;\n",
    "    auto lambda = [&](double x){return x*i + j;};\n",
    "    std::cout << lambda(3) << \"\\n\";\n",
    "    i = 3;\n",
    "    std::cout << lambda(3) << \"\\n\";\n",
    "}"
   ]
  },
  {
   "cell_type": "markdown",
   "metadata": {},
   "source": [
    "On peut enfin mixer les captures."
   ]
  },
  {
   "cell_type": "code",
   "execution_count": 31,
   "metadata": {},
   "outputs": [
    {
     "name": "stdout",
     "output_type": "stream",
     "text": [
      "1\n",
      "10\n"
     ]
    }
   ],
   "source": [
    "{\n",
    "    int i = 0, j = 1;\n",
    "    auto lambda = [=, &i](double x){return x*i + j;};\n",
    "    std::cout << lambda(3) << \"\\n\";\n",
    "    i = 3;\n",
    "    std::cout << lambda(3) << \"\\n\";\n",
    "}"
   ]
  },
  {
   "cell_type": "markdown",
   "metadata": {},
   "source": [
    "> Remarque:\n",
    "> Il est conseillé de ne pas utiliser les captures par valeur et par référence globales (opérateur `=` ou `&` seul). On s'habituera donc à capturer que ce qui est nécessaire.\n",
    "\n",
    "**Capture générique**\n",
    "\n",
    "Dans tous les exemples précédents, nous avons spécifié les types des arguments. Le problème est que l'on perd en généricité. Imaginez que vous pouvez écrire une même lambda pour des `int` ou des `double`, nous sommes encore obligé de dupliquer.\n",
    "\n",
    "Par exemple"
   ]
  },
  {
   "cell_type": "code",
   "execution_count": 32,
   "metadata": {
    "collapsed": true
   },
   "outputs": [],
   "source": [
    "auto lambda_int = [](int x, int y){return x+y;};\n",
    "auto lambda_double = [](double x, double y){return x+y;};"
   ]
  },
  {
   "cell_type": "markdown",
   "metadata": {},
   "source": [
    "Il est possible de mettre `auto` dans les paramètres d'entrée (ce qui n'estp as le cas pour les fonctions). Là encore, il y a une petite différence entre C++11 et C++14. En C++11, vous devez donner une façon de trouver le type avec un `decltype`. Ce n'est plus nécessaire en C++14.\n",
    "\n",
    "- En C++11"
   ]
  },
  {
   "cell_type": "code",
   "execution_count": 33,
   "metadata": {
    "collapsed": true
   },
   "outputs": [],
   "source": [
    "auto lambda_gen = [](auto x, auto y)->decltype(x){return x+y;};"
   ]
  },
  {
   "cell_type": "markdown",
   "metadata": {},
   "source": [
    "- En C++14"
   ]
  },
  {
   "cell_type": "code",
   "execution_count": 1,
   "metadata": {},
   "outputs": [],
   "source": [
    "auto lambda_gen = [](auto x, auto y){return x+y;};"
   ]
  },
  {
   "cell_type": "code",
   "execution_count": 2,
   "metadata": {},
   "outputs": [
    {
     "name": "stdout",
     "output_type": "stream",
     "text": [
      "(int) 3\n"
     ]
    }
   ],
   "source": [
    "lambda_gen(1, 2)"
   ]
  },
  {
   "cell_type": "code",
   "execution_count": 3,
   "metadata": {},
   "outputs": [
    {
     "name": "stdout",
     "output_type": "stream",
     "text": [
      "(double) 8.340000\n"
     ]
    }
   ],
   "source": [
    "lambda_gen(3.14, 5.2)"
   ]
  },
  {
   "cell_type": "code",
   "execution_count": 12,
   "metadata": {},
   "outputs": [
    {
     "name": "stdout",
     "output_type": "stream",
     "text": [
      "(std::basic_string<char>) \"helloworld\"\n"
     ]
    }
   ],
   "source": [
    "lambda_gen(std::string(\"hello\"), std::string(\"world\"))"
   ]
  },
  {
   "cell_type": "markdown",
   "metadata": {},
   "source": [
    "Il est conseillé d'utiliser la forme générique."
   ]
  },
  {
   "cell_type": "code",
   "execution_count": null,
   "metadata": {
    "collapsed": true
   },
   "outputs": [],
   "source": []
  }
 ],
 "metadata": {
  "kernelspec": {
   "display_name": "xeus C++14",
   "language": "",
   "name": "xeus-cling-cpp14"
  },
  "language_info": {
   "codemirror_mode": "text/x-c++src",
   "file_extension": ".cpp",
   "mimetype": "text/x-c++src",
   "name": "c++",
   "version": ""
  }
 },
 "nbformat": 4,
 "nbformat_minor": 2
}
