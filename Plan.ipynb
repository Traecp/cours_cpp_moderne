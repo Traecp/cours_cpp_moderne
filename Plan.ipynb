{
 "cells": [
  {
   "cell_type": "markdown",
   "metadata": {},
   "source": [
    "# Plan\n",
    "\n",
    "- introduction et bases du langage\n",
    "- enum, conteneurs(vector, array, ...), initializer_list, pair, tuple, et auto\n",
    "- les fonctions + lambda et decltype\n",
    "- les entrées/sorties\n",
    "- la librairie standard\n",
    "- les classes\n",
    "- l'héritage\n",
    "- RAII, shared_ptr, unique_prt, lvalue et rvalue\n",
    "- programmation générique (templates, variadic, déduction de type)\n",
    "- la méta programmation\n",
    "- le préprocesseur\n",
    "- structuration d'un programme et makefile"
   ]
  },
  {
   "cell_type": "code",
   "execution_count": null,
   "metadata": {
    "collapsed": true
   },
   "outputs": [],
   "source": []
  }
 ],
 "metadata": {
  "kernelspec": {
   "display_name": "xeus C++11",
   "language": "",
   "name": "xeus-cling-cpp11"
  },
  "language_info": {
   "codemirror_mode": "text/x-c++src",
   "file_extension": ".cpp",
   "mimetype": "text/x-c++src",
   "name": "c++",
   "version": ""
  }
 },
 "nbformat": 4,
 "nbformat_minor": 2
}
