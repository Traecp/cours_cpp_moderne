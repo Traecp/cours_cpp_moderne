{
 "cells": [
  {
   "cell_type": "markdown",
   "metadata": {},
   "source": [
    "# Les algortihmes de la STL\n",
    "-----\n",
    "<center style=\"font-size:20px;\">\n",
    "Loic Gouarin\n",
    "</center>\n",
    "&nbsp;\n",
    "<center>\n",
    "*Licence 3*\n",
    "</center>\n",
    "<center>\n",
    "*Année 2017-2018*\n",
    "</center>\n",
    "\n",
    "-----\n",
    "\n",
    "Vous avez jusqu'à présent implanté vous même des algorithmes en effectuant des boucles, des conditions de branchement, ... Mais la librairie standard vous offre tout un tas d'algorithmes prêts à l'emploi et optimisés (plus performants que si vous les écriviez vous même).\n",
    "\n",
    "La plupart de ces algorithmes auront besoin de fonctions dans leurs paramètres et c'est là que les lambdas fonctions vont montrer leur pleine utilité.\n",
    "\n",
    "On peut découper les algorithmes de la librairie standard par catégorie.\n",
    "\n",
    "- algorithmes sur une séquence sans modification de taille\n",
    "- algorithmes sur une séquence avec modification de taille\n",
    "- algorithmes de partitionnement\n",
    "- algorithmes de tri\n",
    "- algorithmes de recherche dichotomique\n",
    "- algorithmes sur des ensembles\n",
    "- algorithmes de min et de max\n",
    "- algorithmes numériques\n",
    "\n",
    "Dans la suite, nous allons présenté une partie des fonctionnalités disponibles pour chacune de ces catégories en les illustrant par des exemples. Pour ceux non traités, vous pouvez aller voir [ici](http://en.cppreference.com/w/cpp/algorithm).\n",
    "\n",
    "Pour utiliser les algorithmes de la librairie standard, il est nécessaire d'inclure `algorithm`.\n",
    "\n",
    "## Algorithmes sur une séquence sans modification de taille\n",
    "\n",
    "Comme son nom l'indique, cette catégorie représente les algorithmes qui agissent sur les éléments d'une séquence sans en modifier leur taille.\n",
    "\n",
    "On trouve les algorithmes suivants.\n",
    "\n",
    "- `std::all_of`, `std::any_of`, `std::none_of`\n",
    "\n",
    "regarde si un prédicat est vrai pour chaque élément, l'un d'entre eux ou aucun d'entre eux d'une portion d'une séquence.\n",
    "\n",
    "- `std::for_each`\n",
    "\n",
    "applique une fonction sur une portion d'une séquence.\n",
    "\n",
    "- `std::for_each_n` (C++17)\n",
    "\n",
    "applique une fonction sur les $n$ premiers éléments d'une séquence.\n",
    "\n",
    "- `std::count`, `std::count_if`\n",
    "\n",
    "retourne le nombre d'éléments satisfaisant un critère.\n",
    "\n",
    "- `std::mismatch`\n",
    "\n",
    "retourne le premier élément où deux portions de séquences diffèrent.\n",
    "\n",
    "- `std::equal`\n",
    "\n",
    "détermine si deux ensembles de séquences dont les mêmes.\n",
    "\n",
    "- `std::find`, `std::find_if`, `std::find_if_not`\n",
    "\n",
    "cherche le premier élément satisfaisant un critère.\n",
    "\n",
    "- `std::find_end`\n",
    "\n",
    "recherche la dernière apparition d'une sous séquence dans une séquence.\n",
    "\n",
    "- `std::find_first_of`\n",
    "\n",
    "recherche n'importe quel élément d'une séquence dans une autre séquence.\n",
    "\n",
    "- `std::adjacent_find`\n",
    "\n",
    "recherche dans une séquence deux éléments consécutifs qui sont égaux ou qui satisfont un prédicat.\n",
    "\n",
    "- `std::search`\n",
    "\n",
    "recherche une sous séquence dans une séquence.\n",
    "\n",
    "- `std::search_n`\n",
    "\n",
    "recherche une sous séquence apparaissant $n$ fois consécutivement dans une séquence.\n",
    "\n",
    "Nous allons maintenant regarder une partie de ces algorithmes.\n",
    "\n",
    "### `std::find`, `std::find_if`, `std::find_if_not`\n",
    "\n",
    "Ces méthodes cherchent le premier élément dans un interval `[first, last[` qui satisfait le critère suivant\n",
    "\n",
    "- `find` cherche un élément égal à une certaine valeur.\n",
    "- `find_if` cherche un élément pour qui un prédicat est vrai.\n",
    "- `find_if_not` cherche un élément pour qui un prédicat est faux.\n",
    "\n",
    "Une implantation possible de `find` est"
   ]
  },
  {
   "cell_type": "code",
   "execution_count": null,
   "metadata": {
    "collapsed": true
   },
   "outputs": [],
   "source": [
    "template<class InputIt, class T>\n",
    "InputIt find(InputIt first, InputIt last, const T& value)\n",
    "{\n",
    "    for (; first != last; ++first) {\n",
    "        if (*first == value) {\n",
    "            return first;\n",
    "        }\n",
    "    }\n",
    "    return last;\n",
    "}"
   ]
  },
  {
   "cell_type": "markdown",
   "metadata": {},
   "source": [
    "Une implantation possible de `find_if` est"
   ]
  },
  {
   "cell_type": "code",
   "execution_count": null,
   "metadata": {
    "collapsed": true
   },
   "outputs": [],
   "source": [
    "template<class InputIt, class UnaryPredicate>\n",
    "InputIt find_if(InputIt first, InputIt last, UnaryPredicate p)\n",
    "{\n",
    "    for (; first != last; ++first) {\n",
    "        if (p(*first)) {\n",
    "            return first;\n",
    "        }\n",
    "    }\n",
    "    return last;\n",
    "}"
   ]
  },
  {
   "cell_type": "markdown",
   "metadata": {},
   "source": [
    "Ces méthodes renvoient un itérateur. Par conséquent, si la réponse est la fin du conteneur `v` (`v.end()`) alors cela veut dire qu'on n'a pas trouvé d'élément correspondant.\n",
    "\n",
    "#### Exemple d'utilisation\n",
    "\n",
    "Nous cherchons à savoir si le chiffre $3$ fait partie d'une séquence."
   ]
  },
  {
   "cell_type": "code",
   "execution_count": 12,
   "metadata": {
    "collapsed": true
   },
   "outputs": [],
   "source": [
    "std::vector<int> v1{-1, 3, 4, 3, 6};\n",
    "std::vector<int> v2{1, 2, 0, -3, 5};"
   ]
  },
  {
   "cell_type": "code",
   "execution_count": 14,
   "metadata": {},
   "outputs": [
    {
     "name": "stdout",
     "output_type": "stream",
     "text": [
      "(bool) true\n"
     ]
    }
   ],
   "source": [
    "std::find(v1.begin(), v1.end(), 3) != v1.end()"
   ]
  },
  {
   "cell_type": "code",
   "execution_count": 16,
   "metadata": {},
   "outputs": [
    {
     "name": "stdout",
     "output_type": "stream",
     "text": [
      "(bool) false\n"
     ]
    }
   ],
   "source": [
    "std::find(v2.begin(), v2.end(), 3) != v2.end()"
   ]
  },
  {
   "cell_type": "markdown",
   "metadata": {},
   "source": [
    "Nous cherchons à présent à savoir si la valeur absolue d'un élément est $3$."
   ]
  },
  {
   "cell_type": "code",
   "execution_count": 17,
   "metadata": {
    "collapsed": true
   },
   "outputs": [],
   "source": [
    "auto abs3 = [](auto e){return std::abs(e) == 3;};"
   ]
  },
  {
   "cell_type": "code",
   "execution_count": 19,
   "metadata": {},
   "outputs": [
    {
     "name": "stdout",
     "output_type": "stream",
     "text": [
      "(bool) true\n"
     ]
    }
   ],
   "source": [
    "std::find_if(v1.begin(), v1.end(), abs3) != v1.end()"
   ]
  },
  {
   "cell_type": "code",
   "execution_count": 21,
   "metadata": {},
   "outputs": [
    {
     "name": "stdout",
     "output_type": "stream",
     "text": [
      "(bool) true\n"
     ]
    }
   ],
   "source": [
    "std::find_if(v2.begin(), v2.end(), abs3) != v2.end()"
   ]
  },
  {
   "cell_type": "markdown",
   "metadata": {},
   "source": [
    "### `std::all_of`, `std::any_of`, `std::none_of`\n",
    "\n",
    "Ces méthodes utilisent les méthodes `std::find`, `std::find_if`, `std::find_if_not`.\n",
    "\n",
    "Une implantation possible de `std::any_of` est"
   ]
  },
  {
   "cell_type": "code",
   "execution_count": null,
   "metadata": {
    "collapsed": true
   },
   "outputs": [],
   "source": [
    "template< class InputIt, class UnaryPredicate >\n",
    "bool any_of(InputIt first, InputIt last, UnaryPredicate p)\n",
    "{\n",
    "    return std::find_if(first, last, p) != last;\n",
    "}"
   ]
  },
  {
   "cell_type": "markdown",
   "metadata": {},
   "source": [
    "Nous allons travailler ici sur la parité d'une séquence. Soit la séquence suivante."
   ]
  },
  {
   "cell_type": "code",
   "execution_count": 5,
   "metadata": {},
   "outputs": [],
   "source": [
    "std::vector<std::size_t> v_par{1, 2, 3, 4};"
   ]
  },
  {
   "cell_type": "markdown",
   "metadata": {},
   "source": [
    "Est-ce que tous les éléments de cette séquence sont impairs ?"
   ]
  },
  {
   "cell_type": "code",
   "execution_count": 23,
   "metadata": {},
   "outputs": [
    {
     "name": "stdout",
     "output_type": "stream",
     "text": [
      "false"
     ]
    }
   ],
   "source": [
    "std::cout << std::boolalpha << std::all_of(v_par.begin(), v_par.end(), [](auto e){return e&1;});"
   ]
  },
  {
   "cell_type": "markdown",
   "metadata": {},
   "source": [
    "Est-ce qu'au moins un des éléments de cette séquence est impair ?"
   ]
  },
  {
   "cell_type": "code",
   "execution_count": 24,
   "metadata": {},
   "outputs": [
    {
     "name": "stdout",
     "output_type": "stream",
     "text": [
      "true"
     ]
    }
   ],
   "source": [
    "std::cout << std::boolalpha << std::any_of(v_par.begin(), v_par.end(), [](auto e){return e&1;});"
   ]
  },
  {
   "cell_type": "markdown",
   "metadata": {},
   "source": [
    "### `std::for_each`\n",
    "\n",
    "Ces méthodes permettent d'appeler une fonction sur chacun des éléments d'une séquence.\n",
    "\n",
    "Une implantation possible est"
   ]
  },
  {
   "cell_type": "code",
   "execution_count": 10,
   "metadata": {
    "collapsed": true
   },
   "outputs": [],
   "source": [
    "template<class InputIt, class UnaryFunction>\n",
    "UnaryFunction for_each(InputIt first, InputIt last, UnaryFunction f)\n",
    "{\n",
    "    for (; first != last; ++first) {\n",
    "        f(*first);\n",
    "    }\n",
    "    return f;\n",
    "}"
   ]
  },
  {
   "cell_type": "markdown",
   "metadata": {},
   "source": [
    "#### Exemple d'utilisation\n",
    "\n",
    "Elevons au carré chaque élément d'une séquence."
   ]
  },
  {
   "cell_type": "code",
   "execution_count": 1,
   "metadata": {},
   "outputs": [],
   "source": [
    "std::vector<std::size_t> v{1, 2, 3, 4};"
   ]
  },
  {
   "cell_type": "code",
   "execution_count": 2,
   "metadata": {},
   "outputs": [],
   "source": [
    "auto square = [](auto& e){ e*=e; };"
   ]
  },
  {
   "cell_type": "code",
   "execution_count": 3,
   "metadata": {},
   "outputs": [],
   "source": [
    "std::for_each(v.begin(), v.end(), square);"
   ]
  },
  {
   "cell_type": "code",
   "execution_count": 4,
   "metadata": {},
   "outputs": [
    {
     "name": "stdout",
     "output_type": "stream",
     "text": [
      "(std::vector<std::size_t> &) { 1, 4, 9, 16 }\n"
     ]
    }
   ],
   "source": [
    "v"
   ]
  },
  {
   "cell_type": "markdown",
   "metadata": {},
   "source": [
    "### `std::count` et `std::count_if`\n",
    "\n",
    "- `count` permet de compter combien d'éléments sont égaux à une valeur.\n",
    "- `count_if` permet de compter combien d'éléments satisfont un prédicat.\n",
    "\n",
    "Soit la séquence suivante"
   ]
  },
  {
   "cell_type": "code",
   "execution_count": 1,
   "metadata": {
    "collapsed": true
   },
   "outputs": [],
   "source": [
    "std::vector<int> vc{0, 1, -3, 1, -1, -8, 6};"
   ]
  },
  {
   "cell_type": "markdown",
   "metadata": {},
   "source": [
    "Combien d'éléments sont égaux à $1$ ?"
   ]
  },
  {
   "cell_type": "code",
   "execution_count": 2,
   "metadata": {},
   "outputs": [
    {
     "name": "stdout",
     "output_type": "stream",
     "text": [
      "(long) 2\n"
     ]
    }
   ],
   "source": [
    "std::count(vc.begin(), vc.end(), 1)"
   ]
  },
  {
   "cell_type": "markdown",
   "metadata": {},
   "source": [
    "Combien d'éléments sont strictement négatifs ?"
   ]
  },
  {
   "cell_type": "code",
   "execution_count": 3,
   "metadata": {},
   "outputs": [
    {
     "name": "stdout",
     "output_type": "stream",
     "text": [
      "(long) 3\n"
     ]
    }
   ],
   "source": [
    "std::count_if(vc.begin(), vc.end(), [](auto e){ return e < 0; })"
   ]
  },
  {
   "cell_type": "markdown",
   "metadata": {},
   "source": [
    "### `std::equal`\n",
    "\n",
    "Cette métode permet de vérifier que deux séquences sont identiques.\n",
    "\n",
    "Une implantation possible"
   ]
  },
  {
   "cell_type": "code",
   "execution_count": null,
   "metadata": {
    "collapsed": true
   },
   "outputs": [],
   "source": [
    "template<class InputIt1, class InputIt2>\n",
    "bool equal(InputIt1 first1, InputIt1 last1, \n",
    "           InputIt2 first2)\n",
    "{\n",
    "    for (; first1 != last1; ++first1, ++first2) {\n",
    "        if (!(*first1 == *first2)) {\n",
    "            return false;\n",
    "        }\n",
    "    }\n",
    "    return true;\n",
    "}"
   ]
  },
  {
   "cell_type": "markdown",
   "metadata": {},
   "source": [
    "#### Exemple d'utilisation\n",
    "\n",
    "Vérifions qu'une chaîne de caractères est un palindrome (un mot dont l'ordre des lettres reste le même qu'on le lise de gauche à droite ou de droite à gauche)."
   ]
  },
  {
   "cell_type": "code",
   "execution_count": 4,
   "metadata": {
    "collapsed": true
   },
   "outputs": [],
   "source": [
    "std::string t1 = \"essayer\";\n",
    "std::string t2 = \"ressasser\";"
   ]
  },
  {
   "cell_type": "code",
   "execution_count": 6,
   "metadata": {},
   "outputs": [
    {
     "name": "stdout",
     "output_type": "stream",
     "text": [
      "(bool) false\n"
     ]
    }
   ],
   "source": [
    "std::equal(t1.begin(), t1.end(), t1.rbegin())"
   ]
  },
  {
   "cell_type": "code",
   "execution_count": 7,
   "metadata": {},
   "outputs": [
    {
     "name": "stdout",
     "output_type": "stream",
     "text": [
      "(bool) true\n"
     ]
    }
   ],
   "source": [
    "std::equal(t2.begin(), t2.end(), t2.rbegin())"
   ]
  },
  {
   "cell_type": "markdown",
   "metadata": {},
   "source": [
    "### `std::search`\n",
    "\n",
    "Cette méthode permet de rechercher une sous-séquence dans une séquence.\n",
    "\n",
    "Soit la chaine ADN suivante."
   ]
  },
  {
   "cell_type": "code",
   "execution_count": 8,
   "metadata": {
    "collapsed": true
   },
   "outputs": [],
   "source": [
    "std::string adn = \"ATGGTACGTCAACTA\";"
   ]
  },
  {
   "cell_type": "markdown",
   "metadata": {},
   "source": [
    "Est-ce que la séquence \"TTAC\" apparaît ?"
   ]
  },
  {
   "cell_type": "code",
   "execution_count": 10,
   "metadata": {},
   "outputs": [
    {
     "name": "stdout",
     "output_type": "stream",
     "text": [
      "(bool) false\n"
     ]
    }
   ],
   "source": [
    "std::string to_find1 = \"TTAC\";\n",
    "std::search(adn.begin(), adn.end(), to_find1.begin(), to_find1.end()) != adn.end()"
   ]
  },
  {
   "cell_type": "markdown",
   "metadata": {},
   "source": [
    "Est-ce que la séquence \"TACG\" apparaît ?"
   ]
  },
  {
   "cell_type": "code",
   "execution_count": 12,
   "metadata": {},
   "outputs": [
    {
     "name": "stdout",
     "output_type": "stream",
     "text": [
      "(bool) true\n"
     ]
    }
   ],
   "source": [
    "std::string to_find2 = \"TACG\";\n",
    "std::search(adn.begin(), adn.end(), to_find2.begin(), to_find2.end()) != adn.end()"
   ]
  },
  {
   "cell_type": "markdown",
   "metadata": {},
   "source": [
    "Mais où ?"
   ]
  },
  {
   "cell_type": "code",
   "execution_count": 13,
   "metadata": {},
   "outputs": [
    {
     "name": "stdout",
     "output_type": "stream",
     "text": [
      "(long) 4\n"
     ]
    }
   ],
   "source": [
    "auto it = std::search(adn.begin(), adn.end(), to_find2.begin(), to_find2.end());\n",
    "std::distance(adn.begin(), it)"
   ]
  },
  {
   "cell_type": "markdown",
   "metadata": {},
   "source": [
    "## Algorithmes sur une séquence avec modification de taille\n",
    "\n",
    "Ces algorithmes peuvent donc changer la taille des séquences sur lesquelles on travaille (mais ce n'est pas obligatoire).\n",
    "\n",
    "On trouve les algorithmes suivants\n",
    "\n",
    "- `std::copy` et `std::copy_if`\n",
    "\n",
    "copie un ensemble d'éléments à un nouvel endroit.\n",
    "\n",
    "- `std::copy_n`\n",
    "\n",
    "copie un certain nombre d'éléments à un endroit.\n",
    "\n",
    "- `std::copy_backward`\n",
    "\n",
    "copie un ensemble d'éléments à un nouvel endroit en commençant par la fin mais l'ordre initial est préservé.\n",
    "\n",
    "- `std::move`\n",
    "\n",
    "déplace un ensemble d'élément à un endroit.\n",
    "\n",
    "- `std::move_backward`\n",
    "\n",
    "même chose que `std::copy_backward` mais pour un déplacement.\n",
    "\n",
    "- `std::fill`\n",
    "\n",
    "remplit un ensemble d'élements par une valeur donnée.\n",
    "\n",
    "- `std::fill_n`\n",
    "\n",
    "remplit un certain nombre d'élements par une valeur donnée.\n",
    "\n",
    "- `std::transform`\n",
    "\n",
    "applique une fonction à un ensemble d'éléements.\n",
    "\n",
    "- `std::generate`\n",
    "\n",
    "assigne les résultats successifs d'une fonction à un ensemble d'éléments.\n",
    "\n",
    "- `std::generate_n`\n",
    "\n",
    "assigne les résultats successifs d'une fonction à un certain nombre d'éléments.\n",
    "\n",
    "- `std::remove` et `std::remove_if`\n",
    "\n",
    "effacent les éléments satisfaisant un certain critère.\n",
    "\n",
    "- `std::remove_copy` et `std::remove_copy_if`\n",
    "\n",
    "copient les éléments satisfaisant un certain critère.\n",
    "\n",
    "- `std::replace` et `std::replace_if`\n",
    "\n",
    "remplacent les éléments satisfaisant un certain critère par une valeur donnée.\n",
    "\n",
    "- `std::replace_copy` et `std::replace_copy_if`\n",
    "\n",
    "copient les éléments d'une séquence en remplaçant les éléments satisfaisant un certain critère par une valeur donnée.\n",
    "\n",
    "- `std::swap`\n",
    "\n",
    "échange les valeurs de deux objets.\n",
    "\n",
    "- `std::swap_ranges`\n",
    "\n",
    "échange deux sous-séquences d'éléments.\n",
    "\n",
    "- `std::iter_swap`\n",
    "\n",
    "echange les éléments pointés par deux itérateurs.\n",
    "\n",
    "- `std::reverse`\n",
    "\n",
    "inverse l'ordre d'une séquence.\n",
    "\n",
    "- `std::reverse_copy`\n",
    "\n",
    "copie l'odre inverse d'une séquence.\n",
    "\n",
    "- `std::rotate`\n",
    "\n",
    "pivote l'ordre des éléments d'une séquence.\n",
    "\n",
    "- `std::rotate_copy`\n",
    "\n",
    "copie en pivotant l'ordre des éléments d'une séquence.\n",
    "\n",
    "- `std::shuffle`\n",
    "\n",
    "mélange les éléments d'une séquence.\n",
    "\n",
    "- `std::unique`\n",
    "\n",
    "efface les éléments consécutifs d'une séquence ayant la même valeur pour n'en garder qu'un.\n",
    "\n",
    "- `std::unique_copy`\n",
    "\n",
    "copie en effaçant les éléments consécutifs d'une séquence ayant la même valeur pour n'en garder qu'un."
   ]
  },
  {
   "cell_type": "markdown",
   "metadata": {},
   "source": [
    "### `std::copy_if`\n",
    "\n",
    "Supposons que nous avons la séquence suivante"
   ]
  },
  {
   "cell_type": "code",
   "execution_count": 1,
   "metadata": {
    "collapsed": true
   },
   "outputs": [],
   "source": [
    "std::vector<int> v{-1, 2, -6, -8, 3};"
   ]
  },
  {
   "cell_type": "markdown",
   "metadata": {},
   "source": [
    "Et que nous voulions copier uniquement les éléments positifs dans un nouveau conteneur."
   ]
  },
  {
   "cell_type": "code",
   "execution_count": 2,
   "metadata": {
    "collapsed": true
   },
   "outputs": [],
   "source": [
    "std::vector<int> new_v;"
   ]
  },
  {
   "cell_type": "code",
   "execution_count": 3,
   "metadata": {},
   "outputs": [],
   "source": [
    "std::copy_if(v.begin(), v.end(), std::back_inserter(new_v), [](auto e){return e>=0;});"
   ]
  },
  {
   "cell_type": "code",
   "execution_count": 5,
   "metadata": {},
   "outputs": [
    {
     "name": "stdout",
     "output_type": "stream",
     "text": [
      "(std::vector<int> &) { 2, 3 }\n"
     ]
    }
   ],
   "source": [
    "new_v"
   ]
  },
  {
   "cell_type": "markdown",
   "metadata": {},
   "source": [
    "### `std::fill`\n",
    "\n",
    "Supposons que nous avons la séquence suivante"
   ]
  },
  {
   "cell_type": "code",
   "execution_count": 1,
   "metadata": {},
   "outputs": [],
   "source": [
    "std::vector<int> v{0, 1, 2, 3, 4, 5, 6, 7, 8, 9};"
   ]
  },
  {
   "cell_type": "markdown",
   "metadata": {},
   "source": [
    "Et que nous voulions remplacer les 5 premiers éléments par $-1$."
   ]
  },
  {
   "cell_type": "code",
   "execution_count": 3,
   "metadata": {
    "collapsed": true
   },
   "outputs": [],
   "source": [
    "std::fill(v.begin(), v.begin()+5, -1);"
   ]
  },
  {
   "cell_type": "code",
   "execution_count": 4,
   "metadata": {},
   "outputs": [
    {
     "name": "stdout",
     "output_type": "stream",
     "text": [
      "(std::vector<int> &) { -1, -1, -1, -1, -1, 5, 6, 7, 8, 9 }\n"
     ]
    }
   ],
   "source": [
    "v"
   ]
  },
  {
   "cell_type": "markdown",
   "metadata": {},
   "source": [
    "### `std::transform`\n",
    "\n",
    "Supposons que nous avons la séquence suivante"
   ]
  },
  {
   "cell_type": "code",
   "execution_count": 1,
   "metadata": {},
   "outputs": [],
   "source": [
    "std::vector<double> v{0, 1, 2, 3, 4, 5, 6, 7, 8, 9};"
   ]
  },
  {
   "cell_type": "markdown",
   "metadata": {},
   "source": [
    "Et que nous voulions ajouter à la fin de ce vecteur la racine carré de ses éléments."
   ]
  },
  {
   "cell_type": "code",
   "execution_count": 2,
   "metadata": {},
   "outputs": [],
   "source": [
    "std::transform(v.begin(), v.end(), std::back_inserter(v), [](auto e){return std::sqrt(e);});"
   ]
  },
  {
   "cell_type": "code",
   "execution_count": 3,
   "metadata": {},
   "outputs": [
    {
     "name": "stdout",
     "output_type": "stream",
     "text": [
      "(std::vector<double> &) { 0.000000, 1.000000, 2.000000, 3.000000, 4.000000, 5.000000, 6.000000, 7.000000, 8.000000, 9.000000, 0.000000, 1.000000, 1.414214, 1.732051, 2.000000, 2.236068, 2.449490, 2.645751, 2.828427, 3.000000 }\n"
     ]
    }
   ],
   "source": [
    "v"
   ]
  },
  {
   "cell_type": "markdown",
   "metadata": {},
   "source": [
    "Supposons à présent que nous avons les deux séquences suivantes"
   ]
  },
  {
   "cell_type": "code",
   "execution_count": 4,
   "metadata": {
    "collapsed": true
   },
   "outputs": [],
   "source": [
    "std::vector<int> v1{0, 1, 2, 3, 4, 5, 6, 7, 8, 9};\n",
    "std::vector<int> v2{-1, 1, 1, -1, 1, -1, -1, -1, 1, 1};"
   ]
  },
  {
   "cell_type": "markdown",
   "metadata": {},
   "source": [
    "Et que nous voulions mettre le résultat de `v1*v2` dans `v1`."
   ]
  },
  {
   "cell_type": "code",
   "execution_count": 5,
   "metadata": {
    "collapsed": true
   },
   "outputs": [],
   "source": [
    "std::transform(v1.begin(), v1.end(), v2.begin(), v1.begin(), \n",
    "               [](auto e1, auto e2){return e1*e2;});"
   ]
  },
  {
   "cell_type": "code",
   "execution_count": 6,
   "metadata": {},
   "outputs": [
    {
     "name": "stdout",
     "output_type": "stream",
     "text": [
      "(std::vector<int> &) { 0, 1, 2, -3, 4, -5, -6, -7, 8, 9 }\n"
     ]
    }
   ],
   "source": [
    "v1"
   ]
  },
  {
   "cell_type": "markdown",
   "metadata": {},
   "source": [
    "### `std::swap`\n",
    "\n",
    "Cette méthode permet d'intervertir deux séquences."
   ]
  },
  {
   "cell_type": "code",
   "execution_count": 1,
   "metadata": {
    "collapsed": true
   },
   "outputs": [],
   "source": [
    "std::vector<int> v1{0, 1, 2, 3, 4, 5, 6, 7, 8, 9};\n",
    "std::vector<int> v2{0, 1, 2};"
   ]
  },
  {
   "cell_type": "code",
   "execution_count": 2,
   "metadata": {
    "collapsed": true
   },
   "outputs": [],
   "source": [
    "std::swap(v1, v2);"
   ]
  },
  {
   "cell_type": "code",
   "execution_count": 3,
   "metadata": {},
   "outputs": [
    {
     "name": "stdout",
     "output_type": "stream",
     "text": [
      "(std::vector<int> &) { 0, 1, 2 }\n"
     ]
    }
   ],
   "source": [
    "v1"
   ]
  },
  {
   "cell_type": "code",
   "execution_count": 4,
   "metadata": {},
   "outputs": [
    {
     "name": "stdout",
     "output_type": "stream",
     "text": [
      "(std::vector<int> &) { 0, 1, 2, 3, 4, 5, 6, 7, 8, 9 }\n"
     ]
    }
   ],
   "source": [
    "v2"
   ]
  },
  {
   "cell_type": "markdown",
   "metadata": {},
   "source": [
    "### `std::iter_swap`"
   ]
  },
  {
   "cell_type": "code",
   "execution_count": 5,
   "metadata": {
    "collapsed": true
   },
   "outputs": [],
   "source": [
    "std::vector<int> v{0, 1, 2, 3, 4, 5, 6, 7, 8, 9};"
   ]
  },
  {
   "cell_type": "code",
   "execution_count": 6,
   "metadata": {
    "collapsed": true
   },
   "outputs": [],
   "source": [
    "std::iter_swap(v.begin(), v.begin()+5);"
   ]
  },
  {
   "cell_type": "code",
   "execution_count": 7,
   "metadata": {},
   "outputs": [
    {
     "name": "stdout",
     "output_type": "stream",
     "text": [
      "(std::vector<int> &) { 5, 1, 2, 3, 4, 0, 6, 7, 8, 9 }\n"
     ]
    }
   ],
   "source": [
    "v"
   ]
  },
  {
   "cell_type": "markdown",
   "metadata": {},
   "source": [
    "### `std::reverse`"
   ]
  },
  {
   "cell_type": "code",
   "execution_count": 1,
   "metadata": {
    "collapsed": true
   },
   "outputs": [],
   "source": [
    "std::vector<int> v{0, 1, 2, 3, 4, 5, 6, 7, 8, 9};"
   ]
  },
  {
   "cell_type": "code",
   "execution_count": 2,
   "metadata": {
    "collapsed": true
   },
   "outputs": [],
   "source": [
    "std::reverse(v.begin(), v.end());"
   ]
  },
  {
   "cell_type": "code",
   "execution_count": 3,
   "metadata": {},
   "outputs": [
    {
     "name": "stdout",
     "output_type": "stream",
     "text": [
      "(std::vector<int> &) { 9, 8, 7, 6, 5, 4, 3, 2, 1, 0 }\n"
     ]
    }
   ],
   "source": [
    "v"
   ]
  },
  {
   "cell_type": "markdown",
   "metadata": {},
   "source": [
    "### `std::rotate`"
   ]
  },
  {
   "cell_type": "code",
   "execution_count": 1,
   "metadata": {
    "collapsed": true
   },
   "outputs": [],
   "source": [
    "std::vector<int> v{0, 1, 2, 3, 4, 5, 6, 7, 8, 9};"
   ]
  },
  {
   "cell_type": "code",
   "execution_count": 2,
   "metadata": {
    "collapsed": true
   },
   "outputs": [],
   "source": [
    "std::rotate(v.begin(), v.begin()+4, v.end());"
   ]
  },
  {
   "cell_type": "code",
   "execution_count": 3,
   "metadata": {},
   "outputs": [
    {
     "name": "stdout",
     "output_type": "stream",
     "text": [
      "(std::vector<int> &) { 4, 5, 6, 7, 8, 9, 0, 1, 2, 3 }\n"
     ]
    }
   ],
   "source": [
    "v"
   ]
  },
  {
   "cell_type": "markdown",
   "metadata": {},
   "source": [
    "### `std::unique`"
   ]
  },
  {
   "cell_type": "code",
   "execution_count": 1,
   "metadata": {
    "collapsed": true
   },
   "outputs": [],
   "source": [
    "std::vector<int> v{0, 1, 1, 2, 1, 3, 3, 4, 5, 5, 5, 6, 7, 8, 9};"
   ]
  },
  {
   "cell_type": "code",
   "execution_count": 2,
   "metadata": {
    "collapsed": true
   },
   "outputs": [],
   "source": [
    "auto last = std::unique(v.begin(), v.end());"
   ]
  },
  {
   "cell_type": "code",
   "execution_count": 3,
   "metadata": {},
   "outputs": [
    {
     "name": "stdout",
     "output_type": "stream",
     "text": [
      "(std::vector<int> &) { 0, 1, 2, 1, 3, 4, 5, 6, 7, 8, 9, 6, 7, 8, 9 }\n"
     ]
    }
   ],
   "source": [
    "v"
   ]
  },
  {
   "cell_type": "code",
   "execution_count": 4,
   "metadata": {},
   "outputs": [
    {
     "name": "stdout",
     "output_type": "stream",
     "text": [
      "(std::vector<int, std::allocator<int> >::iterator) @0x59bb1b0\n"
     ]
    }
   ],
   "source": [
    "v.erase(last, v.end())"
   ]
  },
  {
   "cell_type": "code",
   "execution_count": 5,
   "metadata": {},
   "outputs": [
    {
     "name": "stdout",
     "output_type": "stream",
     "text": [
      "(std::vector<int> &) { 0, 1, 2, 1, 3, 4, 5, 6, 7, 8, 9 }\n"
     ]
    }
   ],
   "source": [
    "v"
   ]
  },
  {
   "cell_type": "markdown",
   "metadata": {},
   "source": [
    "## Algorithmes de tri\n",
    "\n",
    "- `std::is_sorted`\n",
    "\n",
    "teste si une séquence est triée.\n",
    "\n",
    "- `std::sort`\n",
    "\n",
    "trie une séquence.\n",
    "\n",
    "### `std::is_sorted`\n",
    "\n",
    "Comme son nom l'indique, cette méthode permet de tester si une séquence est triée."
   ]
  },
  {
   "cell_type": "code",
   "execution_count": 1,
   "metadata": {
    "collapsed": true
   },
   "outputs": [],
   "source": [
    "std::vector<int> v{0, 1, 2, 3, 4, 5, 6};"
   ]
  },
  {
   "cell_type": "code",
   "execution_count": 2,
   "metadata": {},
   "outputs": [
    {
     "name": "stdout",
     "output_type": "stream",
     "text": [
      "(bool) true\n"
     ]
    }
   ],
   "source": [
    "std::is_sorted(v.begin(), v.end())"
   ]
  },
  {
   "cell_type": "code",
   "execution_count": 5,
   "metadata": {},
   "outputs": [],
   "source": [
    "#include <random>\n",
    "std::random_device rd;\n",
    "std::mt19937 g(rd());\n",
    "std::shuffle(v.begin(), v.end(), g);"
   ]
  },
  {
   "cell_type": "code",
   "execution_count": 6,
   "metadata": {},
   "outputs": [
    {
     "name": "stdout",
     "output_type": "stream",
     "text": [
      "(std::vector<int> &) { 0, 3, 1, 2, 6, 5, 4 }\n"
     ]
    }
   ],
   "source": [
    "v"
   ]
  },
  {
   "cell_type": "code",
   "execution_count": 7,
   "metadata": {},
   "outputs": [
    {
     "name": "stdout",
     "output_type": "stream",
     "text": [
      "(bool) false\n"
     ]
    }
   ],
   "source": [
    "std::is_sorted(v.begin(), v.end())"
   ]
  },
  {
   "cell_type": "markdown",
   "metadata": {},
   "source": [
    "### `std::sort`\n",
    "\n",
    "Cette méthode trie les éléments d'une séquence. On peut spécifier l'opérateur de comparaison entre deux éléments. Par défaut, l'opérateur `<` est choisi."
   ]
  },
  {
   "cell_type": "code",
   "execution_count": 8,
   "metadata": {
    "collapsed": true
   },
   "outputs": [],
   "source": [
    "std::sort(v.begin(), v.end());"
   ]
  },
  {
   "cell_type": "code",
   "execution_count": 9,
   "metadata": {},
   "outputs": [
    {
     "name": "stdout",
     "output_type": "stream",
     "text": [
      "(bool) true\n"
     ]
    }
   ],
   "source": [
    "std::is_sorted(v.begin(), v.end())"
   ]
  },
  {
   "cell_type": "markdown",
   "metadata": {},
   "source": [
    "## Algorithmes de dichotomie\n",
    "\n",
    "- `std::lower_bound`\n",
    "\n",
    "renvoie un itérateur sur le premier élément qui n'est pas plus petit qu'une certaine valeur.\n",
    "\n",
    "- `std::upper_bound`\n",
    "\n",
    "renvoie un itérateur sur le premier élément qui est plus grand qu'une certaine valeur.\n",
    "\n",
    "Comme pour les algorithmes précédents, si l'itérateur retourné est la fin de la séquence, alors il n'y a pas d'éléments correspondants dans la séquence donnée.\n",
    "\n",
    "Soit la séquence suivante"
   ]
  },
  {
   "cell_type": "code",
   "execution_count": 1,
   "metadata": {},
   "outputs": [],
   "source": [
    "std::vector<int> v{5, -1, 3, 2, 7};"
   ]
  },
  {
   "cell_type": "markdown",
   "metadata": {},
   "source": [
    "On aimerait savoir quel est le premier élément qui n'est pas plus petit que $6$."
   ]
  },
  {
   "cell_type": "code",
   "execution_count": 2,
   "metadata": {
    "collapsed": true
   },
   "outputs": [],
   "source": [
    "auto lower = std::lower_bound(v.begin(), v.end(), 6);"
   ]
  },
  {
   "cell_type": "code",
   "execution_count": 3,
   "metadata": {},
   "outputs": [
    {
     "name": "stdout",
     "output_type": "stream",
     "text": [
      "(long) 4\n"
     ]
    }
   ],
   "source": [
    "std::distance(v.begin(), lower)"
   ]
  },
  {
   "cell_type": "markdown",
   "metadata": {},
   "source": [
    "Maintenant savoir quel est le premier élément qui est plus grand que $2$."
   ]
  },
  {
   "cell_type": "code",
   "execution_count": 4,
   "metadata": {
    "collapsed": true
   },
   "outputs": [],
   "source": [
    "auto upper = std::upper_bound(v.begin(), v.end(), 2);"
   ]
  },
  {
   "cell_type": "code",
   "execution_count": 5,
   "metadata": {},
   "outputs": [
    {
     "name": "stdout",
     "output_type": "stream",
     "text": [
      "(long) 2\n"
     ]
    }
   ],
   "source": [
    "std::distance(v.begin(), upper)"
   ]
  },
  {
   "cell_type": "markdown",
   "metadata": {},
   "source": [
    "## Algorithmes sur des ensembles\n",
    "\n",
    "- `std::merge`\n",
    "\n",
    "fusion de deux séquences ordonnées.\n",
    "\n",
    "- `std::inplace_merge`\n",
    "\n",
    "fusion de deux séquences ordonnées \"in-place\".\n",
    "\n",
    "Si l'on veut fusioner deux séquences triées dans un autre conteneur il faut utiliser `std::merge` sinon si on veut mettre le résultat dans le même conteneur de départ, on utilisera `std::inplace_merge`.\n",
    "\n",
    "Soit les séquences suivantes."
   ]
  },
  {
   "cell_type": "code",
   "execution_count": 6,
   "metadata": {
    "collapsed": true
   },
   "outputs": [],
   "source": [
    "std::vector<int> v1{0, 2, 4, 6, 8};\n",
    "std::vector<int> v2{1, 3, 5, 7, 9};"
   ]
  },
  {
   "cell_type": "markdown",
   "metadata": {},
   "source": [
    "Et nous voulons les fusioner."
   ]
  },
  {
   "cell_type": "code",
   "execution_count": 7,
   "metadata": {
    "collapsed": true
   },
   "outputs": [],
   "source": [
    "std::vector<int> output;"
   ]
  },
  {
   "cell_type": "code",
   "execution_count": 8,
   "metadata": {
    "collapsed": true
   },
   "outputs": [],
   "source": [
    "std::merge(v1.begin(), v1.end(), v2.begin(), v2.end(), std::back_inserter(output));"
   ]
  },
  {
   "cell_type": "code",
   "execution_count": 10,
   "metadata": {},
   "outputs": [
    {
     "name": "stdout",
     "output_type": "stream",
     "text": [
      "(std::vector<int> &) { 0, 1, 2, 3, 4, 5, 6, 7, 8, 9 }\n"
     ]
    }
   ],
   "source": [
    "output"
   ]
  },
  {
   "cell_type": "markdown",
   "metadata": {},
   "source": [
    "Maintenant nous avons une séquence triée sur deux parties et nous voulons les fusioner en place."
   ]
  },
  {
   "cell_type": "code",
   "execution_count": 1,
   "metadata": {},
   "outputs": [],
   "source": [
    "std::vector<int> v{1, 3, 5, 7, 9, 0, 2, 4, 6, 8};"
   ]
  },
  {
   "cell_type": "code",
   "execution_count": 2,
   "metadata": {
    "collapsed": true
   },
   "outputs": [],
   "source": [
    "std::inplace_merge(v.begin(), v.begin()+5, v.end());"
   ]
  },
  {
   "cell_type": "code",
   "execution_count": 3,
   "metadata": {},
   "outputs": [
    {
     "name": "stdout",
     "output_type": "stream",
     "text": [
      "(std::vector<int> &) { 0, 1, 2, 3, 4, 5, 6, 7, 8, 9 }\n"
     ]
    }
   ],
   "source": [
    "v"
   ]
  },
  {
   "cell_type": "markdown",
   "metadata": {},
   "source": [
    "### Algorithmes min et max\n",
    "\n",
    "- `std::max`\n",
    "\n",
    "renvoie le maximum de deux valeurs.\n",
    "\n",
    "- `std::max_element`\n",
    "\n",
    "renvoie un itérateur où se trouve le maximum d'une séquence.\n",
    "\n",
    "- `std::min`\n",
    "\n",
    "renvoie le minimum de deux valeurs.\n",
    "\n",
    "- `std::min_element`\n",
    "\n",
    "renvoie un itérateur où se trouve le minimum d'une séquence.\n",
    "\n",
    "- `std::minmax`\n",
    "\n",
    "renvoie le minimum et le maximum de deux valeurs.\n",
    "\n",
    "- `std::minmax_element`\n",
    "\n",
    "renvoie un itérateur où se trouve le minimum et un autre où se trouve le maximum d'une séquence.\n",
    "\n",
    "### `std::min`, `std::max` et `std::minmax`\n",
    "\n",
    "Ces trois méthodes agissent sur des données de type scalaire et permettent de calculer le minimume et/ou le maximum entre deux scalaires."
   ]
  },
  {
   "cell_type": "code",
   "execution_count": 4,
   "metadata": {},
   "outputs": [
    {
     "name": "stdout",
     "output_type": "stream",
     "text": [
      "(const int) -3\n"
     ]
    }
   ],
   "source": [
    "std::min(4, -3)"
   ]
  },
  {
   "cell_type": "code",
   "execution_count": 1,
   "metadata": {},
   "outputs": [
    {
     "name": "stdout",
     "output_type": "stream",
     "text": [
      "(std::pair<int, int> &) { -6, 1 }\n"
     ]
    }
   ],
   "source": [
    "std::pair<int, int> minmax = std::minmax(1, -6)"
   ]
  },
  {
   "cell_type": "code",
   "execution_count": 3,
   "metadata": {},
   "outputs": [
    {
     "name": "stdout",
     "output_type": "stream",
     "text": [
      "(int) -6\n"
     ]
    }
   ],
   "source": [
    "minmax.first"
   ]
  },
  {
   "cell_type": "code",
   "execution_count": 4,
   "metadata": {},
   "outputs": [
    {
     "name": "stdout",
     "output_type": "stream",
     "text": [
      "(int) 1\n"
     ]
    }
   ],
   "source": [
    "minmax.second"
   ]
  },
  {
   "cell_type": "markdown",
   "metadata": {},
   "source": [
    "Vous pouvez également définir l'opérateur de comparaison que vous souhaitez utiliser."
   ]
  },
  {
   "cell_type": "markdown",
   "metadata": {},
   "source": [
    "### `std::min_element`, `std::max_element` et `std::minmax_element`\n",
    "\n",
    "Ces trois méthodes agissent sur des données de type conteneur. Là encore, il est possible d'utiliser son opérateur de comparaison."
   ]
  },
  {
   "cell_type": "code",
   "execution_count": 5,
   "metadata": {
    "collapsed": true
   },
   "outputs": [],
   "source": [
    "std::vector<int> v{-1, 4, 3, -6, 1};"
   ]
  },
  {
   "cell_type": "code",
   "execution_count": 7,
   "metadata": {},
   "outputs": [
    {
     "name": "stdout",
     "output_type": "stream",
     "text": [
      "(long) 3\n"
     ]
    }
   ],
   "source": [
    "auto it_min = std::min_element(v.begin(), v.end());\n",
    "std::distance(v.begin(), it_min)"
   ]
  },
  {
   "cell_type": "code",
   "execution_count": 8,
   "metadata": {},
   "outputs": [
    {
     "name": "stdout",
     "output_type": "stream",
     "text": [
      "(int) -6\n"
     ]
    }
   ],
   "source": [
    "*it_min"
   ]
  },
  {
   "cell_type": "code",
   "execution_count": 9,
   "metadata": {},
   "outputs": [
    {
     "name": "stdout",
     "output_type": "stream",
     "text": [
      "(long) 3\n"
     ]
    }
   ],
   "source": [
    "auto it_minmax = std::minmax_element(v.begin(), v.end());\n",
    "std::distance(v.begin(), it_minmax.first)"
   ]
  },
  {
   "cell_type": "code",
   "execution_count": 11,
   "metadata": {},
   "outputs": [
    {
     "name": "stdout",
     "output_type": "stream",
     "text": [
      "(int) -6\n"
     ]
    }
   ],
   "source": [
    "*it_minmax.first"
   ]
  },
  {
   "cell_type": "code",
   "execution_count": 12,
   "metadata": {},
   "outputs": [
    {
     "name": "stdout",
     "output_type": "stream",
     "text": [
      "(long) 1\n"
     ]
    }
   ],
   "source": [
    "std::distance(v.begin(), it_minmax.second)"
   ]
  },
  {
   "cell_type": "code",
   "execution_count": 13,
   "metadata": {},
   "outputs": [
    {
     "name": "stdout",
     "output_type": "stream",
     "text": [
      "(int) 4\n"
     ]
    }
   ],
   "source": [
    "*it_minmax.second"
   ]
  },
  {
   "cell_type": "markdown",
   "metadata": {},
   "source": [
    "## Algorithmes numériques\n",
    "\n",
    "- `std::iota`\n",
    "\n",
    "remplit une séquence par incrément d'une valeur donnée au départ.\n",
    "\n",
    "- `std::accumulate`\n",
    "\n",
    "renvoie la somme d'une fonction sur un ensemble d'éléments d'une séquence.\n",
    "\n",
    "- `std::inner_product`\n",
    "\n",
    "calcule le produit scalaire de deux ensembles d'éléments de séquences.\n",
    "\n",
    "- `std::adjacent_difference`\n",
    "\n",
    "calcule les différences entre deux éléments adjacents d'une séquence.\n",
    "\n",
    "- `std::partial_sum`\n",
    "\n",
    "calcule une somme partielle d'un ensemble d'éléments d'une séquence.\n",
    "\n",
    "### `std::iota`\n",
    "\n",
    "Cette méthode permet de remplir une séquence en incrémentant successivement une valeur de départ.\n",
    "\n",
    "Une implantation possible"
   ]
  },
  {
   "cell_type": "code",
   "execution_count": null,
   "metadata": {
    "collapsed": true
   },
   "outputs": [],
   "source": [
    "template<class ForwardIterator, class T>\n",
    "void iota(ForwardIterator first, ForwardIterator last, T value)\n",
    "{\n",
    "    while(first != last) {\n",
    "        *first++ = value;\n",
    "        ++value;\n",
    "    }\n",
    "}"
   ]
  },
  {
   "cell_type": "markdown",
   "metadata": {},
   "source": [
    "Imaginons que nous voulions intitialiser un vecteur par les points d'un intervale $[0, 1]$ equi répartis d'une distance de $0.1$."
   ]
  },
  {
   "cell_type": "code",
   "execution_count": 6,
   "metadata": {
    "collapsed": true
   },
   "outputs": [],
   "source": [
    "std::vector<double> linspace(11);"
   ]
  },
  {
   "cell_type": "code",
   "execution_count": 7,
   "metadata": {
    "collapsed": true
   },
   "outputs": [],
   "source": [
    "std::iota(linspace.begin(), linspace.end(), 0);\n",
    "std::for_each(linspace.begin(), linspace.end(), [](auto& e){ return e *=.1;});"
   ]
  },
  {
   "cell_type": "code",
   "execution_count": 9,
   "metadata": {},
   "outputs": [
    {
     "name": "stdout",
     "output_type": "stream",
     "text": [
      "(std::vector<double> &) { 0.000000, 0.100000, 0.200000, 0.300000, 0.400000, 0.500000, 0.600000, 0.700000, 0.800000, 0.900000, 1.000000 }\n"
     ]
    }
   ],
   "source": [
    "linspace"
   ]
  },
  {
   "cell_type": "markdown",
   "metadata": {},
   "source": [
    "### `std::accumulate`\n",
    "\n",
    "Cette méthode permet de faire une somme sur les éléments d'une séquence ou d'une opération sur ces éléments. On peut donner une valeur initiale.\n",
    "\n",
    "Une implantation possible"
   ]
  },
  {
   "cell_type": "code",
   "execution_count": null,
   "metadata": {
    "collapsed": true
   },
   "outputs": [],
   "source": [
    "template<class InputIt, class T>\n",
    "T accumulate(InputIt first, InputIt last, T init)\n",
    "{\n",
    "    for (; first != last; ++first) {\n",
    "        init = init + *first;\n",
    "    }\n",
    "    return init;\n",
    "}"
   ]
  },
  {
   "cell_type": "markdown",
   "metadata": {},
   "source": [
    "Il est donc facile de calculer la somme des éléments d'une séquence."
   ]
  },
  {
   "cell_type": "code",
   "execution_count": 1,
   "metadata": {},
   "outputs": [],
   "source": [
    "std::vector<int> v(9);\n",
    "std::iota(v.begin(), v.end(), -4);"
   ]
  },
  {
   "cell_type": "code",
   "execution_count": 2,
   "metadata": {},
   "outputs": [
    {
     "name": "stdout",
     "output_type": "stream",
     "text": [
      "(std::vector<int> &) { -4, -3, -2, -1, 0, 1, 2, 3, 4 }\n"
     ]
    }
   ],
   "source": [
    "v"
   ]
  },
  {
   "cell_type": "code",
   "execution_count": 3,
   "metadata": {},
   "outputs": [
    {
     "name": "stdout",
     "output_type": "stream",
     "text": [
      "(int) 0\n"
     ]
    }
   ],
   "source": [
    "std::accumulate(v.begin(), v.end(), 0)"
   ]
  },
  {
   "cell_type": "markdown",
   "metadata": {},
   "source": [
    "Ou du produit"
   ]
  },
  {
   "cell_type": "code",
   "execution_count": 5,
   "metadata": {},
   "outputs": [
    {
     "name": "stdout",
     "output_type": "stream",
     "text": [
      "(int) 24\n"
     ]
    }
   ],
   "source": [
    "std::accumulate(v.begin()+5, v.end(), 1, std::multiplies<int>())"
   ]
  },
  {
   "cell_type": "markdown",
   "metadata": {},
   "source": [
    "### `std::inner_product`\n",
    "\n",
    "Cette méthode permet donc de faire le produit scalaire entre deux ensembles d'éléments de séquences.\n",
    "\n",
    "Une implantation possible"
   ]
  },
  {
   "cell_type": "code",
   "execution_count": null,
   "metadata": {
    "collapsed": true
   },
   "outputs": [],
   "source": [
    "template<class InputIt1, class InputIt2, class T>\n",
    "T inner_product(InputIt1 first1, InputIt1 last1,\n",
    "                InputIt2 first2, T value)\n",
    "{\n",
    "    while (first1 != last1) {\n",
    "         value = value + *first1 * *first2;\n",
    "         ++first1;\n",
    "         ++first2;\n",
    "    }\n",
    "    return value;\n",
    "}"
   ]
  },
  {
   "cell_type": "code",
   "execution_count": 1,
   "metadata": {
    "collapsed": true
   },
   "outputs": [],
   "source": [
    "std::vector<int> v1{0, 1, 2, 3};\n",
    "std::vector<int> v2{-1, 1, 1, -1};"
   ]
  },
  {
   "cell_type": "code",
   "execution_count": 2,
   "metadata": {},
   "outputs": [
    {
     "name": "stdout",
     "output_type": "stream",
     "text": [
      "(int) 0\n"
     ]
    }
   ],
   "source": [
    "std::inner_product(v1.begin(), v1.end(), v2.begin(), 0)"
   ]
  },
  {
   "cell_type": "markdown",
   "metadata": {},
   "source": [
    "Il est possible de faire des choses un peu plus compliquées en spécifiant deux opérateurs : l'un agissant entre les deux éléments et l'autre entre la valeur accumulée et le résultat de l'opération précédente."
   ]
  },
  {
   "cell_type": "markdown",
   "metadata": {},
   "source": [
    "### `std::adjacent_difference`\n",
    "\n",
    "Cette méthode calcule les différences entre deux éléments adjacents d'une séquence et stocke le résultat dans une séquence.\n",
    "\n",
    "Par exemple"
   ]
  },
  {
   "cell_type": "code",
   "execution_count": 3,
   "metadata": {
    "collapsed": true
   },
   "outputs": [],
   "source": [
    "std::vector<int> v{2, 4, 6, 8, 10, 12, 14, 16, 18, 20};\n",
    "std::adjacent_difference(v.begin(), v.end(), v.begin());"
   ]
  },
  {
   "cell_type": "code",
   "execution_count": 4,
   "metadata": {},
   "outputs": [
    {
     "name": "stdout",
     "output_type": "stream",
     "text": [
      "(std::vector<int> &) { 2, 2, 2, 2, 2, 2, 2, 2, 2, 2 }\n"
     ]
    }
   ],
   "source": [
    "v"
   ]
  },
  {
   "cell_type": "markdown",
   "metadata": {},
   "source": [
    "Ou la construction de la suite de Fibonacci."
   ]
  },
  {
   "cell_type": "code",
   "execution_count": 5,
   "metadata": {
    "collapsed": true
   },
   "outputs": [],
   "source": [
    "v = std::vector<int>(10);\n",
    "v[0] = 1;\n",
    " \n",
    "std::adjacent_difference(v.begin(), v.end() - 1, v.begin() + 1, std::plus<int>());"
   ]
  },
  {
   "cell_type": "code",
   "execution_count": 7,
   "metadata": {},
   "outputs": [
    {
     "name": "stdout",
     "output_type": "stream",
     "text": [
      "(std::vector<int> &) { 1, 1, 2, 3, 5, 8, 13, 21, 34, 55 }\n"
     ]
    }
   ],
   "source": [
    "v"
   ]
  },
  {
   "cell_type": "markdown",
   "metadata": {},
   "source": [
    "### `std::partial_sum`\n",
    "\n",
    "Cette méthode permet de faire des opérations sur un ensemble d'éléments d'une séquence en cumulant le résultat dans une séquence."
   ]
  },
  {
   "cell_type": "code",
   "execution_count": 1,
   "metadata": {},
   "outputs": [],
   "source": [
    "std::vector<int> v(10, 2);\n",
    "std::partial_sum(v.begin(), v.end(), v.begin(), std::multiplies<int>());"
   ]
  },
  {
   "cell_type": "code",
   "execution_count": 2,
   "metadata": {},
   "outputs": [
    {
     "name": "stdout",
     "output_type": "stream",
     "text": [
      "(std::vector<int> &) { 2, 4, 8, 16, 32, 64, 128, 256, 512, 1024 }\n"
     ]
    }
   ],
   "source": [
    "v"
   ]
  },
  {
   "cell_type": "code",
   "execution_count": null,
   "metadata": {
    "collapsed": true
   },
   "outputs": [],
   "source": []
  },
  {
   "cell_type": "code",
   "execution_count": 1,
   "metadata": {
    "collapsed": true,
    "slideshow": {
     "slide_type": "skip"
    }
   },
   "outputs": [
    {
     "data": {
      "text/html": [
       "<link href='http://fonts.googleapis.com/css?family=Fenix' rel='stylesheet' type='text/css'>\n",
       "<link href='http://fonts.googleapis.com/css?family=Alegreya+Sans:100,300,400,500,700,800,900,100italic,300italic,400italic,500italic,700italic,800italic,900italic' rel='stylesheet' type='text/css'>\n",
       "<link href='http://fonts.googleapis.com/css?family=Source+Code+Pro:300,400' rel='stylesheet' type='text/css'>\n",
       "<link href=\"https://fonts.googleapis.com/css?family=Oswald|Raleway\" rel=\"stylesheet\" type='text/css'> \n",
       "<style>\n",
       "\n",
       "div.input_area {\n",
       "    border-radius: 10px !important;\n",
       "    background-color: #e1e1e6 !important;\n",
       "}\n",
       ".rendered_html pre, .rendered_html code {\n",
       "    color: #47597A /*#286e92*/ !important;\n",
       "}\n",
       "\n",
       "    h1, h2, h3, h4, h5 {\n",
       "        font-family: 'Oswald', sans-serif; !important;\n",
       "        /*font-style: oblique !important;*/\n",
       "    }\n",
       "    div.text_cell_render{\n",
       "        font-family: 'Raleway', sans-serif; !important;\n",
       "        line-height: 135% !important;\n",
       "        font-size: 120% !important;\n",
       "        width:100%;/*600px;*/\n",
       "        /*margin-left:auto;*/\n",
       "        /*margin-right:auto;*/\n",
       "    }\n",
       "    .CodeMirror{\n",
       "            font-family: \"Source Code Pro\" !important;\n",
       "            font-size: 120% !important;\n",
       "    }\n",
       "    .text_cell_render p{\n",
       "        text-align: justify !important;\n",
       "    }\n",
       "    .text_cell_render h1 {\n",
       "        font-weight: 200 !important;\n",
       "        line-height: 100% !important;\n",
       "        color:#47597A !important;\n",
       "        margin-bottom: 10.em !important;\n",
       "        margin-top: 50.em !important;\n",
       "        padding-bottom: 50.em !important;\n",
       "        padding-top: 50.em !important;\n",
       "        display: block !important;\n",
       "        font-size: 300% !important;\n",
       "        text-align: center !important;\n",
       "        border-bottom: 1px solid #47597A !important;\n",
       "        border-top: 1px solid #47597A !important;\n",
       "    }\n",
       "    .text_cell_render h2 {\n",
       "        font-weight: 200 !important;\n",
       "        line-height: 100% !important;\n",
       "        color:#47597A !important;\n",
       "        margin-bottom: 0.5em !important;\n",
       "        margin-top: 0.5em !important;\n",
       "        display: block !important;\n",
       "        font-size: 200% !important;\n",
       "        border-bottom: 1px solid #47597A !important;\n",
       "    }\n",
       "    .text_cell_render h3 {\n",
       "        font-weight: 200 !important;\n",
       "        line-height: 100% !important;\n",
       "        color:#47597A !important;\n",
       "        margin-bottom: 0.5em !important;\n",
       "        margin-top: 0.5em !important;\n",
       "        display: block !important;\n",
       "        font-size: 170% !important;\n",
       "    }\n",
       "    .text_cell_render h4 {\n",
       "        font-style: italic !important;\n",
       "        font-weight: normal !important;\n",
       "        line-height: 100% !important;\n",
       "        color:#47597A !important;\n",
       "        display: block !important;\n",
       "        font-size: 130% !important;\n",
       "    }\n",
       "    .text_cell_render h5 {\n",
       "        font-weight: 200 !important;\n",
       "        line-height: 100% !important;\n",
       "        color:#47597A !important;\n",
       "        margin-bottom: 0.5em !important;\n",
       "        margin-top: 0.5em !important;\n",
       "        display: block !important;\n",
       "        font-size: 120% !important;\n",
       "    }\n",
       "    .text_cell_render ul {\n",
       "\tlist-style-type: disc !important;\n",
       "\tcolor:#47597A !important;\n",
       "    }\n",
       "    .warning{\n",
       "        color: rgb( 240, 20, 20 ) !important;\n",
       "        }\n",
       "\n",
       "    .toc-item-num {\n",
       "        display: none;\n",
       "    }\n",
       "\n",
       "    .reveal section img{\n",
       "        margin: 0px auto;\n",
       "    }\n",
       "\n",
       "    div.output_area img{\n",
       "        display: block;\n",
       "        margin: 0px auto;\n",
       "    }\n",
       "  \n",
       "</style>\n",
       "\n",
       "<script>\n",
       "MathJax.Hub.Config({\n",
       "TeX: {extensions: [\"AMSmath.js\"]\n",
       "                           },\n",
       "                tex2jax: {\n",
       "                    inlineMath: [ ['$','$'], [\"\\\\(\",\"\\\\)\"] ],\n",
       "                    displayMath: [ ['$$','$$'], [\"\\\\[\",\"\\\\]\"] ]\n",
       "                },\n",
       "                displayAlign: 'center', // Change this to 'center' to center equations.\n",
       "                \"HTML-CSS\": {\n",
       "                    styles: {'.MathJax_Display': {\"margin\": 4}}\n",
       "                }\n",
       "        });\n",
       "</script>\n"
      ],
      "text/plain": [
       "<IPython.core.display.HTML object>"
      ]
     },
     "execution_count": 39,
     "metadata": {},
     "output_type": "execute_result"
    }
   ],
   "source": [
    "// style cell: don't remove !!"
   ]
  },
  {
   "cell_type": "code",
   "execution_count": null,
   "metadata": {
    "collapsed": true
   },
   "outputs": [],
   "source": []
  }
 ],
 "metadata": {
  "kernelspec": {
   "display_name": "xeus C++14",
   "language": "",
   "name": "xeus-cling-cpp14"
  },
  "language_info": {
   "codemirror_mode": "text/x-c++src",
   "file_extension": ".cpp",
   "mimetype": "text/x-c++src",
   "name": "c++",
   "version": ""
  }
 },
 "nbformat": 4,
 "nbformat_minor": 2
}
