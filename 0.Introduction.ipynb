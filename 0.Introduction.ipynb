{
 "cells": [
  {
   "cell_type": "markdown",
   "metadata": {},
   "source": [
    "Introduction\n",
    "\n",
    "\n",
    "# Qu'est-ce qu'un algorithme\n",
    "\n",
    "Un algorithme est une méthode générale pour résoudre un type de problèmes (phrase prise sur [wikipédia](https://fr.wikipedia.org/wiki/Algorithme)). On peut le voir comme une recette de cuisine où l'on donne les ingrédients nécessaires puis chacune des étapes pour arriver au plat, au dessert, ... que l'on souhaite réaliser. Si on réitère les mêmes étapes, on arrive au même résultat.\n",
    "\n",
    "Vous l'aurez compris, il peut y avoir plein de façons de faire pour résoudre un problème. En informatique, on dit qu'un algorithme est efficace si il est réalisé en un minimum de temps et en un minimum de consommation mémoire.\n",
    "\n",
    "Tout au long de ce cours, nous verrons un ensemble d'algorithmes assez classiques permettant de résoudre des problèmes en calcul scientifique.\n",
    "\n",
    "# Qu'est-ce qu'un programme\n",
    "\n",
    "Toujours sur [wikipedia](https://fr.wikipedia.org/wiki/Programme_informatique), un programme informatique est un ensemble d'opérations destinées à être exécutées par un ordinateur.\n",
    "\n",
    "- Un programme source est un code écrit par un informaticien dans un langage de programmation. Il peut être compilé vers une forme binaire, ou directement interprété.\n",
    "- Un programme binaire décrit les instructions à exécuter par un microprocesseur sous forme numérique. Ces instructions définissent un langage machine.\n",
    "\n",
    "Nous nous intéresserons dans la suite à un programme source sauf si vous savez parfaitement parler le langage binaire (suite de 0 et de 1). Le langage de programmation permet d'avoir une syntaxe lisible par le programmeur. Celui-ci suit un certain nombre de règles et peut-être vu comme une langue tel que le français, l'anglais, ... Il est donc constitué d'un vocabulaire, de règles de grammaire, ... \n",
    "\n",
    "# Les différents paradigmes\n",
    "\n",
    "Il existe différents types de paradigmes. Les langages de programmation peuvent en satisfaire un ou plusieurs.\n",
    "\n",
    "Nous en listons ici quelques uns.\n",
    "\n",
    "- La programmation impérative représente les opérations en séquences d'instructions exécutées par l'ordinateur pour modifier l'état du programme.\n",
    "- La programmation fonctionnelle considère le calcul en tant qu'évaluation de fonctions mathématiques.\n",
    "- La programmation objets consiste en la définition et l'interaction de briques logicielles appelées objets.\n",
    "- ...\n",
    "\n",
    "Pour plus de détails, vous pouvez consulter cette [page](https://en.wikipedia.org/wiki/Programming_paradigm).\n",
    "\n",
    "Le langage C++ est un langage multi-paradigmes. Il est au moins impératif et objet.\n",
    "\n",
    "# Les différents langages\n",
    "\n",
    "Les langages de programmation sont en constante évolution et il y a des langages qui naissent et qui meurent sans arrêt.\n",
    "\n",
    "Dans cette [liste des langages de programmation](https://en.wikipedia.org/wiki/List_of_programming_languages), on peut constater qu'il en existe plusieurs centaines. Bien évidemment, leur popularité varie selon les âges.\n",
    "\n",
    "![tiobe](figures/tiobe.png)\n",
    "\n",
    "Les résultats de ce graphiques sont obtenus en effectuant la recherche"
   ]
  },
  {
   "cell_type": "code",
   "execution_count": null,
   "metadata": {
    "collapsed": true
   },
   "outputs": [],
   "source": [
    "+\"<language> programming\""
   ]
  },
  {
   "cell_type": "markdown",
   "metadata": {},
   "source": [
    "sur 25 moteurs de recherche ([pour plus d'informations](https://www.tiobe.com/tiobe-index//programming-languages-definition/))."
   ]
  },
  {
   "cell_type": "markdown",
   "metadata": {},
   "source": [
    "# Le C++ moderne\n",
    "\n",
    "Le langage de programmation de ce cours est le C++ moderne. Ce choix n'a pas été fait au hasard. Depuis un certain nombre d'années, le langage qui vous était présenté était le C (langage encore très utilisé et qui est par exemple le langage de programmation utilisé pour le noyau linux). Le langage C++ a fait d'énormes progrès cette décennie et devient donc très intéressant de part ses nouvelles fonctionalités et de ses performances. De plus, un comité a été mis en place pour définir le standard du langage en s'obligeant à améliorer le standard tous les trois ans. Cette réforme du langage a commencé avec C++11 et nous avons maintenant C++14 et C++17 (qui vient tout juste de sortir). C++20 est déjà en cours de discussions et d'élaboration. Ceci assure que le langage va évoluer, offrant des fonctionnalités de plus en plus intéressantes.\n",
    "\n",
    "Vous verrez de nombreux cours sur le C++ sur internet. Mais attention, nous ne verrons pas ici l'ancien C++ mais celui qu'on appelle aujourd'hui \"modern C++\" qui commence à partir de la version C++11.\n",
    "\n",
    "Un peu d'histoire\n",
    "\n",
    "- 1978 Bjarne Stroustrup travaille sur Simula67 qui s’avére peu efficace\n",
    "- 1980 Démarrage du projet C with Classes, du C orienté objet compilé via CFront.\n",
    "- 1983 C with Classes devient C++\n",
    "- 1985 Parution de The C++ Programming Language\n",
    "- 1998 Première standarisation de C++ : ISO/IEC 14882 :1998\n",
    "- 2005 Parution du C++ Technical Report 1 qui deviendra C++0x\n",
    "- 2011 Ratification de C++0x sous le nom C++11\n",
    "- 2014 Ratification de C++14\n",
    "- 2017 Ratification de C++17\n",
    "- 2020,... Prochaines milestones du langage"
   ]
  },
  {
   "cell_type": "code",
   "execution_count": null,
   "metadata": {
    "collapsed": true
   },
   "outputs": [],
   "source": []
  }
 ],
 "metadata": {
  "kernelspec": {
   "display_name": "C++14",
   "language": "",
   "name": "cling-cpp14"
  },
  "language_info": {
   "codemirror_mode": "text/x-c++src",
   "file_extension": ".c++",
   "mimetype": " text/x-c++src",
   "name": "c++"
  }
 },
 "nbformat": 4,
 "nbformat_minor": 2
}
